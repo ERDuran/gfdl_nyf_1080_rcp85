{
 "cells": [
  {
   "cell_type": "code",
   "execution_count": 1,
   "metadata": {},
   "outputs": [],
   "source": [
    "import os\n",
    "# numerical computing package\n",
    "import numpy as np\n",
    "# \n",
    "from scipy import stats\n",
    "# command style functions that make matplotlib work like MATLAB\n",
    "import matplotlib.pyplot as plt\n",
    "# matplotlib\n",
    "import matplotlib\n",
    "# find nearest value\n",
    "def find_nearest_index(array, value):\n",
    "    return (np.abs(array - value)).argmin()\n",
    "#\n",
    "import sys\n",
    "#\n",
    "import pickle\n",
    "#\n",
    "import xarray as xr\n",
    "#\n",
    "from glob import glob as gb\n",
    "#\n",
    "import time\n",
    "#\n",
    "import cartopy.crs as ccrs\n",
    "#\n",
    "from copy import deepcopy as cp\n",
    "\n",
    "def arange(start,end,stride=1):\n",
    "    return np.arange(start,end+0.00000001,stride)"
   ]
  },
  {
   "cell_type": "code",
   "execution_count": 5,
   "metadata": {},
   "outputs": [
    {
     "data": {
      "application/javascript": [
       "IPython.notebook.kernel.execute('nb_name = ' + '\"' + IPython.notebook.notebook_name + '\"')\n"
      ],
      "text/plain": [
       "<IPython.core.display.Javascript object>"
      ]
     },
     "metadata": {},
     "output_type": "display_data"
    }
   ],
   "source": [
    "%%javascript\n",
    "IPython.notebook.kernel.execute('nb_name = ' + '\"' + IPython.notebook.notebook_name + '\"')"
   ]
  },
  {
   "cell_type": "code",
   "execution_count": 6,
   "metadata": {},
   "outputs": [
    {
     "name": "stdout",
     "output_type": "stream",
     "text": [
      "/home/561/erd561/mom/gfdl_nyf_1080_rcp85\r\n"
     ]
    }
   ],
   "source": [
    "!pwd"
   ]
  },
  {
   "cell_type": "code",
   "execution_count": 7,
   "metadata": {},
   "outputs": [
    {
     "name": "stdout",
     "output_type": "stream",
     "text": [
      "Figures will be saved in: /home/561/erd561/figures/SAMexp/t14_line_plot\n",
      "\n"
     ]
    }
   ],
   "source": [
    "figures_path = '/home/561/erd561/figures/SAMexp/'\n",
    "script_name = nb_name[:-6]\n",
    "print('Figures will be saved in: ' + figures_path + script_name + '\\n')\n",
    "\n",
    "nyf_path = '/g/data/v45/pas561/mom/archive/gfdl_nyf_1080/'\n",
    "ctrl_path = '/g/data/e14/erd561/mom/gfdl_nyf_1080_hist_5069/archive/'\n",
    "hist5069_path = '/g/data/e14/erd561/mom/gfdl_nyf_1080_hist_5069/archive/'\n",
    "rcp85_path = '/g/data/e14/erd561/mom/gfdl_nyf_1080_rcp85/archive/'"
   ]
  },
  {
   "cell_type": "code",
   "execution_count": 8,
   "metadata": {},
   "outputs": [
    {
     "name": "stdout",
     "output_type": "stream",
     "text": [
      "<Client: 'tcp://127.0.0.1:36676' processes=4 threads=8, memory=33.67 GB>\n",
      "CPU times: user 568 ms, sys: 116 ms, total: 684 ms\n",
      "Wall time: 2.87 s\n"
     ]
    }
   ],
   "source": [
    "%%time\n",
    "\n",
    "from dask.distributed import Client\n",
    "c = Client()\n",
    "print(c)"
   ]
  },
  {
   "cell_type": "code",
   "execution_count": 9,
   "metadata": {},
   "outputs": [
    {
     "name": "stdout",
     "output_type": "stream",
     "text": [
      "[ 0  1  2  3  4  5  6  7  8  9 10 11 12 13 14 15 16 17 18 19]\n",
      "20\n",
      "/g/data/e14/erd561/mom/gfdl_nyf_1080_hist_5069/archive/output521/ocean_month.nc\n",
      "/g/data/e14/erd561/mom/gfdl_nyf_1080_hist_5069/archive/output521/ocean_month.nc\n",
      "/g/data/e14/erd561/mom/gfdl_nyf_1080_hist_5069/archive/output522/ocean_month.nc\n",
      "/g/data/e14/erd561/mom/gfdl_nyf_1080_hist_5069/archive/output522/ocean_month.nc\n",
      "/g/data/e14/erd561/mom/gfdl_nyf_1080_hist_5069/archive/output523/ocean_month.nc\n",
      "/g/data/e14/erd561/mom/gfdl_nyf_1080_hist_5069/archive/output523/ocean_month.nc\n",
      "/g/data/e14/erd561/mom/gfdl_nyf_1080_hist_5069/archive/output524/ocean_month.nc\n",
      "/g/data/e14/erd561/mom/gfdl_nyf_1080_hist_5069/archive/output524/ocean_month.nc\n",
      "/g/data/e14/erd561/mom/gfdl_nyf_1080_hist_5069/archive/output525/ocean_month.nc\n",
      "/g/data/e14/erd561/mom/gfdl_nyf_1080_hist_5069/archive/output525/ocean_month.nc\n",
      "/g/data/e14/erd561/mom/gfdl_nyf_1080_hist_5069/archive/output526/ocean_month.nc\n",
      "/g/data/e14/erd561/mom/gfdl_nyf_1080_hist_5069/archive/output526/ocean_month.nc\n",
      "/g/data/e14/erd561/mom/gfdl_nyf_1080_hist_5069/archive/output527/ocean_month.nc\n",
      "/g/data/e14/erd561/mom/gfdl_nyf_1080_hist_5069/archive/output527/ocean_month.nc\n",
      "/g/data/e14/erd561/mom/gfdl_nyf_1080_hist_5069/archive/output528/ocean_month.nc\n",
      "/g/data/e14/erd561/mom/gfdl_nyf_1080_hist_5069/archive/output528/ocean_month.nc\n",
      "/g/data/e14/erd561/mom/gfdl_nyf_1080_hist_5069/archive/output529/ocean_month.nc\n",
      "/g/data/e14/erd561/mom/gfdl_nyf_1080_hist_5069/archive/output529/ocean_month.nc\n",
      "/g/data/e14/erd561/mom/gfdl_nyf_1080_hist_5069/archive/output530/ocean_month.nc\n",
      "/g/data/e14/erd561/mom/gfdl_nyf_1080_hist_5069/archive/output530/ocean_month.nc\n",
      "/g/data/e14/erd561/mom/gfdl_nyf_1080_rcp85/archive/output596/ocean_month.nc\n",
      "/g/data/e14/erd561/mom/gfdl_nyf_1080_rcp85/archive/output596/ocean_month.nc\n",
      "/g/data/e14/erd561/mom/gfdl_nyf_1080_rcp85/archive/output597/ocean_month.nc\n",
      "/g/data/e14/erd561/mom/gfdl_nyf_1080_rcp85/archive/output597/ocean_month.nc\n",
      "/g/data/e14/erd561/mom/gfdl_nyf_1080_rcp85/archive/output598/ocean_month.nc\n",
      "/g/data/e14/erd561/mom/gfdl_nyf_1080_rcp85/archive/output598/ocean_month.nc\n",
      "/g/data/e14/erd561/mom/gfdl_nyf_1080_rcp85/archive/output599/ocean_month.nc\n",
      "/g/data/e14/erd561/mom/gfdl_nyf_1080_rcp85/archive/output599/ocean_month.nc\n",
      "/g/data/e14/erd561/mom/gfdl_nyf_1080_rcp85/archive/output600/ocean_month.nc\n",
      "/g/data/e14/erd561/mom/gfdl_nyf_1080_rcp85/archive/output600/ocean_month.nc\n",
      "/g/data/e14/erd561/mom/gfdl_nyf_1080_rcp85/archive/output601/ocean_month.nc\n",
      "/g/data/e14/erd561/mom/gfdl_nyf_1080_rcp85/archive/output601/ocean_month.nc\n",
      "/g/data/e14/erd561/mom/gfdl_nyf_1080_rcp85/archive/output602/ocean_month.nc\n",
      "/g/data/e14/erd561/mom/gfdl_nyf_1080_rcp85/archive/output602/ocean_month.nc\n",
      "/g/data/e14/erd561/mom/gfdl_nyf_1080_rcp85/archive/output603/ocean_month.nc\n",
      "/g/data/e14/erd561/mom/gfdl_nyf_1080_rcp85/archive/output603/ocean_month.nc\n",
      "/g/data/e14/erd561/mom/gfdl_nyf_1080_rcp85/archive/output604/ocean_month.nc\n",
      "/g/data/e14/erd561/mom/gfdl_nyf_1080_rcp85/archive/output604/ocean_month.nc\n",
      "/g/data/e14/erd561/mom/gfdl_nyf_1080_rcp85/archive/output605/ocean_month.nc\n",
      "/g/data/e14/erd561/mom/gfdl_nyf_1080_rcp85/archive/output605/ocean_month.nc\n"
     ]
    }
   ],
   "source": [
    "# ice_daily, ice_month, ocean_bgc_2d, ocean_bgc_carbon, ocean_bgc_daily,\n",
    "# ocean_bgc_npzd, ocean_cfc, ocean_force, ocean_global, ocean_month, ocean_surface\n",
    "\n",
    "# nyf_years = np.arange(477, 487)\n",
    "ctrl_years = np.arange(521, 531)\n",
    "# hist5069_years = np.arange(501, 576)\n",
    "rcp85_years = np.arange(596, 606)\n",
    "\n",
    "# nyf_years_len = len(nyf_years)\n",
    "ctrl_years_len = len(ctrl_years)\n",
    "# hist5069_years_len = len(hist5069_years)\n",
    "rcp85_years_len = len(rcp85_years)\n",
    "\n",
    "years = np.concatenate([\n",
    "    np.arange(0, ctrl_years_len+1), \n",
    "    np.arange(ctrl_years_len+1, ctrl_years_len + rcp85_years_len)])\n",
    "print(years)\n",
    "print(len(years))\n",
    "\n",
    "# 1. SST\n",
    "var1 = 'ice_month'\n",
    "path1 = []\n",
    "\n",
    "# 2. tx and ty trans\n",
    "var21 = 'ocean'\n",
    "var22 = 'ocean_month'\n",
    "path2 = []\n",
    "\n",
    "# var31 = 'ocean'\n",
    "# var32 = 'ocean_month'\n",
    "# path3 = []\n",
    "\n",
    "# for y in nyf_years:\n",
    "#     path1.append(nyf_path + 'output' + str(y) + '/' + var21 + '.nc')\n",
    "#     path2.append(nyf_path + 'output' + str(y) + '/' + var21 + '.nc')\n",
    "# #     path3.append(remote_path_ctrl + 'output' + str(y) + '/' + var31 + '.nc')\n",
    "\n",
    "for y in ctrl_years:\n",
    "    path1.append(ctrl_path + 'output' + str(y) + '/' + var22 + '.nc')\n",
    "    path2.append(ctrl_path + 'output' + str(y) + '/' + var22 + '.nc')\n",
    "#     path3.append(remote_path + 'output' + str(y) + '/' + var32 + '.nc')\n",
    "\n",
    "for y in rcp85_years:\n",
    "    path1.append(rcp85_path + 'output' + str(y) + '/' + var22 + '.nc')\n",
    "    path2.append(rcp85_path + 'output' + str(y) + '/' + var22 + '.nc')\n",
    "#     path3.append(remote_path + 'output' + str(y) + '/' + var32 + '.nc')\n",
    "\n",
    "\n",
    "for p1,p2 in zip(path1,path2):\n",
    "    print(p1)\n",
    "    print(p2)\n",
    "#     print(p3)\n"
   ]
  },
  {
   "cell_type": "code",
   "execution_count": 10,
   "metadata": {},
   "outputs": [
    {
     "name": "stderr",
     "output_type": "stream",
     "text": [
      "/g/data3/hh5/public/apps/miniconda3/envs/analysis3-19.07/lib/python3.6/site-packages/xarray/core/nanops.py:140: RuntimeWarning: Mean of empty slice\n",
      "  return np.nanmean(a, axis=axis, dtype=dtype)\n"
     ]
    },
    {
     "name": "stdout",
     "output_type": "stream",
     "text": [
      "/g/data/e14/erd561/mom/gfdl_nyf_1080_hist_5069/archive/output521/ocean_month.nc OK\n",
      "/g/data/e14/erd561/mom/gfdl_nyf_1080_hist_5069/archive/output522/ocean_month.nc OK\n",
      "/g/data/e14/erd561/mom/gfdl_nyf_1080_hist_5069/archive/output523/ocean_month.nc OK\n",
      "/g/data/e14/erd561/mom/gfdl_nyf_1080_hist_5069/archive/output524/ocean_month.nc OK\n",
      "/g/data/e14/erd561/mom/gfdl_nyf_1080_hist_5069/archive/output525/ocean_month.nc OK\n",
      "/g/data/e14/erd561/mom/gfdl_nyf_1080_hist_5069/archive/output526/ocean_month.nc OK\n",
      "/g/data/e14/erd561/mom/gfdl_nyf_1080_hist_5069/archive/output527/ocean_month.nc OK\n",
      "/g/data/e14/erd561/mom/gfdl_nyf_1080_hist_5069/archive/output528/ocean_month.nc OK\n",
      "/g/data/e14/erd561/mom/gfdl_nyf_1080_hist_5069/archive/output529/ocean_month.nc OK\n",
      "/g/data/e14/erd561/mom/gfdl_nyf_1080_hist_5069/archive/output530/ocean_month.nc OK\n",
      "/g/data/e14/erd561/mom/gfdl_nyf_1080_rcp85/archive/output596/ocean_month.nc OK\n",
      "/g/data/e14/erd561/mom/gfdl_nyf_1080_rcp85/archive/output597/ocean_month.nc OK\n",
      "/g/data/e14/erd561/mom/gfdl_nyf_1080_rcp85/archive/output598/ocean_month.nc OK\n",
      "/g/data/e14/erd561/mom/gfdl_nyf_1080_rcp85/archive/output599/ocean_month.nc OK\n",
      "/g/data/e14/erd561/mom/gfdl_nyf_1080_rcp85/archive/output600/ocean_month.nc OK\n",
      "/g/data/e14/erd561/mom/gfdl_nyf_1080_rcp85/archive/output601/ocean_month.nc OK\n",
      "/g/data/e14/erd561/mom/gfdl_nyf_1080_rcp85/archive/output602/ocean_month.nc OK\n",
      "/g/data/e14/erd561/mom/gfdl_nyf_1080_rcp85/archive/output603/ocean_month.nc OK\n",
      "/g/data/e14/erd561/mom/gfdl_nyf_1080_rcp85/archive/output604/ocean_month.nc OK\n",
      "/g/data/e14/erd561/mom/gfdl_nyf_1080_rcp85/archive/output605/ocean_month.nc OK\n",
      "CPU times: user 58.6 s, sys: 7.53 s, total: 1min 6s\n",
      "Wall time: 1min 32s\n"
     ]
    }
   ],
   "source": [
    "%%time\n",
    "\n",
    "lon = [145-360, 165-360]\n",
    "lat = [-80, -20]\n",
    "\n",
    "for p1,p2,y in zip(path1, path2, arange(0,20)):\n",
    "    if p1 == path1[0]:\n",
    "        tx_trans = \\\n",
    "                xr.open_dataset(p2, decode_times=False).\\\n",
    "                tx_trans.\\\n",
    "                sel(xu_ocean=slice(lon[0], lon[1])).\\\n",
    "                sel(yt_ocean=slice(lat[0], lat[1])).\\\n",
    "                mean(dim='time').assign_coords(year=y)\n",
    "        \n",
    "    else:\n",
    "        tx_trans = \\\n",
    "            xr.concat([\n",
    "                tx_trans,\n",
    "                xr.open_dataset(p2, decode_times=False).\\\n",
    "                tx_trans.\\\n",
    "                sel(xu_ocean=slice(lon[0], lon[1])).\\\n",
    "                sel(yt_ocean=slice(lat[0], lat[1])).\\\n",
    "                mean(dim='time').assign_coords(year=y)\n",
    "            ], 'year'\n",
    "            )\n",
    "        \n",
    "    print(str(p1) + ' OK')\n",
    "\n",
    "xu_ocean = tx_trans.xu_ocean\n",
    "xu_ocean_corrected = xu_ocean + 360\n",
    "\n",
    "tx_trans = tx_trans.assign_coords(xu_ocean=xu_ocean_corrected)\n",
    "\n",
    "tx_trans = tx_trans.assign_coords(year=years)"
   ]
  },
  {
   "cell_type": "code",
   "execution_count": 11,
   "metadata": {},
   "outputs": [],
   "source": [
    "# SST_hist5069 = SST.sel(year=slice(0,9)).mean(dim='year')\n",
    "# SST_rcp85 = SST.sel(year=slice(10,19)).mean(dim='year')\n",
    "\n",
    "# pme_river_hist5069 = pme_river.sel(year=slice(0,9)).mean(dim='year')\n",
    "# pme_river_rcp85 = pme_river.sel(year=slice(10,19)).mean(dim='year')\n",
    "\n",
    "tx_trans_hist5069 = tx_trans.sel(year=slice(0,9)).mean(dim='year').cumsum('yt_ocean').sum(dim='st_ocean')\n",
    "tx_trans_rcp85 = tx_trans.sel(year=slice(10,19)).mean(dim='year').cumsum('yt_ocean').sum(dim='st_ocean')\n",
    "\n",
    "mask = tx_trans.sel(year=0, method='nearest').sel(st_ocean=0, method='nearest')\n",
    "tx_trans_hist5069 = tx_trans_hist5069.where(np.isfinite(mask), np.nan)\n",
    "tx_trans_rcp85 = tx_trans_rcp85.where(np.isfinite(mask), np.nan)\n",
    "\n",
    "# ekman_heat_hist5069 = ekman_heat.sel(year=slice(0,9)).mean(dim='year')/1000\n",
    "# ekman_heat_rcp85 = ekman_heat.sel(year=slice(10,19)).mean(dim='year')/1000\n",
    "\n",
    "# u_hist5069 = u.sel(year=slice(0,9)).mean(dim='year')\n",
    "# u_rcp85 = u.sel(year=slice(10,19)).mean(dim='year')\n",
    "\n",
    "# v_hist5069 = v.sel(year=slice(0,9)).mean(dim='year')\n",
    "# v_rcp85 = v.sel(year=slice(10,19)).mean(dim='year')"
   ]
  },
  {
   "cell_type": "code",
   "execution_count": 12,
   "metadata": {},
   "outputs": [
    {
     "name": "stdout",
     "output_type": "stream",
     "text": [
      "/g/data/e14/erd561/mom/gfdl_nyf_1080_hist_5069/archive/output521/ocean_month.nc OK\n",
      "/g/data/e14/erd561/mom/gfdl_nyf_1080_hist_5069/archive/output522/ocean_month.nc OK\n",
      "/g/data/e14/erd561/mom/gfdl_nyf_1080_hist_5069/archive/output523/ocean_month.nc OK\n",
      "/g/data/e14/erd561/mom/gfdl_nyf_1080_hist_5069/archive/output524/ocean_month.nc OK\n",
      "/g/data/e14/erd561/mom/gfdl_nyf_1080_hist_5069/archive/output525/ocean_month.nc OK\n",
      "/g/data/e14/erd561/mom/gfdl_nyf_1080_hist_5069/archive/output526/ocean_month.nc OK\n",
      "/g/data/e14/erd561/mom/gfdl_nyf_1080_hist_5069/archive/output527/ocean_month.nc OK\n",
      "/g/data/e14/erd561/mom/gfdl_nyf_1080_hist_5069/archive/output528/ocean_month.nc OK\n",
      "/g/data/e14/erd561/mom/gfdl_nyf_1080_hist_5069/archive/output529/ocean_month.nc OK\n",
      "/g/data/e14/erd561/mom/gfdl_nyf_1080_hist_5069/archive/output530/ocean_month.nc OK\n",
      "/g/data/e14/erd561/mom/gfdl_nyf_1080_rcp85/archive/output596/ocean_month.nc OK\n",
      "/g/data/e14/erd561/mom/gfdl_nyf_1080_rcp85/archive/output597/ocean_month.nc OK\n",
      "/g/data/e14/erd561/mom/gfdl_nyf_1080_rcp85/archive/output598/ocean_month.nc OK\n",
      "/g/data/e14/erd561/mom/gfdl_nyf_1080_rcp85/archive/output599/ocean_month.nc OK\n",
      "/g/data/e14/erd561/mom/gfdl_nyf_1080_rcp85/archive/output600/ocean_month.nc OK\n",
      "/g/data/e14/erd561/mom/gfdl_nyf_1080_rcp85/archive/output601/ocean_month.nc OK\n",
      "/g/data/e14/erd561/mom/gfdl_nyf_1080_rcp85/archive/output602/ocean_month.nc OK\n",
      "/g/data/e14/erd561/mom/gfdl_nyf_1080_rcp85/archive/output603/ocean_month.nc OK\n",
      "/g/data/e14/erd561/mom/gfdl_nyf_1080_rcp85/archive/output604/ocean_month.nc OK\n",
      "/g/data/e14/erd561/mom/gfdl_nyf_1080_rcp85/archive/output605/ocean_month.nc OK\n",
      "CPU times: user 30.7 s, sys: 3.45 s, total: 34.1 s\n",
      "Wall time: 51.1 s\n"
     ]
    }
   ],
   "source": [
    "%%time\n",
    "\n",
    "lon = [-71, -69]\n",
    "lat = [-80, -54]\n",
    "\n",
    "for p1,p2,y in zip(path1, path2, arange(0,20)):\n",
    "    if p1 == path1[0]:\n",
    "        tx_trans_DP = \\\n",
    "                xr.open_dataset(p2, decode_times=False).\\\n",
    "                tx_trans.\\\n",
    "                sel(xu_ocean=slice(lon[0], lon[1])).\\\n",
    "                sel(yt_ocean=slice(lat[0], lat[1])).\\\n",
    "                sum(dim='st_ocean').\\\n",
    "                cumsum('yt_ocean').\\\n",
    "                mean(dim='time').assign_coords(year=y)\n",
    "        \n",
    "    else:\n",
    "        tx_trans_DP = \\\n",
    "            xr.concat([\n",
    "                tx_trans_DP,\n",
    "                xr.open_dataset(p2, decode_times=False).\\\n",
    "                tx_trans.\\\n",
    "                sel(xu_ocean=slice(lon[0], lon[1])).\\\n",
    "                sel(yt_ocean=slice(lat[0], lat[1])).\\\n",
    "                sum(dim='st_ocean').\\\n",
    "                cumsum('yt_ocean').\\\n",
    "                mean(dim='time').assign_coords(year=y)\n",
    "            ], 'year'\n",
    "            )\n",
    "        \n",
    "    print(str(p1) + ' OK')\n",
    "    \n",
    "tx_trans_DP = tx_trans_DP.assign_coords(year=years)\n",
    "\n",
    "tx_trans_DP_hist5069 = tx_trans_DP.max(dim='yt_ocean').mean(dim='xu_ocean').sel(year=slice(0,9)).mean(dim='year')\n",
    "tx_trans_DP_rcp85 = tx_trans_DP.max(dim='yt_ocean').mean(dim='xu_ocean').sel(year=slice(10,19)).mean(dim='year')"
   ]
  },
  {
   "cell_type": "code",
   "execution_count": 14,
   "metadata": {},
   "outputs": [
    {
     "data": {
      "image/png": "[encoded data removed]",
      "text/plain": [
       "<Figure size 432x432 with 1 Axes>"
      ]
     },
     "metadata": {
      "needs_background": "light"
     },
     "output_type": "display_data"
    }
   ],
   "source": [
    "fig = plt.figure() \n",
    "fig.set_size_inches(6,6)\n",
    "\n",
    "matplotlib.rcParams.update({'font.size': 10}) \n",
    "\n",
    "anom = -(-tx_trans_hist5069 + tx_trans_DP_hist5069)\n",
    "plt.plot(anom.sel(yt_ocean=slice(-40,-25)).max('xu_ocean'), \n",
    "         anom.sel(yt_ocean=slice(-40,-25)).yt_ocean, 'b')\n",
    "\n",
    "anom = -(-tx_trans_rcp85 + tx_trans_DP_hist5069)\n",
    "plt.plot(anom.sel(yt_ocean=slice(-40,-25)).max('xu_ocean'), \n",
    "         anom.sel(yt_ocean=slice(-40,-25)).yt_ocean, 'r')\n",
    "\n",
    "plt.legend(['CMIP5 historical winds exp.', \n",
    "            'CMIP5 21$^{st}$ Century winds exp.'])\n",
    "\n",
    "# plt.title('Maximum southward barotropic transport\\nin the Tasman Sea ' + \n",
    "#           'between $145^{\\circ}E$ and $165^{\\circ}E$', loc='left')\n",
    "plt.xlabel('Magnitude of maximum barotropic streamfunction ($Sv$)')\n",
    "plt.ylabel('Latitude ($^{\\circ}N$)')\n",
    "plt.ylim([-40, -25])\n",
    "plt.grid()\n",
    "\n",
    "output_ls = os.listdir(figures_path)\n",
    "if not script_name:\n",
    "    script_name = 'test'\n",
    "elif script_name not in output_ls:\n",
    "    os.mkdir(figures_path + '/' + script_name)\n",
    "plt.savefig(figures_path + '/' + script_name + '/' + script_name[0:3] \\\n",
    "            + '_fig1_.png', bbox_inches='tight', dpi=300)"
   ]
  }
 ],
 "metadata": {
  "kernelspec": {
   "display_name": "Python [conda env:analysis3-19.07] *",
   "language": "python",
   "name": "conda-env-analysis3-19.07-py"
  },
  "language_info": {
   "codemirror_mode": {
    "name": "ipython",
    "version": 3
   },
   "file_extension": ".py",
   "mimetype": "text/x-python",
   "name": "python",
   "nbconvert_exporter": "python",
   "pygments_lexer": "ipython3",
   "version": "3.6.7"
  }
 },
 "nbformat": 4,
 "nbformat_minor": 2
}
