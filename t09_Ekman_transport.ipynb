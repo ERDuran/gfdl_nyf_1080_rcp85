{
 "cells": [
  {
   "cell_type": "code",
   "execution_count": 1,
   "metadata": {},
   "outputs": [],
   "source": [
    "import os\n",
    "# numerical computing package\n",
    "import numpy as np\n",
    "# \n",
    "from scipy import stats\n",
    "# command style functions that make matplotlib work like MATLAB\n",
    "import matplotlib.pyplot as plt\n",
    "# matplotlib\n",
    "import matplotlib\n",
    "# find nearest value\n",
    "def find_nearest_index(array, value):\n",
    "    return (np.abs(array - value)).argmin()\n",
    "#\n",
    "import sys\n",
    "#\n",
    "import pickle\n",
    "#\n",
    "import xarray as xr\n",
    "#\n",
    "from glob import glob as gb\n",
    "#\n",
    "import time\n",
    "#\n",
    "import cartopy.crs as ccrs\n",
    "#\n",
    "from copy import deepcopy as cp"
   ]
  },
  {
   "cell_type": "code",
   "execution_count": 2,
   "metadata": {},
   "outputs": [
    {
     "data": {
      "application/javascript": [
       "IPython.notebook.kernel.execute('nb_name = ' + '\"' + IPython.notebook.notebook_name + '\"')\n"
      ],
      "text/plain": [
       "<IPython.core.display.Javascript object>"
      ]
     },
     "metadata": {},
     "output_type": "display_data"
    }
   ],
   "source": [
    "%%javascript\n",
    "IPython.notebook.kernel.execute('nb_name = ' + '\"' + IPython.notebook.notebook_name + '\"')"
   ]
  },
  {
   "cell_type": "code",
   "execution_count": 3,
   "metadata": {},
   "outputs": [
    {
     "name": "stdout",
     "output_type": "stream",
     "text": [
      "/home/561/erd561/mom/gfdl_nyf_1080_rcp85\r\n"
     ]
    }
   ],
   "source": [
    "!pwd"
   ]
  },
  {
   "cell_type": "code",
   "execution_count": 4,
   "metadata": {},
   "outputs": [
    {
     "name": "stdout",
     "output_type": "stream",
     "text": [
      "Figures will be saved in: /home/561/erd561/figures/SAMexp/t09_Ekman_transport\n",
      "\n"
     ]
    }
   ],
   "source": [
    "figures_path = '/home/561/erd561/figures/SAMexp/'\n",
    "script_name = nb_name[:-6]\n",
    "print('Figures will be saved in: ' + figures_path + script_name + '\\n')\n",
    "\n",
    "nyf_path = '/g/data/v45/pas561/mom/archive/gfdl_nyf_1080/'\n",
    "ctrl_path = '/g/data/e14/erd561/mom/gfdl_nyf_1080_hist_5069/archive/'\n",
    "hist5069_path = '/g/data/e14/erd561/mom/gfdl_nyf_1080_hist_5069/archive/'\n",
    "rcp85_path = '/g/data/e14/erd561/mom/gfdl_nyf_1080_rcp85/archive/'"
   ]
  },
  {
   "cell_type": "code",
   "execution_count": 5,
   "metadata": {},
   "outputs": [
    {
     "name": "stdout",
     "output_type": "stream",
     "text": [
      "<Client: scheduler='tcp://127.0.0.1:41482' processes=4 cores=8>\n",
      "CPU times: user 753 ms, sys: 177 ms, total: 930 ms\n",
      "Wall time: 7.21 s\n"
     ]
    }
   ],
   "source": [
    "%%time\n",
    "\n",
    "from dask.distributed import Client\n",
    "c = Client()\n",
    "print(c)"
   ]
  },
  {
   "cell_type": "code",
   "execution_count": 6,
   "metadata": {},
   "outputs": [
    {
     "name": "stdout",
     "output_type": "stream",
     "text": [
      "[-9 -8 -7 -6 -5 -4 -3 -2 -1  0  1  2  3  4  5  6  7  8  9 10 11 12 13 14\n",
      " 15 16 17 18 19 20]\n",
      "30\n",
      "/g/data/v45/pas561/mom/archive/gfdl_nyf_1080/output477/ocean.nc\n",
      "/g/data/v45/pas561/mom/archive/gfdl_nyf_1080/output477/ocean.nc\n",
      "/g/data/v45/pas561/mom/archive/gfdl_nyf_1080/output478/ocean.nc\n",
      "/g/data/v45/pas561/mom/archive/gfdl_nyf_1080/output478/ocean.nc\n",
      "/g/data/v45/pas561/mom/archive/gfdl_nyf_1080/output479/ocean.nc\n",
      "/g/data/v45/pas561/mom/archive/gfdl_nyf_1080/output479/ocean.nc\n",
      "/g/data/v45/pas561/mom/archive/gfdl_nyf_1080/output480/ocean.nc\n",
      "/g/data/v45/pas561/mom/archive/gfdl_nyf_1080/output480/ocean.nc\n",
      "/g/data/v45/pas561/mom/archive/gfdl_nyf_1080/output481/ocean.nc\n",
      "/g/data/v45/pas561/mom/archive/gfdl_nyf_1080/output481/ocean.nc\n",
      "/g/data/v45/pas561/mom/archive/gfdl_nyf_1080/output482/ocean.nc\n",
      "/g/data/v45/pas561/mom/archive/gfdl_nyf_1080/output482/ocean.nc\n",
      "/g/data/v45/pas561/mom/archive/gfdl_nyf_1080/output483/ocean.nc\n",
      "/g/data/v45/pas561/mom/archive/gfdl_nyf_1080/output483/ocean.nc\n",
      "/g/data/v45/pas561/mom/archive/gfdl_nyf_1080/output484/ocean.nc\n",
      "/g/data/v45/pas561/mom/archive/gfdl_nyf_1080/output484/ocean.nc\n",
      "/g/data/v45/pas561/mom/archive/gfdl_nyf_1080/output485/ocean.nc\n",
      "/g/data/v45/pas561/mom/archive/gfdl_nyf_1080/output485/ocean.nc\n",
      "/g/data/v45/pas561/mom/archive/gfdl_nyf_1080/output486/ocean.nc\n",
      "/g/data/v45/pas561/mom/archive/gfdl_nyf_1080/output486/ocean.nc\n",
      "/g/data/e14/erd561/mom/gfdl_nyf_1080_hist_5069/archive/output566/ocean_month.nc\n",
      "/g/data/e14/erd561/mom/gfdl_nyf_1080_hist_5069/archive/output566/ocean_month.nc\n",
      "/g/data/e14/erd561/mom/gfdl_nyf_1080_hist_5069/archive/output567/ocean_month.nc\n",
      "/g/data/e14/erd561/mom/gfdl_nyf_1080_hist_5069/archive/output567/ocean_month.nc\n",
      "/g/data/e14/erd561/mom/gfdl_nyf_1080_hist_5069/archive/output568/ocean_month.nc\n",
      "/g/data/e14/erd561/mom/gfdl_nyf_1080_hist_5069/archive/output568/ocean_month.nc\n",
      "/g/data/e14/erd561/mom/gfdl_nyf_1080_hist_5069/archive/output569/ocean_month.nc\n",
      "/g/data/e14/erd561/mom/gfdl_nyf_1080_hist_5069/archive/output569/ocean_month.nc\n",
      "/g/data/e14/erd561/mom/gfdl_nyf_1080_hist_5069/archive/output570/ocean_month.nc\n",
      "/g/data/e14/erd561/mom/gfdl_nyf_1080_hist_5069/archive/output570/ocean_month.nc\n",
      "/g/data/e14/erd561/mom/gfdl_nyf_1080_hist_5069/archive/output571/ocean_month.nc\n",
      "/g/data/e14/erd561/mom/gfdl_nyf_1080_hist_5069/archive/output571/ocean_month.nc\n",
      "/g/data/e14/erd561/mom/gfdl_nyf_1080_hist_5069/archive/output572/ocean_month.nc\n",
      "/g/data/e14/erd561/mom/gfdl_nyf_1080_hist_5069/archive/output572/ocean_month.nc\n",
      "/g/data/e14/erd561/mom/gfdl_nyf_1080_hist_5069/archive/output573/ocean_month.nc\n",
      "/g/data/e14/erd561/mom/gfdl_nyf_1080_hist_5069/archive/output573/ocean_month.nc\n",
      "/g/data/e14/erd561/mom/gfdl_nyf_1080_hist_5069/archive/output574/ocean_month.nc\n",
      "/g/data/e14/erd561/mom/gfdl_nyf_1080_hist_5069/archive/output574/ocean_month.nc\n",
      "/g/data/e14/erd561/mom/gfdl_nyf_1080_hist_5069/archive/output575/ocean_month.nc\n",
      "/g/data/e14/erd561/mom/gfdl_nyf_1080_hist_5069/archive/output575/ocean_month.nc\n",
      "/g/data/e14/erd561/mom/gfdl_nyf_1080_rcp85/archive/output611/ocean_month.nc\n",
      "/g/data/e14/erd561/mom/gfdl_nyf_1080_rcp85/archive/output611/ocean_month.nc\n",
      "/g/data/e14/erd561/mom/gfdl_nyf_1080_rcp85/archive/output612/ocean_month.nc\n",
      "/g/data/e14/erd561/mom/gfdl_nyf_1080_rcp85/archive/output612/ocean_month.nc\n",
      "/g/data/e14/erd561/mom/gfdl_nyf_1080_rcp85/archive/output613/ocean_month.nc\n",
      "/g/data/e14/erd561/mom/gfdl_nyf_1080_rcp85/archive/output613/ocean_month.nc\n",
      "/g/data/e14/erd561/mom/gfdl_nyf_1080_rcp85/archive/output614/ocean_month.nc\n",
      "/g/data/e14/erd561/mom/gfdl_nyf_1080_rcp85/archive/output614/ocean_month.nc\n",
      "/g/data/e14/erd561/mom/gfdl_nyf_1080_rcp85/archive/output615/ocean_month.nc\n",
      "/g/data/e14/erd561/mom/gfdl_nyf_1080_rcp85/archive/output615/ocean_month.nc\n",
      "/g/data/e14/erd561/mom/gfdl_nyf_1080_rcp85/archive/output616/ocean_month.nc\n",
      "/g/data/e14/erd561/mom/gfdl_nyf_1080_rcp85/archive/output616/ocean_month.nc\n",
      "/g/data/e14/erd561/mom/gfdl_nyf_1080_rcp85/archive/output617/ocean_month.nc\n",
      "/g/data/e14/erd561/mom/gfdl_nyf_1080_rcp85/archive/output617/ocean_month.nc\n",
      "/g/data/e14/erd561/mom/gfdl_nyf_1080_rcp85/archive/output618/ocean_month.nc\n",
      "/g/data/e14/erd561/mom/gfdl_nyf_1080_rcp85/archive/output618/ocean_month.nc\n",
      "/g/data/e14/erd561/mom/gfdl_nyf_1080_rcp85/archive/output619/ocean_month.nc\n",
      "/g/data/e14/erd561/mom/gfdl_nyf_1080_rcp85/archive/output619/ocean_month.nc\n",
      "/g/data/e14/erd561/mom/gfdl_nyf_1080_rcp85/archive/output620/ocean_month.nc\n",
      "/g/data/e14/erd561/mom/gfdl_nyf_1080_rcp85/archive/output620/ocean_month.nc\n"
     ]
    }
   ],
   "source": [
    "# ice_daily, ice_month, ocean_bgc_2d, ocean_bgc_carbon, ocean_bgc_daily,\n",
    "# ocean_bgc_npzd, ocean_cfc, ocean_force, ocean_global, ocean_month, ocean_surface\n",
    "\n",
    "nyf_years = np.arange(477, 487)\n",
    "ctrl_years = np.arange(566, 576)\n",
    "# hist5069_years = np.arange(501, 576)\n",
    "rcp85_years = np.arange(611, 621)\n",
    "\n",
    "nyf_years_len = len(nyf_years)\n",
    "ctrl_years_len = len(ctrl_years)\n",
    "# hist5069_years_len = len(hist5069_years)\n",
    "rcp85_years_len = len(rcp85_years)\n",
    "\n",
    "years = np.concatenate([\n",
    "    np.arange(1-nyf_years_len, 0), \n",
    "    np.arange(0, ctrl_years_len+1), \n",
    "    np.arange(ctrl_years_len+1, ctrl_years_len+1 + rcp85_years_len)])\n",
    "print(years)\n",
    "print(len(years))\n",
    "\n",
    "# 1. SST\n",
    "var1 = 'ice_month'\n",
    "path1 = []\n",
    "\n",
    "# 2. tx and ty trans\n",
    "var21 = 'ocean'\n",
    "var22 = 'ocean_month'\n",
    "path2 = []\n",
    "\n",
    "# var31 = 'ocean'\n",
    "# var32 = 'ocean_month'\n",
    "# path3 = []\n",
    "\n",
    "for y in nyf_years:\n",
    "    path1.append(nyf_path + 'output' + str(y) + '/' + var21 + '.nc')\n",
    "    path2.append(nyf_path + 'output' + str(y) + '/' + var21 + '.nc')\n",
    "#     path3.append(remote_path_ctrl + 'output' + str(y) + '/' + var31 + '.nc')\n",
    "\n",
    "for y in ctrl_years:\n",
    "    path1.append(ctrl_path + 'output' + str(y) + '/' + var22 + '.nc')\n",
    "    path2.append(ctrl_path + 'output' + str(y) + '/' + var22 + '.nc')\n",
    "#     path3.append(remote_path + 'output' + str(y) + '/' + var32 + '.nc')\n",
    "\n",
    "for y in rcp85_years:\n",
    "    path1.append(rcp85_path + 'output' + str(y) + '/' + var22 + '.nc')\n",
    "    path2.append(rcp85_path + 'output' + str(y) + '/' + var22 + '.nc')\n",
    "#     path3.append(remote_path + 'output' + str(y) + '/' + var32 + '.nc')\n",
    "\n",
    "\n",
    "for p1,p2 in zip(path1,path2):\n",
    "    print(p1)\n",
    "    print(p2)\n",
    "#     print(p3)\n"
   ]
  },
  {
   "cell_type": "code",
   "execution_count": 7,
   "metadata": {},
   "outputs": [
    {
     "name": "stderr",
     "output_type": "stream",
     "text": [
      "/g/data3/hh5/public/apps/miniconda3/envs/analysis3-19.07/lib/python3.6/site-packages/xarray/core/nanops.py:160: RuntimeWarning: Mean of empty slice\n",
      "  return np.nanmean(a, axis=axis, dtype=dtype)\n"
     ]
    },
    {
     "name": "stdout",
     "output_type": "stream",
     "text": [
      "/g/data/v45/pas561/mom/archive/gfdl_nyf_1080/output477/ocean.nc OK\n"
     ]
    },
    {
     "name": "stderr",
     "output_type": "stream",
     "text": [
      "/g/data3/hh5/public/apps/miniconda3/envs/analysis3-19.07/lib/python3.6/site-packages/xarray/core/nanops.py:160: RuntimeWarning: Mean of empty slice\n",
      "  return np.nanmean(a, axis=axis, dtype=dtype)\n"
     ]
    },
    {
     "name": "stdout",
     "output_type": "stream",
     "text": [
      "/g/data/v45/pas561/mom/archive/gfdl_nyf_1080/output478/ocean.nc OK\n"
     ]
    },
    {
     "name": "stderr",
     "output_type": "stream",
     "text": [
      "/g/data3/hh5/public/apps/miniconda3/envs/analysis3-19.07/lib/python3.6/site-packages/xarray/core/nanops.py:160: RuntimeWarning: Mean of empty slice\n",
      "  return np.nanmean(a, axis=axis, dtype=dtype)\n"
     ]
    },
    {
     "name": "stdout",
     "output_type": "stream",
     "text": [
      "/g/data/v45/pas561/mom/archive/gfdl_nyf_1080/output479/ocean.nc OK\n"
     ]
    },
    {
     "name": "stderr",
     "output_type": "stream",
     "text": [
      "/g/data3/hh5/public/apps/miniconda3/envs/analysis3-19.07/lib/python3.6/site-packages/xarray/core/nanops.py:160: RuntimeWarning: Mean of empty slice\n",
      "  return np.nanmean(a, axis=axis, dtype=dtype)\n"
     ]
    },
    {
     "name": "stdout",
     "output_type": "stream",
     "text": [
      "/g/data/v45/pas561/mom/archive/gfdl_nyf_1080/output480/ocean.nc OK\n"
     ]
    },
    {
     "name": "stderr",
     "output_type": "stream",
     "text": [
      "/g/data3/hh5/public/apps/miniconda3/envs/analysis3-19.07/lib/python3.6/site-packages/xarray/core/nanops.py:160: RuntimeWarning: Mean of empty slice\n",
      "  return np.nanmean(a, axis=axis, dtype=dtype)\n"
     ]
    },
    {
     "name": "stdout",
     "output_type": "stream",
     "text": [
      "/g/data/v45/pas561/mom/archive/gfdl_nyf_1080/output481/ocean.nc OK\n"
     ]
    },
    {
     "name": "stderr",
     "output_type": "stream",
     "text": [
      "/g/data3/hh5/public/apps/miniconda3/envs/analysis3-19.07/lib/python3.6/site-packages/xarray/core/nanops.py:160: RuntimeWarning: Mean of empty slice\n",
      "  return np.nanmean(a, axis=axis, dtype=dtype)\n"
     ]
    },
    {
     "name": "stdout",
     "output_type": "stream",
     "text": [
      "/g/data/v45/pas561/mom/archive/gfdl_nyf_1080/output482/ocean.nc OK\n"
     ]
    },
    {
     "name": "stderr",
     "output_type": "stream",
     "text": [
      "/g/data3/hh5/public/apps/miniconda3/envs/analysis3-19.07/lib/python3.6/site-packages/xarray/core/nanops.py:160: RuntimeWarning: Mean of empty slice\n",
      "  return np.nanmean(a, axis=axis, dtype=dtype)\n"
     ]
    },
    {
     "name": "stdout",
     "output_type": "stream",
     "text": [
      "/g/data/v45/pas561/mom/archive/gfdl_nyf_1080/output483/ocean.nc OK\n"
     ]
    },
    {
     "name": "stderr",
     "output_type": "stream",
     "text": [
      "/g/data3/hh5/public/apps/miniconda3/envs/analysis3-19.07/lib/python3.6/site-packages/xarray/core/nanops.py:160: RuntimeWarning: Mean of empty slice\n",
      "  return np.nanmean(a, axis=axis, dtype=dtype)\n"
     ]
    },
    {
     "name": "stdout",
     "output_type": "stream",
     "text": [
      "/g/data/v45/pas561/mom/archive/gfdl_nyf_1080/output484/ocean.nc OK\n"
     ]
    },
    {
     "name": "stderr",
     "output_type": "stream",
     "text": [
      "/g/data3/hh5/public/apps/miniconda3/envs/analysis3-19.07/lib/python3.6/site-packages/xarray/core/nanops.py:160: RuntimeWarning: Mean of empty slice\n",
      "  return np.nanmean(a, axis=axis, dtype=dtype)\n"
     ]
    },
    {
     "name": "stdout",
     "output_type": "stream",
     "text": [
      "/g/data/v45/pas561/mom/archive/gfdl_nyf_1080/output485/ocean.nc OK\n"
     ]
    },
    {
     "name": "stderr",
     "output_type": "stream",
     "text": [
      "/g/data3/hh5/public/apps/miniconda3/envs/analysis3-19.07/lib/python3.6/site-packages/xarray/core/nanops.py:160: RuntimeWarning: Mean of empty slice\n",
      "  return np.nanmean(a, axis=axis, dtype=dtype)\n"
     ]
    },
    {
     "name": "stdout",
     "output_type": "stream",
     "text": [
      "/g/data/v45/pas561/mom/archive/gfdl_nyf_1080/output486/ocean.nc OK\n"
     ]
    },
    {
     "name": "stderr",
     "output_type": "stream",
     "text": [
      "/g/data3/hh5/public/apps/miniconda3/envs/analysis3-19.07/lib/python3.6/site-packages/xarray/core/nanops.py:160: RuntimeWarning: Mean of empty slice\n",
      "  return np.nanmean(a, axis=axis, dtype=dtype)\n"
     ]
    },
    {
     "name": "stdout",
     "output_type": "stream",
     "text": [
      "/g/data/e14/erd561/mom/gfdl_nyf_1080_hist_5069/archive/output566/ocean_month.nc OK\n"
     ]
    },
    {
     "name": "stderr",
     "output_type": "stream",
     "text": [
      "/g/data3/hh5/public/apps/miniconda3/envs/analysis3-19.07/lib/python3.6/site-packages/xarray/core/nanops.py:160: RuntimeWarning: Mean of empty slice\n",
      "  return np.nanmean(a, axis=axis, dtype=dtype)\n"
     ]
    },
    {
     "name": "stdout",
     "output_type": "stream",
     "text": [
      "/g/data/e14/erd561/mom/gfdl_nyf_1080_hist_5069/archive/output567/ocean_month.nc OK\n"
     ]
    },
    {
     "name": "stderr",
     "output_type": "stream",
     "text": [
      "/g/data3/hh5/public/apps/miniconda3/envs/analysis3-19.07/lib/python3.6/site-packages/xarray/core/nanops.py:160: RuntimeWarning: Mean of empty slice\n",
      "  return np.nanmean(a, axis=axis, dtype=dtype)\n"
     ]
    },
    {
     "name": "stdout",
     "output_type": "stream",
     "text": [
      "/g/data/e14/erd561/mom/gfdl_nyf_1080_hist_5069/archive/output568/ocean_month.nc OK\n"
     ]
    },
    {
     "name": "stderr",
     "output_type": "stream",
     "text": [
      "/g/data3/hh5/public/apps/miniconda3/envs/analysis3-19.07/lib/python3.6/site-packages/xarray/core/nanops.py:160: RuntimeWarning: Mean of empty slice\n",
      "  return np.nanmean(a, axis=axis, dtype=dtype)\n"
     ]
    },
    {
     "name": "stdout",
     "output_type": "stream",
     "text": [
      "/g/data/e14/erd561/mom/gfdl_nyf_1080_hist_5069/archive/output569/ocean_month.nc OK\n"
     ]
    },
    {
     "name": "stderr",
     "output_type": "stream",
     "text": [
      "/g/data3/hh5/public/apps/miniconda3/envs/analysis3-19.07/lib/python3.6/site-packages/xarray/core/nanops.py:160: RuntimeWarning: Mean of empty slice\n",
      "  return np.nanmean(a, axis=axis, dtype=dtype)\n"
     ]
    },
    {
     "name": "stdout",
     "output_type": "stream",
     "text": [
      "/g/data/e14/erd561/mom/gfdl_nyf_1080_hist_5069/archive/output570/ocean_month.nc OK\n"
     ]
    },
    {
     "name": "stderr",
     "output_type": "stream",
     "text": [
      "/g/data3/hh5/public/apps/miniconda3/envs/analysis3-19.07/lib/python3.6/site-packages/xarray/core/nanops.py:160: RuntimeWarning: Mean of empty slice\n",
      "  return np.nanmean(a, axis=axis, dtype=dtype)\n"
     ]
    },
    {
     "name": "stdout",
     "output_type": "stream",
     "text": [
      "/g/data/e14/erd561/mom/gfdl_nyf_1080_hist_5069/archive/output571/ocean_month.nc OK\n"
     ]
    },
    {
     "name": "stderr",
     "output_type": "stream",
     "text": [
      "/g/data3/hh5/public/apps/miniconda3/envs/analysis3-19.07/lib/python3.6/site-packages/xarray/core/nanops.py:160: RuntimeWarning: Mean of empty slice\n",
      "  return np.nanmean(a, axis=axis, dtype=dtype)\n"
     ]
    },
    {
     "name": "stdout",
     "output_type": "stream",
     "text": [
      "/g/data/e14/erd561/mom/gfdl_nyf_1080_hist_5069/archive/output572/ocean_month.nc OK\n"
     ]
    },
    {
     "name": "stderr",
     "output_type": "stream",
     "text": [
      "/g/data3/hh5/public/apps/miniconda3/envs/analysis3-19.07/lib/python3.6/site-packages/xarray/core/nanops.py:160: RuntimeWarning: Mean of empty slice\n",
      "  return np.nanmean(a, axis=axis, dtype=dtype)\n"
     ]
    },
    {
     "name": "stdout",
     "output_type": "stream",
     "text": [
      "/g/data/e14/erd561/mom/gfdl_nyf_1080_hist_5069/archive/output573/ocean_month.nc OK\n"
     ]
    },
    {
     "name": "stderr",
     "output_type": "stream",
     "text": [
      "/g/data3/hh5/public/apps/miniconda3/envs/analysis3-19.07/lib/python3.6/site-packages/xarray/core/nanops.py:160: RuntimeWarning: Mean of empty slice\n",
      "  return np.nanmean(a, axis=axis, dtype=dtype)\n"
     ]
    },
    {
     "name": "stdout",
     "output_type": "stream",
     "text": [
      "/g/data/e14/erd561/mom/gfdl_nyf_1080_hist_5069/archive/output574/ocean_month.nc OK\n"
     ]
    },
    {
     "name": "stderr",
     "output_type": "stream",
     "text": [
      "/g/data3/hh5/public/apps/miniconda3/envs/analysis3-19.07/lib/python3.6/site-packages/xarray/core/nanops.py:160: RuntimeWarning: Mean of empty slice\n",
      "  return np.nanmean(a, axis=axis, dtype=dtype)\n"
     ]
    },
    {
     "name": "stdout",
     "output_type": "stream",
     "text": [
      "/g/data/e14/erd561/mom/gfdl_nyf_1080_hist_5069/archive/output575/ocean_month.nc OK\n"
     ]
    },
    {
     "name": "stderr",
     "output_type": "stream",
     "text": [
      "/g/data3/hh5/public/apps/miniconda3/envs/analysis3-19.07/lib/python3.6/site-packages/xarray/core/nanops.py:160: RuntimeWarning: Mean of empty slice\n",
      "  return np.nanmean(a, axis=axis, dtype=dtype)\n"
     ]
    },
    {
     "name": "stdout",
     "output_type": "stream",
     "text": [
      "/g/data/e14/erd561/mom/gfdl_nyf_1080_rcp85/archive/output611/ocean_month.nc OK\n"
     ]
    },
    {
     "name": "stderr",
     "output_type": "stream",
     "text": [
      "/g/data3/hh5/public/apps/miniconda3/envs/analysis3-19.07/lib/python3.6/site-packages/xarray/core/nanops.py:160: RuntimeWarning: Mean of empty slice\n",
      "  return np.nanmean(a, axis=axis, dtype=dtype)\n"
     ]
    },
    {
     "name": "stdout",
     "output_type": "stream",
     "text": [
      "/g/data/e14/erd561/mom/gfdl_nyf_1080_rcp85/archive/output612/ocean_month.nc OK\n"
     ]
    },
    {
     "name": "stderr",
     "output_type": "stream",
     "text": [
      "/g/data3/hh5/public/apps/miniconda3/envs/analysis3-19.07/lib/python3.6/site-packages/xarray/core/nanops.py:160: RuntimeWarning: Mean of empty slice\n",
      "  return np.nanmean(a, axis=axis, dtype=dtype)\n"
     ]
    },
    {
     "name": "stdout",
     "output_type": "stream",
     "text": [
      "/g/data/e14/erd561/mom/gfdl_nyf_1080_rcp85/archive/output613/ocean_month.nc OK\n"
     ]
    },
    {
     "name": "stderr",
     "output_type": "stream",
     "text": [
      "/g/data3/hh5/public/apps/miniconda3/envs/analysis3-19.07/lib/python3.6/site-packages/xarray/core/nanops.py:160: RuntimeWarning: Mean of empty slice\n",
      "  return np.nanmean(a, axis=axis, dtype=dtype)\n"
     ]
    },
    {
     "name": "stdout",
     "output_type": "stream",
     "text": [
      "/g/data/e14/erd561/mom/gfdl_nyf_1080_rcp85/archive/output614/ocean_month.nc OK\n"
     ]
    },
    {
     "name": "stderr",
     "output_type": "stream",
     "text": [
      "/g/data3/hh5/public/apps/miniconda3/envs/analysis3-19.07/lib/python3.6/site-packages/xarray/core/nanops.py:160: RuntimeWarning: Mean of empty slice\n",
      "  return np.nanmean(a, axis=axis, dtype=dtype)\n"
     ]
    },
    {
     "name": "stdout",
     "output_type": "stream",
     "text": [
      "/g/data/e14/erd561/mom/gfdl_nyf_1080_rcp85/archive/output615/ocean_month.nc OK\n"
     ]
    },
    {
     "name": "stderr",
     "output_type": "stream",
     "text": [
      "/g/data3/hh5/public/apps/miniconda3/envs/analysis3-19.07/lib/python3.6/site-packages/xarray/core/nanops.py:160: RuntimeWarning: Mean of empty slice\n",
      "  return np.nanmean(a, axis=axis, dtype=dtype)\n"
     ]
    },
    {
     "name": "stdout",
     "output_type": "stream",
     "text": [
      "/g/data/e14/erd561/mom/gfdl_nyf_1080_rcp85/archive/output616/ocean_month.nc OK\n"
     ]
    },
    {
     "name": "stderr",
     "output_type": "stream",
     "text": [
      "/g/data3/hh5/public/apps/miniconda3/envs/analysis3-19.07/lib/python3.6/site-packages/xarray/core/nanops.py:160: RuntimeWarning: Mean of empty slice\n",
      "  return np.nanmean(a, axis=axis, dtype=dtype)\n"
     ]
    },
    {
     "name": "stdout",
     "output_type": "stream",
     "text": [
      "/g/data/e14/erd561/mom/gfdl_nyf_1080_rcp85/archive/output617/ocean_month.nc OK\n"
     ]
    },
    {
     "name": "stderr",
     "output_type": "stream",
     "text": [
      "/g/data3/hh5/public/apps/miniconda3/envs/analysis3-19.07/lib/python3.6/site-packages/xarray/core/nanops.py:160: RuntimeWarning: Mean of empty slice\n",
      "  return np.nanmean(a, axis=axis, dtype=dtype)\n"
     ]
    },
    {
     "name": "stdout",
     "output_type": "stream",
     "text": [
      "/g/data/e14/erd561/mom/gfdl_nyf_1080_rcp85/archive/output618/ocean_month.nc OK\n"
     ]
    },
    {
     "name": "stderr",
     "output_type": "stream",
     "text": [
      "/g/data3/hh5/public/apps/miniconda3/envs/analysis3-19.07/lib/python3.6/site-packages/xarray/core/nanops.py:160: RuntimeWarning: Mean of empty slice\n",
      "  return np.nanmean(a, axis=axis, dtype=dtype)\n"
     ]
    },
    {
     "name": "stdout",
     "output_type": "stream",
     "text": [
      "/g/data/e14/erd561/mom/gfdl_nyf_1080_rcp85/archive/output619/ocean_month.nc OK\n"
     ]
    },
    {
     "name": "stderr",
     "output_type": "stream",
     "text": [
      "/g/data3/hh5/public/apps/miniconda3/envs/analysis3-19.07/lib/python3.6/site-packages/xarray/core/nanops.py:160: RuntimeWarning: Mean of empty slice\n",
      "  return np.nanmean(a, axis=axis, dtype=dtype)\n"
     ]
    },
    {
     "name": "stdout",
     "output_type": "stream",
     "text": [
      "/g/data/e14/erd561/mom/gfdl_nyf_1080_rcp85/archive/output620/ocean_month.nc OK\n",
      "<xarray.DataArray 'temp' (year: 30, yt_ocean: 220, xt_ocean: 280)>\n",
      "array([[[-0.401731, -0.380208, ...,  2.608085,  2.577984],\n",
      "        [-0.406891, -0.376817, ...,  2.718419,  2.699332],\n",
      "        ...,\n",
      "        [23.918919, 23.935635, ..., 25.873558, 25.851952],\n",
      "        [24.118069, 24.150646, ..., 26.02486 , 25.955761]],\n",
      "\n",
      "       [[-0.469344, -0.446292, ...,  2.588118,  2.527822],\n",
      "        [-0.461044, -0.434482, ...,  2.785284,  2.702575],\n",
      "        ...,\n",
      "        [23.966635, 23.966448, ..., 25.850706, 25.82425 ],\n",
      "        [24.18553 , 24.199455, ..., 25.92586 , 25.899218]],\n",
      "\n",
      "       ...,\n",
      "\n",
      "       [[-0.440748, -0.452596, ...,  3.481239,  3.464719],\n",
      "        [-0.406318, -0.394741, ...,  3.53492 ,  3.514677],\n",
      "        ...,\n",
      "        [24.305384, 24.327362, ..., 26.453362, 26.462786],\n",
      "        [24.34794 , 24.386576, ..., 26.552256, 26.523329]],\n",
      "\n",
      "       [[-0.584847, -0.561112, ...,  3.521433,  3.537624],\n",
      "        [-0.536606, -0.498623, ...,  3.541009,  3.570827],\n",
      "        ...,\n",
      "        [24.331873, 24.307741, ..., 26.44725 , 26.437235],\n",
      "        [24.532738, 24.54914 , ..., 26.531912, 26.476336]]], dtype=float32)\n",
      "Coordinates:\n",
      "  * xt_ocean  (xt_ocean) float64 -259.9 -259.6 -259.4 ... -190.6 -190.4 -190.1\n",
      "  * yt_ocean  (yt_ocean) float64 -59.96 -59.83 -59.71 ... -20.66 -20.43 -20.19\n",
      "    st_ocean  float64 5.034\n",
      "Dimensions without coordinates: year\n",
      "CPU times: user 36.8 s, sys: 5.1 s, total: 41.9 s\n",
      "Wall time: 2min 52s\n"
     ]
    }
   ],
   "source": [
    "%%time\n",
    "\n",
    "lon = [100-360, 170-360]\n",
    "lat = [-60, -20]\n",
    "\n",
    "for p1,p2 in zip(path1, path2):\n",
    "    if p1 == path1[0]:\n",
    "        SST = \\\n",
    "            xr.open_dataset(p1, decode_times=False).\\\n",
    "            temp.\\\n",
    "            sel(xt_ocean=slice(lon[0], lon[1])).\\\n",
    "            sel(yt_ocean=slice(lat[0], lat[1])).\\\n",
    "            sel(st_ocean=0, method='nearest').\\\n",
    "            drop(('geolon_t', 'geolat_t')).\\\n",
    "            mean(dim='time')\n",
    "        \n",
    "        tau_x = \\\n",
    "            xr.open_dataset(p2, decode_times=False).\\\n",
    "            tau_x.\\\n",
    "            sel(xu_ocean=slice(lon[0], lon[1])).\\\n",
    "            sel(yu_ocean=slice(lat[0], lat[1])).\\\n",
    "            mean(dim='time').\\\n",
    "            drop(('geolon_c', 'geolat_c'))\n",
    "        \n",
    "        sea_level = \\\n",
    "            xr.open_dataset(p2, decode_times=False).\\\n",
    "            sea_level.\\\n",
    "            sel(xt_ocean=slice(lon[0], lon[1])).\\\n",
    "            sel(yt_ocean=slice(lat[0], lat[1])).\\\n",
    "            mean(dim='time').\\\n",
    "            drop(('geolon_t', 'geolat_t'))*100\n",
    "        \n",
    "        print(str(p1) + ' OK')\n",
    "            \n",
    "    elif 'v45' in p1:\n",
    "        SST = \\\n",
    "            xr.concat([\n",
    "                SST,\n",
    "                xr.open_dataset(p1, decode_times=False).\\\n",
    "                temp.\\\n",
    "                sel(xt_ocean=slice(lon[0], lon[1])).\\\n",
    "                sel(yt_ocean=slice(lat[0], lat[1])).\\\n",
    "                sel(st_ocean=0, method='nearest').\\\n",
    "                drop(('geolon_t', 'geolat_t')).\\\n",
    "                mean(dim='time')\n",
    "            ], 'year'\n",
    "            )\n",
    "        \n",
    "        tau_x = \\\n",
    "            xr.concat([\n",
    "                tau_x,\n",
    "                xr.open_dataset(p2, decode_times=False).\\\n",
    "                tau_x.\\\n",
    "                sel(xu_ocean=slice(lon[0], lon[1])).\\\n",
    "                sel(yu_ocean=slice(lat[0], lat[1])).\\\n",
    "                mean(dim='time').\\\n",
    "                drop(('geolon_c', 'geolat_c'))\n",
    "            ], 'year'\n",
    "            )\n",
    "        \n",
    "        sea_level = \\\n",
    "            xr.concat([\n",
    "                sea_level,\n",
    "                xr.open_dataset(p2, decode_times=False).\\\n",
    "                sea_level.\\\n",
    "                sel(xt_ocean=slice(lon[0], lon[1])).\\\n",
    "                sel(yt_ocean=slice(lat[0], lat[1])).\\\n",
    "                mean(dim='time').\\\n",
    "                drop(('geolon_t', 'geolat_t'))*100\n",
    "            ], 'year'\n",
    "            )\n",
    "        \n",
    "        print(str(p1) + ' OK')\n",
    "        \n",
    "    else:\n",
    "        SST = \\\n",
    "            xr.concat([\n",
    "                SST,\n",
    "                xr.open_dataset(p1, decode_times=False).\\\n",
    "                temp.\\\n",
    "                sel(xt_ocean=slice(lon[0], lon[1])).\\\n",
    "                sel(yt_ocean=slice(lat[0], lat[1])).\\\n",
    "                sel(st_ocean=0, method='nearest').\\\n",
    "                mean(dim='time')\n",
    "            ], 'year'\n",
    "            )\n",
    "        tau_x = \\\n",
    "            xr.concat([\n",
    "                tau_x,\n",
    "                xr.open_dataset(p2, decode_times=False).\\\n",
    "                tau_x.\\\n",
    "                sel(xu_ocean=slice(lon[0], lon[1])).\\\n",
    "                sel(yu_ocean=slice(lat[0], lat[1])).\\\n",
    "                mean(dim='time')\n",
    "            ], 'year'\n",
    "            )\n",
    "        sea_level = \\\n",
    "            xr.concat([\n",
    "                sea_level,\n",
    "                xr.open_dataset(p2, decode_times=False).\\\n",
    "                sea_level.\\\n",
    "                sel(xt_ocean=slice(lon[0], lon[1])).\\\n",
    "                sel(yt_ocean=slice(lat[0], lat[1])).\\\n",
    "                mean(dim='time')*100\n",
    "            ], 'year'\n",
    "            )\n",
    "        print(str(p1) + ' OK')\n",
    "print(SST)\n",
    "\n",
    "xt_ocean = SST.xt_ocean\n",
    "xt_ocean_corrected = xt_ocean + 360\n",
    "SST = SST.assign_coords(xt_ocean=xt_ocean_corrected)\n",
    "xu_ocean = tau_x.xu_ocean\n",
    "xu_ocean_corrected = xu_ocean + 360\n",
    "tau_x = tau_x.assign_coords(xu_ocean=xu_ocean_corrected)\n",
    "sea_level = sea_level.assign_coords(xt_ocean=xt_ocean_corrected)\n",
    "\n",
    "SST = SST.assign_coords(year=years)\n",
    "tau_x = tau_x.assign_coords(year=years)\n",
    "sea_level = sea_level.assign_coords(year=years)"
   ]
  },
  {
   "cell_type": "code",
   "execution_count": 8,
   "metadata": {},
   "outputs": [
    {
     "name": "stdout",
     "output_type": "stream",
     "text": [
      "/g/data/v45/pas561/mom/archive/gfdl_nyf_1080/output477/ocean.nc OK\n",
      "/g/data/v45/pas561/mom/archive/gfdl_nyf_1080/output478/ocean.nc OK\n",
      "/g/data/v45/pas561/mom/archive/gfdl_nyf_1080/output479/ocean.nc OK\n",
      "/g/data/v45/pas561/mom/archive/gfdl_nyf_1080/output480/ocean.nc OK\n",
      "/g/data/v45/pas561/mom/archive/gfdl_nyf_1080/output481/ocean.nc OK\n",
      "/g/data/v45/pas561/mom/archive/gfdl_nyf_1080/output482/ocean.nc OK\n",
      "/g/data/v45/pas561/mom/archive/gfdl_nyf_1080/output483/ocean.nc OK\n",
      "/g/data/v45/pas561/mom/archive/gfdl_nyf_1080/output484/ocean.nc OK\n",
      "/g/data/v45/pas561/mom/archive/gfdl_nyf_1080/output485/ocean.nc OK\n",
      "/g/data/v45/pas561/mom/archive/gfdl_nyf_1080/output486/ocean.nc OK\n",
      "/g/data/e14/erd561/mom/gfdl_nyf_1080_hist_5069/archive/output566/ocean_month.nc OK\n",
      "/g/data/e14/erd561/mom/gfdl_nyf_1080_hist_5069/archive/output567/ocean_month.nc OK\n",
      "/g/data/e14/erd561/mom/gfdl_nyf_1080_hist_5069/archive/output568/ocean_month.nc OK\n",
      "/g/data/e14/erd561/mom/gfdl_nyf_1080_hist_5069/archive/output569/ocean_month.nc OK\n",
      "/g/data/e14/erd561/mom/gfdl_nyf_1080_hist_5069/archive/output570/ocean_month.nc OK\n",
      "/g/data/e14/erd561/mom/gfdl_nyf_1080_hist_5069/archive/output571/ocean_month.nc OK\n",
      "/g/data/e14/erd561/mom/gfdl_nyf_1080_hist_5069/archive/output572/ocean_month.nc OK\n",
      "/g/data/e14/erd561/mom/gfdl_nyf_1080_hist_5069/archive/output573/ocean_month.nc OK\n",
      "/g/data/e14/erd561/mom/gfdl_nyf_1080_hist_5069/archive/output574/ocean_month.nc OK\n",
      "/g/data/e14/erd561/mom/gfdl_nyf_1080_hist_5069/archive/output575/ocean_month.nc OK\n",
      "/g/data/e14/erd561/mom/gfdl_nyf_1080_rcp85/archive/output611/ocean_month.nc OK\n",
      "/g/data/e14/erd561/mom/gfdl_nyf_1080_rcp85/archive/output612/ocean_month.nc OK\n",
      "/g/data/e14/erd561/mom/gfdl_nyf_1080_rcp85/archive/output613/ocean_month.nc OK\n",
      "/g/data/e14/erd561/mom/gfdl_nyf_1080_rcp85/archive/output614/ocean_month.nc OK\n",
      "/g/data/e14/erd561/mom/gfdl_nyf_1080_rcp85/archive/output615/ocean_month.nc OK\n",
      "/g/data/e14/erd561/mom/gfdl_nyf_1080_rcp85/archive/output616/ocean_month.nc OK\n",
      "/g/data/e14/erd561/mom/gfdl_nyf_1080_rcp85/archive/output617/ocean_month.nc OK\n",
      "/g/data/e14/erd561/mom/gfdl_nyf_1080_rcp85/archive/output618/ocean_month.nc OK\n",
      "/g/data/e14/erd561/mom/gfdl_nyf_1080_rcp85/archive/output619/ocean_month.nc OK\n",
      "/g/data/e14/erd561/mom/gfdl_nyf_1080_rcp85/archive/output620/ocean_month.nc OK\n",
      "<xarray.DataArray 'u' (year: 30, yu_ocean: 261, xu_ocean: 281)>\n",
      "array([[[  2.299731,   3.683562, ...,  16.348194,  16.256924],\n",
      "        [  4.486864,   5.258146, ...,  17.114864,  16.518553],\n",
      "        ...,\n",
      "        [-14.236341, -13.983949, ...,  -8.086968,  -8.104499],\n",
      "        [-13.70861 , -13.511914, ...,  -7.694484,  -7.738638]],\n",
      "\n",
      "       [[  2.523731,   3.845604, ...,  20.704788,  19.249035],\n",
      "        [  5.070777,   5.852419, ...,  23.739614,  23.340805],\n",
      "        ...,\n",
      "        [-18.564367, -18.524027, ...,  -8.390326,  -8.437046],\n",
      "        [-18.656303, -18.816643, ...,  -7.794482,  -7.958988]],\n",
      "\n",
      "       ...,\n",
      "\n",
      "       [[  1.0562  ,   2.664583, ...,   0.879469,   0.733904],\n",
      "        [  4.713784,   6.626445, ...,   3.030629,   2.589602],\n",
      "        ...,\n",
      "        [ -7.702717,  -7.370598, ...,  -3.061078,  -3.139351],\n",
      "        [ -8.371375,  -8.074984, ...,  -2.418376,  -2.553994]],\n",
      "\n",
      "       [[  1.642766,   2.820995, ...,   4.821949,   6.523896],\n",
      "        [  3.673784,   5.510216, ...,   9.6234  ,  11.239902],\n",
      "        ...,\n",
      "        [ -8.914875,  -9.09768 , ...,  -2.329829,  -1.85838 ],\n",
      "        [-12.949346, -13.176129, ...,  -2.688996,  -2.271653]]], dtype=float32)\n",
      "Coordinates:\n",
      "  * xu_ocean  (xu_ocean) float64 -260.0 -259.8 -259.5 ... -190.5 -190.2 -190.0\n",
      "  * yu_ocean  (yu_ocean) float64 -59.9 -59.77 -59.65 ... -10.69 -10.44 -10.2\n",
      "Dimensions without coordinates: year\n",
      "<xarray.DataArray 'v' (year: 30, yu_ocean: 261, xu_ocean: 281)>\n",
      "array([[[ 1.330896, -0.449788, ...,  5.250617,  1.576545],\n",
      "        [ 0.462454, -1.741046, ...,  5.116768,  2.473463],\n",
      "        ...,\n",
      "        [-4.852584, -4.980543, ..., -2.170915, -2.450243],\n",
      "        [-5.035518, -5.014455, ..., -2.08911 , -2.267723]],\n",
      "\n",
      "       [[ 1.379752, -0.335675, ..., 14.785297, 13.044988],\n",
      "        [ 0.484172, -1.559949, ..., 15.373598, 13.890494],\n",
      "        ...,\n",
      "        [-5.953946, -5.923545, ..., -2.471159, -2.504829],\n",
      "        [-5.934997, -5.954388, ..., -2.353163, -2.348706]],\n",
      "\n",
      "       ...,\n",
      "\n",
      "       [[-0.786093, -1.615476, ..., -4.37489 , -4.417059],\n",
      "        [-2.35091 , -3.715535, ..., -3.78992 , -4.240662],\n",
      "        ...,\n",
      "        [-2.033734, -2.497985, ..., -2.483042, -2.980318],\n",
      "        [-2.264323, -2.84114 , ..., -2.314687, -2.825885]],\n",
      "\n",
      "       [[ 0.951363,  0.35695 , ...,  0.638638, -0.309232],\n",
      "        [-0.273999, -1.486146, ..., -1.163744, -1.79727 ],\n",
      "        ...,\n",
      "        [-5.080188, -4.34455 , ..., -1.989561, -1.777561],\n",
      "        [-4.847239, -4.077229, ..., -2.353659, -2.144867]]], dtype=float32)\n",
      "Coordinates:\n",
      "  * xu_ocean  (xu_ocean) float64 -260.0 -259.8 -259.5 ... -190.5 -190.2 -190.0\n",
      "  * yu_ocean  (yu_ocean) float64 -59.9 -59.77 -59.65 ... -10.69 -10.44 -10.2\n",
      "Dimensions without coordinates: year\n",
      "CPU times: user 56.8 s, sys: 7.57 s, total: 1min 4s\n",
      "Wall time: 3min 11s\n"
     ]
    }
   ],
   "source": [
    "%%time\n",
    "\n",
    "lon = [100-360, 170-360]\n",
    "lat = [-60, -10]\n",
    "\n",
    "for p1,p2 in zip(path1, path2):\n",
    "    if p1 == path1[0]:\n",
    "        u = \\\n",
    "            xr.open_dataset(p2, decode_times=False).\\\n",
    "            u.\\\n",
    "            sel(xu_ocean=slice(lon[0], lon[1])).\\\n",
    "            sel(yu_ocean=slice(lat[0], lat[1])).\\\n",
    "            sel(st_ocean=slice(0,30)).\\\n",
    "            mean(dim='st_ocean').\\\n",
    "            mean(dim='time').\\\n",
    "            drop(('geolon_c', 'geolat_c'))*100\n",
    "        \n",
    "        v = \\\n",
    "            xr.open_dataset(p2, decode_times=False).\\\n",
    "            v.\\\n",
    "            sel(xu_ocean=slice(lon[0], lon[1])).\\\n",
    "            sel(yu_ocean=slice(lat[0], lat[1])).\\\n",
    "            sel(st_ocean=slice(0,30)).\\\n",
    "            mean(dim='st_ocean').\\\n",
    "            mean(dim='time').\\\n",
    "            drop(('geolon_c', 'geolat_c'))*100\n",
    "        \n",
    "        print(str(p1) + ' OK')\n",
    "            \n",
    "    elif 'v45' in p1:\n",
    "        u = \\\n",
    "            xr.concat([\n",
    "                u,\n",
    "                xr.open_dataset(p2, decode_times=False).\\\n",
    "                u.\\\n",
    "                sel(xu_ocean=slice(lon[0], lon[1])).\\\n",
    "                sel(yu_ocean=slice(lat[0], lat[1])).\\\n",
    "                sel(st_ocean=slice(0,30)).\\\n",
    "                mean(dim='st_ocean').\\\n",
    "                mean(dim='time').\\\n",
    "                drop(('geolon_c', 'geolat_c'))*100\n",
    "            ], 'year'\n",
    "            )\n",
    "        \n",
    "        v = \\\n",
    "            xr.concat([\n",
    "                v,\n",
    "                xr.open_dataset(p2, decode_times=False).\\\n",
    "                v.\\\n",
    "                sel(xu_ocean=slice(lon[0], lon[1])).\\\n",
    "                sel(yu_ocean=slice(lat[0], lat[1])).\\\n",
    "                sel(st_ocean=slice(0,30)).\\\n",
    "                mean(dim='st_ocean').\\\n",
    "                mean(dim='time').\\\n",
    "                drop(('geolon_c', 'geolat_c'))*100\n",
    "            ], 'year'\n",
    "            )\n",
    "        \n",
    "        print(str(p1) + ' OK')\n",
    "        \n",
    "    else:\n",
    "        u = \\\n",
    "            xr.concat([\n",
    "                u,\n",
    "                xr.open_dataset(p2, decode_times=False).\\\n",
    "                u.\\\n",
    "                sel(xu_ocean=slice(lon[0], lon[1])).\\\n",
    "                sel(yu_ocean=slice(lat[0], lat[1])).\\\n",
    "                sel(st_ocean=slice(0,30)).\\\n",
    "                mean(dim='st_ocean').\\\n",
    "                mean(dim='time')*100\n",
    "            ], 'year'\n",
    "            )\n",
    "        \n",
    "        v = \\\n",
    "            xr.concat([\n",
    "                v,\n",
    "                xr.open_dataset(p2, decode_times=False).\\\n",
    "                v.\\\n",
    "                sel(xu_ocean=slice(lon[0], lon[1])).\\\n",
    "                sel(yu_ocean=slice(lat[0], lat[1])).\\\n",
    "                sel(st_ocean=slice(0,30)).\\\n",
    "                mean(dim='st_ocean').\\\n",
    "                mean(dim='time')*100\n",
    "            ], 'year'\n",
    "            )\n",
    "        \n",
    "        print(str(p1) + ' OK')\n",
    "print(u)\n",
    "print(v)\n",
    "\n",
    "u = u.assign_coords(xu_ocean=xu_ocean_corrected)\n",
    "v = v.assign_coords(xu_ocean=xu_ocean_corrected)\n",
    "\n",
    "u = u.assign_coords(year=years)\n",
    "v = v.assign_coords(year=years)"
   ]
  },
  {
   "cell_type": "code",
   "execution_count": 9,
   "metadata": {},
   "outputs": [
    {
     "name": "stdout",
     "output_type": "stream",
     "text": [
      "/g/data/e14/erd561/mom/gfdl_nyf_1080_hist_5069/archive/output566/ocean_month.nc OK\n",
      "/g/data/e14/erd561/mom/gfdl_nyf_1080_hist_5069/archive/output567/ocean_month.nc OK\n",
      "/g/data/e14/erd561/mom/gfdl_nyf_1080_hist_5069/archive/output568/ocean_month.nc OK\n",
      "/g/data/e14/erd561/mom/gfdl_nyf_1080_hist_5069/archive/output569/ocean_month.nc OK\n",
      "/g/data/e14/erd561/mom/gfdl_nyf_1080_hist_5069/archive/output570/ocean_month.nc OK\n",
      "/g/data/e14/erd561/mom/gfdl_nyf_1080_hist_5069/archive/output571/ocean_month.nc OK\n",
      "/g/data/e14/erd561/mom/gfdl_nyf_1080_hist_5069/archive/output572/ocean_month.nc OK\n",
      "/g/data/e14/erd561/mom/gfdl_nyf_1080_hist_5069/archive/output573/ocean_month.nc OK\n",
      "/g/data/e14/erd561/mom/gfdl_nyf_1080_hist_5069/archive/output574/ocean_month.nc OK\n",
      "/g/data/e14/erd561/mom/gfdl_nyf_1080_hist_5069/archive/output575/ocean_month.nc OK\n",
      "/g/data/e14/erd561/mom/gfdl_nyf_1080_rcp85/archive/output611/ocean_month.nc OK\n",
      "/g/data/e14/erd561/mom/gfdl_nyf_1080_rcp85/archive/output612/ocean_month.nc OK\n",
      "/g/data/e14/erd561/mom/gfdl_nyf_1080_rcp85/archive/output613/ocean_month.nc OK\n",
      "/g/data/e14/erd561/mom/gfdl_nyf_1080_rcp85/archive/output614/ocean_month.nc OK\n",
      "/g/data/e14/erd561/mom/gfdl_nyf_1080_rcp85/archive/output615/ocean_month.nc OK\n",
      "/g/data/e14/erd561/mom/gfdl_nyf_1080_rcp85/archive/output616/ocean_month.nc OK\n",
      "/g/data/e14/erd561/mom/gfdl_nyf_1080_rcp85/archive/output617/ocean_month.nc OK\n",
      "/g/data/e14/erd561/mom/gfdl_nyf_1080_rcp85/archive/output618/ocean_month.nc OK\n",
      "/g/data/e14/erd561/mom/gfdl_nyf_1080_rcp85/archive/output619/ocean_month.nc OK\n",
      "/g/data/e14/erd561/mom/gfdl_nyf_1080_rcp85/archive/output620/ocean_month.nc OK\n",
      "<xarray.DataArray 'net_sfc_heating' (year: 20, yt_ocean: 220, xt_ocean: 280)>\n",
      "array([[[ -9.169551, -10.663915, ...,   1.013627,   1.2516  ],\n",
      "        [-10.686524,  -9.997433, ...,   1.403357,   1.873923],\n",
      "        ...,\n",
      "        [-35.512424, -33.76855 , ..., -15.735059, -15.724479],\n",
      "        [-36.455887, -34.222122, ..., -14.533748, -12.85665 ]],\n",
      "\n",
      "       [[ -2.889406,  -2.065007, ...,  -0.410221,  -0.772743],\n",
      "        [ -3.090961,  -2.765015, ...,   1.140863,   1.12382 ],\n",
      "        ...,\n",
      "        [-32.038486, -35.18037 , ..., -16.358902, -15.982699],\n",
      "        [-34.62305 , -36.97732 , ..., -18.027876, -15.597404]],\n",
      "\n",
      "       ...,\n",
      "\n",
      "       [[ -4.113293,  -4.963004, ...,  -4.947567,  -4.686918],\n",
      "        [ -2.896281,  -3.018631, ...,  -3.901876,  -3.423726],\n",
      "        ...,\n",
      "        [-26.155663, -28.150019, ..., -23.707771, -23.849352],\n",
      "        [-21.55081 , -24.325914, ..., -23.88149 , -22.148832]],\n",
      "\n",
      "       [[ -2.339102,  -3.367244, ...,  -6.424879,  -6.592702],\n",
      "        [ -2.47305 ,  -3.386986, ...,  -4.28418 ,  -4.669482],\n",
      "        ...,\n",
      "        [-27.95829 , -27.44332 , ..., -23.749588, -22.802078],\n",
      "        [-32.658543, -34.18147 , ..., -23.052141, -19.89669 ]]], dtype=float32)\n",
      "Coordinates:\n",
      "  * xt_ocean  (xt_ocean) float64 -259.9 -259.6 -259.4 ... -190.6 -190.4 -190.1\n",
      "  * yt_ocean  (yt_ocean) float64 -59.96 -59.83 -59.71 ... -20.66 -20.43 -20.19\n",
      "Dimensions without coordinates: year\n",
      "<xarray.DataArray 'tau_curl' (year: 20, yu_ocean: 220, xt_ocean: 280)>\n",
      "array([[[-9.629184e-08, -1.738874e-07, ...,  6.552503e-09,  8.949471e-09],\n",
      "        [-1.833578e-07, -3.051366e-07, ..., -1.186199e-08, -7.053298e-09],\n",
      "        ...,\n",
      "        [ 1.096631e-08,  7.532949e-09, ...,  1.766438e-08,  1.738670e-08],\n",
      "        [-7.812960e-09, -5.506184e-09, ...,  1.437396e-08,  1.316834e-08]],\n",
      "\n",
      "       [[ 1.871912e-08,  8.182423e-08, ..., -3.298467e-08, -3.125736e-08],\n",
      "        [ 2.563640e-08,  2.400332e-08, ..., -1.721659e-08, -1.909288e-08],\n",
      "        ...,\n",
      "        [ 4.090748e-08,  3.537718e-08, ...,  2.100931e-08,  2.145512e-08],\n",
      "        [ 3.097810e-08,  2.656075e-08, ...,  1.327876e-08,  1.232801e-08]],\n",
      "\n",
      "       ...,\n",
      "\n",
      "       [[ 1.256288e-07,  5.641568e-08, ..., -4.774501e-08, -5.347284e-08],\n",
      "        [ 1.412302e-07, -8.085399e-08, ..., -4.044274e-08, -4.388230e-08],\n",
      "        ...,\n",
      "        [ 1.599737e-08,  1.615155e-08, ...,  1.464323e-08,  1.310395e-08],\n",
      "        [ 2.140764e-08,  1.891669e-08, ...,  6.842543e-09,  4.935697e-09]],\n",
      "\n",
      "       [[ 3.287155e-08,  1.552136e-07, ..., -1.708003e-08, -1.408101e-08],\n",
      "        [ 3.968735e-07,  3.915123e-07, ..., -5.807991e-09, -8.008537e-09],\n",
      "        ...,\n",
      "        [ 3.058869e-08,  3.056423e-08, ...,  1.266692e-08,  1.275797e-08],\n",
      "        [ 1.840232e-08,  1.724591e-08, ...,  2.339715e-09,  2.274572e-09]]],\n",
      "      dtype=float32)\n",
      "Coordinates:\n",
      "  * xt_ocean  (xt_ocean) float64 -259.9 -259.6 -259.4 ... -190.6 -190.4 -190.1\n",
      "  * yu_ocean  (yu_ocean) float64 -59.9 -59.77 -59.65 ... -20.55 -20.31 -20.08\n",
      "Dimensions without coordinates: year\n",
      "CPU times: user 9.56 s, sys: 1.46 s, total: 11 s\n",
      "Wall time: 39.3 s\n"
     ]
    }
   ],
   "source": [
    "%%time\n",
    "\n",
    "lon = [100-360, 170-360]\n",
    "lat = [-60, -20]\n",
    "\n",
    "for p1,p2 in zip(path1[10:], path2[10:]):\n",
    "    if p1 == path1[10]:\n",
    "        net_sfc_heating = \\\n",
    "            xr.open_dataset(p2, decode_times=False).\\\n",
    "            net_sfc_heating.\\\n",
    "            sel(xt_ocean=slice(lon[0], lon[1])).\\\n",
    "            sel(yt_ocean=slice(lat[0], lat[1])).\\\n",
    "            mean(dim='time')\n",
    "        \n",
    "        tau_curl = \\\n",
    "            xr.open_dataset(p2, decode_times=False).\\\n",
    "            tau_curl.\\\n",
    "            sel(xt_ocean=slice(lon[0], lon[1])).\\\n",
    "            sel(yu_ocean=slice(lat[0], lat[1])).\\\n",
    "            mean(dim='time')\n",
    "        \n",
    "        print(str(p1) + ' OK')\n",
    "        \n",
    "    else:\n",
    "        net_sfc_heating = \\\n",
    "            xr.concat([\n",
    "                net_sfc_heating,\n",
    "                xr.open_dataset(p2, decode_times=False).\\\n",
    "                net_sfc_heating.\\\n",
    "                sel(xt_ocean=slice(lon[0], lon[1])).\\\n",
    "                sel(yt_ocean=slice(lat[0], lat[1])).\\\n",
    "                mean(dim='time')\n",
    "            ], 'year'\n",
    "            )\n",
    "        \n",
    "        tau_curl = \\\n",
    "            xr.concat([\n",
    "                tau_curl,\n",
    "                xr.open_dataset(p2, decode_times=False).\\\n",
    "                tau_curl.\\\n",
    "                sel(xt_ocean=slice(lon[0], lon[1])).\\\n",
    "                sel(yu_ocean=slice(lat[0], lat[1])).\\\n",
    "                mean(dim='time')\n",
    "            ], 'year'\n",
    "            )\n",
    "        \n",
    "        print(str(p1) + ' OK')\n",
    "print(net_sfc_heating)\n",
    "print(tau_curl)\n",
    "\n",
    "net_sfc_heating = net_sfc_heating.assign_coords(xt_ocean=xt_ocean_corrected)\n",
    "tau_curl = tau_curl.assign_coords(xt_ocean=xt_ocean_corrected)\n",
    "\n",
    "net_sfc_heating = net_sfc_heating.assign_coords(year=years[10:])\n",
    "tau_curl = tau_curl.assign_coords(year=years[10:])"
   ]
  },
  {
   "cell_type": "code",
   "execution_count": 10,
   "metadata": {},
   "outputs": [],
   "source": [
    "SST_nyf = SST.sel(year=slice(-9,0)).mean(dim='year')\n",
    "SST_hist5069 = SST.sel(year=slice(1,10)).mean(dim='year')\n",
    "SST_rcp85 = SST.sel(year=slice(11,20)).mean(dim='year')\n",
    "\n",
    "tau_x_nyf = tau_x.sel(year=slice(-9,0)).mean(dim='year')\n",
    "tau_x_hist5069 = tau_x.sel(year=slice(1,10)).mean(dim='year')\n",
    "tau_x_rcp85 = tau_x.sel(year=slice(11,20)).mean(dim='year')\n",
    "\n",
    "sea_level_nyf = sea_level.sel(year=slice(-9,0)).mean(dim='year')\n",
    "sea_level_hist5069 = sea_level.sel(year=slice(1,10)).mean(dim='year')\n",
    "sea_level_rcp85 = sea_level.sel(year=slice(11,20)).mean(dim='year')\n",
    "\n",
    "u_nyf = u.sel(year=slice(-9,0)).mean(dim='year')\n",
    "u_hist5069 = u.sel(year=slice(1,10)).mean(dim='year')\n",
    "u_rcp85 = u.sel(year=slice(11,20)).mean(dim='year')\n",
    "\n",
    "v_nyf = v.sel(year=slice(-9,0)).mean(dim='year')\n",
    "v_hist5069 = v.sel(year=slice(1,10)).mean(dim='year')\n",
    "v_rcp85 = v.sel(year=slice(11,20)).mean(dim='year')\n",
    "\n",
    "net_sfc_heating_hist5069 = net_sfc_heating.sel(year=slice(1,10)).mean(dim='year')\n",
    "net_sfc_heating_rcp85 = net_sfc_heating.sel(year=slice(11,20)).mean(dim='year')\n",
    "\n",
    "tau_curl_hist5069 = tau_curl.sel(year=slice(1,10)).mean(dim='year')\n",
    "tau_curl_rcp85 = tau_curl.sel(year=slice(11,20)).mean(dim='year')\n",
    "\n",
    "h_ek = 30\n",
    "rho_0 = 1027\n",
    "omega = 7.2921*10**-5\n",
    "lat = tau_x_hist5069.xu_ocean\n",
    "f = 2 * omega * np.sin(lat * np.pi / 180)\n",
    "f = np.expand_dims(f, axis=0)\n",
    "V_ek_hist5069 = tau_x_hist5069 / f / rho_0\n",
    "V_ek_rcp85 = tau_x_rcp85 / f / rho_0"
   ]
  },
  {
   "cell_type": "code",
   "execution_count": 55,
   "metadata": {},
   "outputs": [
    {
     "name": "stdout",
     "output_type": "stream",
     "text": [
      "Bbox(x0=0.125, y0=0.7721428571428571, x1=0.47727272727272724, y1=0.88)\n",
      "[0.125, 0.7721428571428571, 0.43727272727272726, 0.88]\n",
      "Bbox(x0=0.5477272727272726, y0=0.7721428571428571, x1=0.8999999999999999, y1=0.88)\n",
      "[0.5477272727272726, 0.7721428571428571, 0.8599999999999999, 0.88]\n",
      "Bbox(x0=0.125, y0=0.6427142857142857, x1=0.47727272727272724, y1=0.7505714285714286)\n",
      "[0.125, 0.6427142857142857, 0.43727272727272726, 0.7505714285714286]\n",
      "Bbox(x0=0.5477272727272726, y0=0.6427142857142857, x1=0.8999999999999999, y1=0.7505714285714286)\n",
      "[0.5477272727272726, 0.6427142857142857, 0.8599999999999999, 0.7505714285714286]\n",
      "Bbox(x0=0.125, y0=0.5132857142857142, x1=0.47727272727272724, y1=0.6211428571428571)\n",
      "[0.125, 0.5132857142857142, 0.43727272727272726, 0.6211428571428571]\n"
     ]
    },
    {
     "name": "stderr",
     "output_type": "stream",
     "text": [
      "/g/data3/hh5/public/apps/miniconda3/envs/analysis3-19.07/lib/python3.6/site-packages/matplotlib/contour.py:1004: UserWarning: The following kwargs were not used by contour: 'linewidth', 'color'\n",
      "  s)\n"
     ]
    },
    {
     "name": "stdout",
     "output_type": "stream",
     "text": [
      "Bbox(x0=0.5477272727272726, y0=0.5132857142857142, x1=0.8999999999999999, y1=0.6211428571428571)\n",
      "[0.5477272727272726, 0.5132857142857142, 0.8599999999999999, 0.6211428571428571]\n",
      "Bbox(x0=0.125, y0=0.25442857142857134, x1=0.47727272727272724, y1=0.49171428571428566)\n",
      "[0.125, 0.27942857142857136, 0.43727272727272726, 0.46671428571428564]\n",
      "Bbox(x0=0.125, y0=0.12499999999999989, x1=0.8999999999999999, y1=0.23285714285714276)\n",
      "[0.125, 0.12499999999999989, 0.8599999999999999, 0.23285714285714276]\n",
      "Bbox(x0=0.5477272727272726, y0=0.25442857142857134, x1=0.8999999999999999, y1=0.49171428571428566)\n",
      "[0.5477272727272726, 0.27942857142857136, 0.8599999999999999, 0.46671428571428564]\n",
      "(28,)\n",
      "(70,)\n",
      "(70, 28)\n",
      "(70, 28)\n",
      "(70, 28)\n",
      "(70, 28)\n",
      "(70, 28)\n",
      "[[ -4.6148734   -2.5994053   -0.2420994  ...  -0.4886937   -0.42565036\n",
      "   -0.29632866]\n",
      " [ -3.3116844   -4.3667054   -2.4545193  ...   0.21167576   0.32637644\n",
      "    0.40910113]\n",
      " [ -3.2015882   -4.1835723   -3.475122   ...   1.0465735    1.1166886\n",
      "    1.021739  ]\n",
      " ...\n",
      " [         nan          nan          nan ... -11.139349   -13.476822\n",
      "  -14.050837  ]\n",
      " [         nan          nan          nan ...  -4.6578126   -4.640132\n",
      "   -4.3589644 ]\n",
      " [         nan          nan          nan ...   1.0153656    3.1098678\n",
      "    3.776627  ]]\n"
     ]
    },
    {
     "name": "stderr",
     "output_type": "stream",
     "text": [
      "/g/data3/hh5/public/apps/miniconda3/envs/analysis3-19.07/lib/python3.6/site-packages/matplotlib/contour.py:1004: UserWarning: The following kwargs were not used by contour: 'add_colorbar'\n",
      "  s)\n"
     ]
    },
    {
     "data": {
      "image/png": "[encoded data removed]",
      "text/plain": [
       "<Figure size 540x864 with 18 Axes>"
      ]
     },
     "metadata": {
      "needs_background": "light"
     },
     "output_type": "display_data"
    }
   ],
   "source": [
    "from mpl_toolkits.axes_grid1.axes_divider import make_axes_locatable\n",
    "from mpl_toolkits.axes_grid1.inset_locator import inset_axes\n",
    "def arange(start,end,stride=1):\n",
    "    return np.arange(start,end+0.00000001,stride)\n",
    "def bbox(pos):\n",
    "    return matplotlib.transforms.Bbox(np.array([[pos[0],pos[1]],[pos[2],pos[3]]]))\n",
    "\n",
    "fig = plt.figure() \n",
    "fig.set_size_inches(7.5,12)\n",
    "matplotlib.rcParams.update({'font.size': 6}) \n",
    "col = 2\n",
    "row = 6\n",
    "\n",
    "ax = plt.subplot2grid((row, col), (0, 0), rowspan=1, colspan=1)\n",
    "pos = ax.get_position()\n",
    "print(pos)\n",
    "pos_plot = [pos.x0, pos.y0, pos.x1-0.04, pos.y1] \n",
    "print(pos_plot)\n",
    "\n",
    "cont_lev = arange(-0.03,0.03,0.005)\n",
    "anom = tau_x_rcp85 - tau_x_hist5069\n",
    "contf = anom.plot.contourf(add_colorbar=False, levels=cont_lev, cmap=plt.cm.PRGn, extend='both')\n",
    "ax.set_position(bbox(pos_plot))\n",
    "\n",
    "plt.grid(linewidth=0.5)\n",
    "plt.title(r'a) Zonal wind stress', loc='left')\n",
    "plt.xlabel('')\n",
    "plt.ylabel('')\n",
    "plt.gca().set_xticks(arange(100,160,10))\n",
    "plt.gca().set_xticklabels('')\n",
    "ax.set_facecolor('gray')\n",
    "plt.ylabel('Latitude ($^{\\circ}N$)')\n",
    "\n",
    "axins = inset_axes(ax,\n",
    "                   width=\"3%\",  # width = 5% of parent_bbox width\n",
    "                   height=\"100%\",  # height : 50%\n",
    "                   loc='lower left',\n",
    "                   bbox_to_anchor=(1.02, 0, 1, 1),\n",
    "                   bbox_transform=ax.transAxes,\n",
    "                   borderpad=0)\n",
    "cbar = plt.colorbar(contf, orientation='vertical',\n",
    "                    label=r'$N\\ m^{-2}$', cax=axins)\n",
    "\n",
    "\n",
    "ax = plt.subplot2grid((row, col), (0, 1), rowspan=1, colspan=1)\n",
    "pos = ax.get_position()\n",
    "print(pos)\n",
    "pos_plot = [pos.x0, pos.y0, pos.x1-0.04, pos.y1] \n",
    "print(pos_plot)\n",
    "\n",
    "cont_lev = arange(-2.25,2.25,0.25)\n",
    "anom = SST_rcp85 - SST_hist5069\n",
    "contf = anom.plot.contourf(add_colorbar=False, levels=cont_lev, cmap=plt.cm.seismic, extend='both',)\n",
    "ax.set_position(bbox(pos_plot))\n",
    "plt.title('')\n",
    "plt.grid(linewidth=0.5)\n",
    "plt.title('b) $SST$', loc='left')\n",
    "plt.xlabel('')\n",
    "plt.ylabel('')\n",
    "ax.set_facecolor('gray')\n",
    "plt.gca().set_xticks(arange(100,160,10))\n",
    "plt.gca().set_xticklabels('')\n",
    "plt.gca().set_yticklabels('')\n",
    "axins = inset_axes(ax,\n",
    "                   width=\"3%\",  # width = 5% of parent_bbox width\n",
    "                   height=\"100%\",  # height : 50%\n",
    "                   loc='lower left',\n",
    "                   bbox_to_anchor=(1.02, 0, 1, 1),\n",
    "                   bbox_transform=ax.transAxes,\n",
    "                   borderpad=0)\n",
    "cbar = plt.colorbar(contf, orientation='vertical',\n",
    "                    label=r'$^{\\circ}C$', cax=axins)\n",
    "\n",
    "\n",
    "ax = plt.subplot2grid((row, col), (1, 0), rowspan=1, colspan=1)\n",
    "pos = ax.get_position()\n",
    "print(pos)\n",
    "pos_plot = [pos.x0, pos.y0, pos.x1-0.04, pos.y1] \n",
    "print(pos_plot)\n",
    "\n",
    "cont_lev = arange(-20,20,2.5)\n",
    "anom = sea_level_rcp85 - sea_level_hist5069\n",
    "contf = anom.plot.contourf(add_colorbar=False, levels=cont_lev, cmap=plt.cm.BrBG, extend='both')\n",
    "ax.set_position(bbox(pos_plot))\n",
    "plt.title('')\n",
    "plt.grid(linewidth=0.5)\n",
    "plt.title(r'c) Sea level', loc='left')\n",
    "plt.xlabel('')\n",
    "plt.ylabel('')\n",
    "plt.gca().set_xticks(arange(100,160,10))\n",
    "plt.gca().set_xticklabels('')\n",
    "ax.set_facecolor('gray')\n",
    "plt.ylabel('Latitude ($^{\\circ}N$)')\n",
    "axins = inset_axes(ax,\n",
    "                   width=\"3%\",  # width = 5% of parent_bbox width\n",
    "                   height=\"100%\",  # height : 50%\n",
    "                   loc='lower left',\n",
    "                   bbox_to_anchor=(1.02, 0, 1, 1),\n",
    "                   bbox_transform=ax.transAxes,\n",
    "                   borderpad=0)\n",
    "cbar = plt.colorbar(contf, orientation='vertical',\n",
    "                    label=r'$cm$', cax=axins)\n",
    "\n",
    "ax = plt.subplot2grid((row, col), (1, 1), rowspan=1, colspan=1)\n",
    "pos = ax.get_position()\n",
    "print(pos)\n",
    "pos_plot = [pos.x0, pos.y0, pos.x1-0.04, pos.y1] \n",
    "print(pos_plot)\n",
    "\n",
    "cont_lev = arange(-0.2,0.2,0.04)\n",
    "anom = V_ek_rcp85 - V_ek_hist5069\n",
    "contf = anom.plot.contourf(add_colorbar=False, levels=cont_lev, cmap=plt.cm.seismic, extend='both')\n",
    "ax.set_position(bbox(pos_plot))\n",
    "plt.title('')\n",
    "plt.grid(linewidth=0.5)\n",
    "plt.title(r'd) Meridional Ekman transport', loc='left')\n",
    "plt.xlabel('')\n",
    "plt.ylabel('')\n",
    "ax.set_facecolor('gray')\n",
    "plt.gca().set_xticks(arange(100,160,10))\n",
    "plt.gca().set_xticklabels('')\n",
    "plt.gca().set_yticklabels('')\n",
    "axins = inset_axes(ax,\n",
    "                   width=\"3%\",  # width = 5% of parent_bbox width\n",
    "                   height=\"100%\",  # height : 50%\n",
    "                   loc='lower left',\n",
    "                   bbox_to_anchor=(1.02, 0, 1, 1),\n",
    "                   bbox_transform=ax.transAxes,\n",
    "                   borderpad=0)\n",
    "cbar = plt.colorbar(contf, orientation='vertical',\n",
    "                    label=r'$m^{2}\\ s^{-1}$', cax=axins)\n",
    "\n",
    "\n",
    "ax = plt.subplot2grid((row, col), (2, 0), rowspan=1, colspan=1)\n",
    "pos = ax.get_position()\n",
    "print(pos)\n",
    "pos_plot = [pos.x0, pos.y0, pos.x1-0.04, pos.y1] \n",
    "print(pos_plot)\n",
    "\n",
    "cont_lev = arange(-30,30,5)\n",
    "anom = net_sfc_heating_rcp85 - net_sfc_heating_hist5069\n",
    "contf = anom.plot.contourf(add_colorbar=False, levels=cont_lev, cmap=plt.cm.seismic, extend='both')\n",
    "plt.contour(SST_rcp85.xt_ocean, SST_rcp85.yt_ocean, SST_rcp85 - SST_hist5069, \n",
    "            levels=[0.25], linewidth=1, color='k')\n",
    "\n",
    "plt.text(116, -28, 'g', fontweight='bold', fontsize=10)\n",
    "plt.text(147, -33, 'h', fontweight='bold', fontsize=10)\n",
    "plt.text(125, -31, 'i', fontweight='bold', fontsize=10)\n",
    "\n",
    "ax.set_position(bbox(pos_plot))\n",
    "plt.title('')\n",
    "plt.grid(linewidth=0.5)\n",
    "plt.title(r'e) Net surface heat flux', loc='left')\n",
    "plt.ylabel('Latitude ($^{\\circ}N$)')\n",
    "ax.set_facecolor('gray')\n",
    "plt.gca().set_xticks(arange(100,160,10))\n",
    "# plt.gca().set_xticklabels('')\n",
    "# plt.gca().set_yticklabels('')\n",
    "plt.xlabel('Longitude ($^{\\circ}E$)')\n",
    "axins = inset_axes(ax,\n",
    "                   width=\"3%\",  # width = 5% of parent_bbox width\n",
    "                   height=\"100%\",  # height : 50%\n",
    "                   loc='lower left',\n",
    "                   bbox_to_anchor=(1.02, 0, 1, 1),\n",
    "                   bbox_transform=ax.transAxes,\n",
    "                   borderpad=0)\n",
    "cbar = plt.colorbar(contf, orientation='vertical',\n",
    "                    label=r'$W\\ m^{-2}$', cax=axins)\n",
    "\n",
    "ax = plt.subplot2grid((row, col), (2, 1), rowspan=1, colspan=1)\n",
    "pos = ax.get_position()\n",
    "print(pos)\n",
    "pos_plot = [pos.x0, pos.y0, pos.x1-0.04, pos.y1] \n",
    "print(pos_plot)\n",
    "\n",
    "cont_lev = arange(-0.00000005,0.00000005,0.00000001)\n",
    "anom = tau_curl_rcp85 - tau_curl_hist5069\n",
    "contf2 = anom.plot.contourf(add_colorbar=False, levels=cont_lev, cmap=plt.cm.seismic, extend='both')\n",
    "ax.set_position(bbox(pos_plot))\n",
    "plt.title('')\n",
    "plt.grid(linewidth=0.5)\n",
    "plt.title(r'f) Wind stress curl', loc='left')\n",
    "plt.ylabel('')\n",
    "plt.gca().set_xticks(arange(100,160,10))\n",
    "# plt.gca().set_xticklabels('')\n",
    "plt.gca().set_yticklabels('')\n",
    "ax.set_facecolor('gray')\n",
    "plt.xlabel('Longitude ($^{\\circ}E$)')\n",
    "axins = inset_axes(ax,\n",
    "                   width=\"3%\",  # width = 5% of parent_bbox width\n",
    "                   height=\"100%\",  # height : 50%\n",
    "                   loc='lower left',\n",
    "                   bbox_to_anchor=(1.02, 0, 1, 1),\n",
    "                   bbox_transform=ax.transAxes,\n",
    "                   borderpad=0)\n",
    "cbar = plt.colorbar(contf, orientation='vertical',\n",
    "                    label=r'$N\\ m^{-3}$', cax=axins)\n",
    "\n",
    "\n",
    "\n",
    "ax = plt.subplot2grid((row, col), (3, 0), rowspan=2, colspan=1)\n",
    "pos = ax.get_position()\n",
    "print(pos)\n",
    "pos_plot = [pos.x0, pos.y0+0.025, pos.x1-0.04, pos.y1-0.025] \n",
    "print(pos_plot)\n",
    "\n",
    "cont_lev = arange(0, 10, 2.5)\n",
    "u_anom = u_rcp85 - u_hist5069\n",
    "v_anom = v_rcp85 - v_hist5069\n",
    "X_LIM = [110, 116]\n",
    "Y_LIM = [-37, -23]\n",
    "X = v_anom.xu_ocean[\n",
    "    find_nearest_index(v_anom.xu_ocean.data, X_LIM[0]):find_nearest_index(v_anom.xu_ocean.data, X_LIM[1])]\n",
    "Y = v_anom.yu_ocean[\n",
    "    find_nearest_index(v_anom.yu_ocean.data, Y_LIM[0]):find_nearest_index(v_anom.yu_ocean.data, Y_LIM[1])]\n",
    "Xm, Ym = np.meshgrid(X,Y)\n",
    "U = np.array(u_anom[\n",
    "    find_nearest_index(v_anom.yu_ocean.data, Y_LIM[0]):find_nearest_index(v_anom.yu_ocean.data, Y_LIM[1]),\n",
    "    find_nearest_index(v_anom.xu_ocean.data, X_LIM[0]):find_nearest_index(v_anom.xu_ocean.data, X_LIM[1])\n",
    "])\n",
    "V = np.array(v_anom[\n",
    "    find_nearest_index(v_anom.yu_ocean.data, Y_LIM[0]):find_nearest_index(v_anom.yu_ocean.data, Y_LIM[1]),\n",
    "    find_nearest_index(v_anom.xu_ocean.data, X_LIM[0]):find_nearest_index(v_anom.xu_ocean.data, X_LIM[1])\n",
    "])\n",
    "# contf = plt.contourf(X, Y, V, add_colorbar=False, levels=cont_lev, cmap=plt.cm.coolwarm, extend='both')\n",
    "# plt.title('')\n",
    "n = 1\n",
    "\n",
    "cmapQ = plt.cm.GnBu_r\n",
    "\n",
    "speed = np.sqrt(U**2 + V**2)\n",
    "U1 = cp(U)\n",
    "V1 = cp(V)\n",
    "U2 = U / speed\n",
    "V2 = V / speed\n",
    "tol = 0\n",
    "U2 = U1 / (U1**2 + V1**2)**(1/4)\n",
    "V2 = V1 / (U1**2 + V1**2)**(1/4)\n",
    "speed2 = cp(speed)\n",
    "# speed2[speed < tol] = np.NaN\n",
    "\n",
    "contf = plt.contourf(X, Y, speed, add_colorbar=False, levels=cont_lev, cmap=cmapQ, extend='max')\n",
    "plt.title('')\n",
    "plt.text(114.1, -26, 'Western\\nAustralia', fontweight='bold', fontsize=8)\n",
    "\n",
    "vmin=tol\n",
    "vmax=5\n",
    "step=5\n",
    "Q_lev = np.linspace(vmin, vmax, step+1)\n",
    "norm = matplotlib.colors.Normalize(vmin=vmin,vmax=vmax,clip=False)\n",
    "cmap = matplotlib.colors.ListedColormap(plt.cm.Greys(np.linspace(0,1,step)), \"name\")\n",
    "\n",
    "# print(X.shape)\n",
    "# print(Y.shape)\n",
    "# print(U1.shape)\n",
    "# print(V1.shape)\n",
    "# print(U2.shape)\n",
    "# print(V2.shape)\n",
    "# print(speed.shape)\n",
    "\n",
    "# Q1 = plt.quiver(X[0:188:n], \n",
    "#                 Y[0:132:n], \n",
    "#                 U1[0:132:n, 0:188:n], \n",
    "#                 V1[0:132:n, 0:188:n],\n",
    "#                 width=0.0015, scale=100,\n",
    "#                 headwidth=4.5, headaxislength=3.75, \n",
    "#                 facecolor='w', edgecolor='k', linewidth=0.2)\n",
    "\n",
    "Q2 = plt.quiver(X[0:188:n], \n",
    "                Y[0:132:n+2], \n",
    "                U2[0:132:n+2, 0:188:n], \n",
    "                V2[0:132:n+2, 0:188:n],\n",
    "                cmap=cmap, norm=norm,\n",
    "                width=0.005, scale=50,\n",
    "                edgecolor='k', linewidth=0)\n",
    "ax.set_position(bbox(pos_plot))\n",
    "\n",
    "plt.grid(linewidth=0.5)\n",
    "plt.title('g) Surface velocity off Western Australia', loc='left')\n",
    "plt.xlabel('')\n",
    "plt.ylabel('')\n",
    "ax.set_facecolor('gray')\n",
    "plt.xlabel('Longitude ($^{\\circ}E$)')\n",
    "plt.ylabel('Latitude ($^{\\circ}N$)')\n",
    "axins = inset_axes(ax,\n",
    "                   width=\"3%\",  # width = 5% of parent_bbox width\n",
    "                   height=\"100%\",  # height : 50%\n",
    "                   loc='lower left',\n",
    "                   bbox_to_anchor=(1.02, 0, 1, 1),\n",
    "                   bbox_transform=ax.transAxes,\n",
    "                   borderpad=0)\n",
    "cbar = plt.colorbar(contf, orientation='vertical', cax=axins)\n",
    "cbar.set_label(label=r'Speed ($cm\\ s^{-1}$)', labelpad=-4)\n",
    "\n",
    "\n",
    "ax = plt.subplot2grid((row, col), (5, 0), rowspan=1, colspan=3)\n",
    "pos = ax.get_position()\n",
    "print(pos)\n",
    "pos_plot = [pos.x0, pos.y0, pos.x1-0.04, pos.y1] \n",
    "print(pos_plot)\n",
    "\n",
    "cont_lev = arange(0, 6, 1)\n",
    "u_anom = u_rcp85 - u_hist5069\n",
    "v_anom = v_rcp85 - v_hist5069\n",
    "X_LIM = [115, 140]\n",
    "Y_LIM = [-37, -31]\n",
    "X = v_anom.xu_ocean[\n",
    "    find_nearest_index(v_anom.xu_ocean.data, X_LIM[0]):find_nearest_index(v_anom.xu_ocean.data, X_LIM[1])]\n",
    "Y = v_anom.yu_ocean[\n",
    "    find_nearest_index(v_anom.yu_ocean.data, Y_LIM[0]):find_nearest_index(v_anom.yu_ocean.data, Y_LIM[1])]\n",
    "Xm, Ym = np.meshgrid(X,Y)\n",
    "U = np.array(u_anom[\n",
    "    find_nearest_index(v_anom.yu_ocean.data, Y_LIM[0]):find_nearest_index(v_anom.yu_ocean.data, Y_LIM[1]),\n",
    "    find_nearest_index(v_anom.xu_ocean.data, X_LIM[0]):find_nearest_index(v_anom.xu_ocean.data, X_LIM[1])\n",
    "])\n",
    "V = np.array(v_anom[\n",
    "    find_nearest_index(v_anom.yu_ocean.data, Y_LIM[0]):find_nearest_index(v_anom.yu_ocean.data, Y_LIM[1]),\n",
    "    find_nearest_index(v_anom.xu_ocean.data, X_LIM[0]):find_nearest_index(v_anom.xu_ocean.data, X_LIM[1])\n",
    "])\n",
    "# contf = plt.contourf(X, Y, U, add_colorbar=False, levels=cont_lev, cmap=cmap, extend='max')\n",
    "# plt.title('')\n",
    "n = 2\n",
    "\n",
    "speed = np.sqrt(U**2 + V**2)\n",
    "U1 = cp(U)\n",
    "V1 = cp(V)\n",
    "U2 = U / speed\n",
    "V2 = V / speed\n",
    "tol = 0\n",
    "U2 = U1 / (U1**2 + V1**2)**(1/4)\n",
    "V2 = V1 / (U1**2 + V1**2)**(1/4)\n",
    "speed2 = cp(speed)\n",
    "# speed2[speed < tol] = np.NaN\n",
    "\n",
    "contf = plt.contourf(X, Y, speed, add_colorbar=False, levels=cont_lev, cmap=cmapQ, extend='max')\n",
    "plt.title('')\n",
    "plt.text(118, -33.5, 'Southern\\nAustralia', fontweight='bold', fontsize=8)\n",
    "\n",
    "vmin=tol\n",
    "vmax=5\n",
    "step=5\n",
    "Q_lev = np.linspace(vmin, vmax, step+1)\n",
    "norm = matplotlib.colors.Normalize(vmin=vmin,vmax=vmax,clip=False)\n",
    "cmap = matplotlib.colors.ListedColormap(plt.cm.Greys(np.linspace(0,1,step)), \"name\")\n",
    "\n",
    "# print(X.shape)\n",
    "# print(Y.shape)\n",
    "# print(U1.shape)\n",
    "# print(V1.shape)\n",
    "# print(U2.shape)\n",
    "# print(V2.shape)\n",
    "# print(speed.shape)\n",
    "\n",
    "# Q1 = plt.quiver(X[0:188:n], \n",
    "#                 Y[0:132:n], \n",
    "#                 U1[0:132:n, 0:188:n], \n",
    "#                 V1[0:132:n, 0:188:n],\n",
    "#                 width=0.0015, scale=100,\n",
    "#                 headwidth=4.5, headaxislength=3.75, \n",
    "#                 facecolor='w', edgecolor='k', linewidth=0.2)\n",
    "\n",
    "Q2 = plt.quiver(X[0:188:n], \n",
    "                Y[0:132:n], \n",
    "                U2[0:132:n, 0:188:n], \n",
    "                V2[0:132:n, 0:188:n],\n",
    "                cmap=cmap, norm=norm,\n",
    "                width=0.002, scale=100,\n",
    "                edgecolor='k', linewidth=0)\n",
    "ax.set_position(bbox(pos_plot))\n",
    "\n",
    "plt.grid(linewidth=0.5)\n",
    "plt.title('i) Surface velocity off Southern Australia', loc='left')\n",
    "plt.xlabel('')\n",
    "plt.ylabel('')\n",
    "ax.set_facecolor('gray')\n",
    "plt.xlabel('Longitude ($^{\\circ}E$)')\n",
    "plt.ylabel('Latitude ($^{\\circ}N$)')\n",
    "plt.xticks(arange(115,140,2.5))\n",
    "axins = inset_axes(ax,\n",
    "                   width=\"1.2%\",  # width = 5% of parent_bbox width\n",
    "                   height=\"100%\",  # height : 50%\n",
    "                   loc='lower left',\n",
    "                   bbox_to_anchor=(1.01, 0, 1, 1),\n",
    "                   bbox_transform=ax.transAxes,\n",
    "                   borderpad=0)\n",
    "cbar = plt.colorbar(contf, orientation='vertical',\n",
    "                    label=r'Speed ($cm\\ s^{-1}$)', cax=axins)\n",
    "\n",
    "\n",
    "ax = plt.subplot2grid((row, col), (3, 1), rowspan=2, colspan=1)\n",
    "pos = ax.get_position()\n",
    "print(pos)\n",
    "pos_plot = [pos.x0, pos.y0+0.025, pos.x1-0.04, pos.y1-0.025] \n",
    "print(pos_plot)\n",
    "\n",
    "cont_lev = arange(0, 25, 5)\n",
    "u_anom = u_rcp85 - u_hist5069\n",
    "v_anom = v_rcp85 - v_hist5069\n",
    "X_LIM = [148, 155]\n",
    "Y_LIM = [-44, -30]\n",
    "X = v_anom.xu_ocean[\n",
    "    find_nearest_index(v_anom.xu_ocean.data, X_LIM[0]):find_nearest_index(v_anom.xu_ocean.data, X_LIM[1])]\n",
    "Y = v_anom.yu_ocean[\n",
    "    find_nearest_index(v_anom.yu_ocean.data, Y_LIM[0]):find_nearest_index(v_anom.yu_ocean.data, Y_LIM[1])]\n",
    "Xm, Ym = np.meshgrid(X,Y)\n",
    "U = np.array(u_anom[\n",
    "    find_nearest_index(v_anom.yu_ocean.data, Y_LIM[0]):find_nearest_index(v_anom.yu_ocean.data, Y_LIM[1]),\n",
    "    find_nearest_index(v_anom.xu_ocean.data, X_LIM[0]):find_nearest_index(v_anom.xu_ocean.data, X_LIM[1])\n",
    "])\n",
    "V = np.array(v_anom[\n",
    "    find_nearest_index(v_anom.yu_ocean.data, Y_LIM[0]):find_nearest_index(v_anom.yu_ocean.data, Y_LIM[1]),\n",
    "    find_nearest_index(v_anom.xu_ocean.data, X_LIM[0]):find_nearest_index(v_anom.xu_ocean.data, X_LIM[1])\n",
    "])\n",
    "# contf = plt.contourf(X, Y, speed, add_colorbar=False, levels=cont_lev, cmap=cmap, extend='max')\n",
    "# plt.title('')\n",
    "n = 1\n",
    "\n",
    "speed = np.sqrt(U**2 + V**2)\n",
    "U1 = cp(U)\n",
    "V1 = cp(V)\n",
    "U2 = U / speed\n",
    "V2 = V / speed\n",
    "tol = 0\n",
    "U2 = U1 / (U1**2 + V1**2)**(1/4)\n",
    "V2 = V1 / (U1**2 + V1**2)**(1/4)\n",
    "speed2 = cp(speed)\n",
    "# speed2[speed < tol] = np.NaN\n",
    "\n",
    "contf = plt.contourf(X, Y, speed, add_colorbar=False, levels=cont_lev, cmap=cmapQ, extend='max')\n",
    "plt.title('')\n",
    "plt.text(150, -33, 'Eastern\\nAustralia', fontweight='bold', fontsize=8)\n",
    "\n",
    "print(X.shape)\n",
    "print(Y.shape)\n",
    "print(U1.shape)\n",
    "print(V1.shape)\n",
    "print(U2.shape)\n",
    "print(V2.shape)\n",
    "print(speed.shape)\n",
    "\n",
    "print(U1)\n",
    "\n",
    "vmin=tol\n",
    "vmax=15\n",
    "step=5\n",
    "Q_lev = np.linspace(vmin, vmax, step+1)\n",
    "norm = matplotlib.colors.Normalize(vmin=vmin,vmax=vmax,clip=False)\n",
    "cmap = matplotlib.colors.ListedColormap(plt.cm.Greys(np.linspace(0,1,step)), \"name\")\n",
    "\n",
    "# Q1 = plt.quiver(X[0:72:n], \n",
    "#                 Y[0:132:n], \n",
    "#                 U1[0:132:n, 0:72:n], \n",
    "#                 V1[0:132:n, 0:72:n],\n",
    "#                 norm=norm,\n",
    "#                 width=0.0015, scale=100,\n",
    "#                 headwidth=4.5, headaxislength=3.75, \n",
    "#                 facecolor='w', edgecolor='k', linewidth=0.2)\n",
    "\n",
    "# Q2 = plt.quiver(X[0:92:n], \n",
    "#                 Y[0:132:n], \n",
    "#                 U2[0:132:n, 0:92:n], \n",
    "#                 V2[0:132:n, 0:92:n],\n",
    "#                 speed2[0:132:n, 0:92:n],\n",
    "#                 cmap=cmap, norm=norm,\n",
    "#                 width=0.0035, scale=100,\n",
    "#                 headwidth=4.5, headaxislength=3.75, \n",
    "#                 edgecolor='k', linewidth=0.2)\n",
    "\n",
    "Q2 = plt.quiver(X[0:92:n], \n",
    "                Y[0:132:n+2], \n",
    "                U2[0:132:n+2, 0:92:n], \n",
    "                V2[0:132:n+2, 0:92:n],\n",
    "                cmap=cmap, norm=norm,\n",
    "                width=0.0055, scale=80,\n",
    "                edgecolor='k', linewidth=0)\n",
    "ax.set_position(bbox(pos_plot))\n",
    "\n",
    "plt.grid(linewidth=0.5)\n",
    "plt.title('h) Surface velocity off Eastern Australia', loc='left')\n",
    "plt.xlabel('')\n",
    "plt.ylabel('')\n",
    "# plt.xticks(arange(150,160,5))\n",
    "# plt.gca().set_yticklabels('')\n",
    "plt.xlabel('Longitude ($^{\\circ}E$)')\n",
    "ax.set_facecolor('gray')\n",
    "axins = inset_axes(ax,\n",
    "                   width=\"3%\",  # width = 5% of parent_bbox width\n",
    "                   height=\"100%\",  # height : 50%\n",
    "                   loc='lower left',\n",
    "                   bbox_to_anchor=(1.02, 0, 1, 1),\n",
    "                   bbox_transform=ax.transAxes,\n",
    "                   borderpad=0)\n",
    "cbar = plt.colorbar(contf, orientation='vertical',\n",
    "                    label=r'Speed ($cm\\ s^{-1}$)', cax=axins)\n",
    "\n",
    "\n",
    "output_ls = os.listdir(figures_path)\n",
    "if not script_name:\n",
    "    script_name = 'test'\n",
    "elif script_name not in output_ls:\n",
    "    os.mkdir(figures_path + '/' + script_name)\n",
    "plt.savefig(figures_path + '/' + script_name + '/' + script_name[0:3] \\\n",
    "            + '_fig1_4.png', bbox_inches='tight', dpi=300)"
   ]
  },
  {
   "cell_type": "code",
   "execution_count": null,
   "metadata": {},
   "outputs": [],
   "source": []
  },
  {
   "cell_type": "code",
   "execution_count": null,
   "metadata": {},
   "outputs": [],
   "source": []
  },
  {
   "cell_type": "code",
   "execution_count": null,
   "metadata": {},
   "outputs": [],
   "source": []
  },
  {
   "cell_type": "code",
   "execution_count": null,
   "metadata": {},
   "outputs": [],
   "source": []
  },
  {
   "cell_type": "code",
   "execution_count": null,
   "metadata": {},
   "outputs": [],
   "source": []
  },
  {
   "cell_type": "code",
   "execution_count": null,
   "metadata": {},
   "outputs": [],
   "source": []
  },
  {
   "cell_type": "code",
   "execution_count": null,
   "metadata": {},
   "outputs": [],
   "source": []
  }
 ],
 "metadata": {
  "kernelspec": {
   "display_name": "Python [conda env:analysis3-19.07] *",
   "language": "python",
   "name": "conda-env-analysis3-19.07-py"
  },
  "language_info": {
   "codemirror_mode": {
    "name": "ipython",
    "version": 3
   },
   "file_extension": ".py",
   "mimetype": "text/x-python",
   "name": "python",
   "nbconvert_exporter": "python",
   "pygments_lexer": "ipython3",
   "version": "3.6.7"
  }
 },
 "nbformat": 4,
 "nbformat_minor": 2
}
