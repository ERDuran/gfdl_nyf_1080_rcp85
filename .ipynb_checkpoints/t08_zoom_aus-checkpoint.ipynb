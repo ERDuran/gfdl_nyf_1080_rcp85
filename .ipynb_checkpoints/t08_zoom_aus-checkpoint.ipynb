{
 "cells": [
  {
   "cell_type": "code",
   "execution_count": 1,
   "metadata": {},
   "outputs": [],
   "source": [
    "import os\n",
    "# numerical computing package\n",
    "import numpy as np\n",
    "# \n",
    "from scipy import stats\n",
    "# command style functions that make matplotlib work like MATLAB\n",
    "import matplotlib.pyplot as plt\n",
    "# matplotlib\n",
    "import matplotlib\n",
    "# find nearest value\n",
    "def find_nearest_index(array, value):\n",
    "    return (np.abs(array - value)).argmin()\n",
    "#\n",
    "import sys\n",
    "#\n",
    "import pickle\n",
    "#\n",
    "import xarray as xr\n",
    "#\n",
    "from glob import glob as gb\n",
    "#\n",
    "import time\n",
    "#\n",
    "import cartopy.crs as ccrs\n",
    "#\n",
    "from copy import deepcopy as cp"
   ]
  },
  {
   "cell_type": "code",
   "execution_count": 2,
   "metadata": {},
   "outputs": [
    {
     "data": {
      "application/javascript": [
       "IPython.notebook.kernel.execute('nb_name = ' + '\"' + IPython.notebook.notebook_name + '\"')"
      ],
      "text/plain": [
       "<IPython.core.display.Javascript object>"
      ]
     },
     "metadata": {},
     "output_type": "display_data"
    }
   ],
   "source": [
    "%%javascript\n",
    "IPython.notebook.kernel.execute('nb_name = ' + '\"' + IPython.notebook.notebook_name + '\"')"
   ]
  },
  {
   "cell_type": "code",
   "execution_count": 3,
   "metadata": {},
   "outputs": [
    {
     "name": "stdout",
     "output_type": "stream",
     "text": [
      "/home/561/erd561/mom/gfdl_nyf_1080_rcp85\r\n"
     ]
    }
   ],
   "source": [
    "!pwd"
   ]
  },
  {
   "cell_type": "code",
   "execution_count": 4,
   "metadata": {},
   "outputs": [
    {
     "name": "stdout",
     "output_type": "stream",
     "text": [
      "Figures will be saved in: /home/561/erd561/figures/SAMexp/t08_zoom_aus\n",
      "\n"
     ]
    }
   ],
   "source": [
    "figures_path = '/home/561/erd561/figures/SAMexp/'\n",
    "script_name = nb_name[:-6]\n",
    "print('Figures will be saved in: ' + figures_path + script_name + '\\n')\n",
    "\n",
    "nyf_path = '/g/data/v45/pas561/mom/archive/gfdl_nyf_1080/'\n",
    "ctrl_path = '/g/data/e14/erd561/mom/gfdl_nyf_1080_hist_5069/archive/'\n",
    "hist5069_path = '/g/data/e14/erd561/mom/gfdl_nyf_1080_hist_5069/archive/'\n",
    "rcp85_path = '/g/data/e14/erd561/mom/gfdl_nyf_1080_rcp85/archive/'"
   ]
  },
  {
   "cell_type": "code",
   "execution_count": 5,
   "metadata": {},
   "outputs": [
    {
     "name": "stdout",
     "output_type": "stream",
     "text": [
      "<Client: scheduler='tcp://127.0.0.1:36752' processes=8 cores=8>\n",
      "CPU times: user 1.18 s, sys: 255 ms, total: 1.43 s\n",
      "Wall time: 5.93 s\n"
     ]
    }
   ],
   "source": [
    "%%time\n",
    "\n",
    "from dask.distributed import Client\n",
    "c = Client()\n",
    "print(c)"
   ]
  },
  {
   "cell_type": "code",
   "execution_count": 6,
   "metadata": {},
   "outputs": [
    {
     "name": "stdout",
     "output_type": "stream",
     "text": [
      "[-9 -8 -7 -6 -5 -4 -3 -2 -1  0  1  2  3  4  5  6  7  8  9 10 11 12 13 14\n",
      " 15 16 17 18 19 20]\n",
      "30\n",
      "/g/data/v45/pas561/mom/archive/gfdl_nyf_1080/output477/ocean.nc\n",
      "/g/data/v45/pas561/mom/archive/gfdl_nyf_1080/output477/ocean.nc\n",
      "/g/data/v45/pas561/mom/archive/gfdl_nyf_1080/output478/ocean.nc\n",
      "/g/data/v45/pas561/mom/archive/gfdl_nyf_1080/output478/ocean.nc\n",
      "/g/data/v45/pas561/mom/archive/gfdl_nyf_1080/output479/ocean.nc\n",
      "/g/data/v45/pas561/mom/archive/gfdl_nyf_1080/output479/ocean.nc\n",
      "/g/data/v45/pas561/mom/archive/gfdl_nyf_1080/output480/ocean.nc\n",
      "/g/data/v45/pas561/mom/archive/gfdl_nyf_1080/output480/ocean.nc\n",
      "/g/data/v45/pas561/mom/archive/gfdl_nyf_1080/output481/ocean.nc\n",
      "/g/data/v45/pas561/mom/archive/gfdl_nyf_1080/output481/ocean.nc\n",
      "/g/data/v45/pas561/mom/archive/gfdl_nyf_1080/output482/ocean.nc\n",
      "/g/data/v45/pas561/mom/archive/gfdl_nyf_1080/output482/ocean.nc\n",
      "/g/data/v45/pas561/mom/archive/gfdl_nyf_1080/output483/ocean.nc\n",
      "/g/data/v45/pas561/mom/archive/gfdl_nyf_1080/output483/ocean.nc\n",
      "/g/data/v45/pas561/mom/archive/gfdl_nyf_1080/output484/ocean.nc\n",
      "/g/data/v45/pas561/mom/archive/gfdl_nyf_1080/output484/ocean.nc\n",
      "/g/data/v45/pas561/mom/archive/gfdl_nyf_1080/output485/ocean.nc\n",
      "/g/data/v45/pas561/mom/archive/gfdl_nyf_1080/output485/ocean.nc\n",
      "/g/data/v45/pas561/mom/archive/gfdl_nyf_1080/output486/ocean.nc\n",
      "/g/data/v45/pas561/mom/archive/gfdl_nyf_1080/output486/ocean.nc\n",
      "/g/data/e14/erd561/mom/gfdl_nyf_1080_hist_5069/archive/output566/ocean_month.nc\n",
      "/g/data/e14/erd561/mom/gfdl_nyf_1080_hist_5069/archive/output566/ocean_month.nc\n",
      "/g/data/e14/erd561/mom/gfdl_nyf_1080_hist_5069/archive/output567/ocean_month.nc\n",
      "/g/data/e14/erd561/mom/gfdl_nyf_1080_hist_5069/archive/output567/ocean_month.nc\n",
      "/g/data/e14/erd561/mom/gfdl_nyf_1080_hist_5069/archive/output568/ocean_month.nc\n",
      "/g/data/e14/erd561/mom/gfdl_nyf_1080_hist_5069/archive/output568/ocean_month.nc\n",
      "/g/data/e14/erd561/mom/gfdl_nyf_1080_hist_5069/archive/output569/ocean_month.nc\n",
      "/g/data/e14/erd561/mom/gfdl_nyf_1080_hist_5069/archive/output569/ocean_month.nc\n",
      "/g/data/e14/erd561/mom/gfdl_nyf_1080_hist_5069/archive/output570/ocean_month.nc\n",
      "/g/data/e14/erd561/mom/gfdl_nyf_1080_hist_5069/archive/output570/ocean_month.nc\n",
      "/g/data/e14/erd561/mom/gfdl_nyf_1080_hist_5069/archive/output571/ocean_month.nc\n",
      "/g/data/e14/erd561/mom/gfdl_nyf_1080_hist_5069/archive/output571/ocean_month.nc\n",
      "/g/data/e14/erd561/mom/gfdl_nyf_1080_hist_5069/archive/output572/ocean_month.nc\n",
      "/g/data/e14/erd561/mom/gfdl_nyf_1080_hist_5069/archive/output572/ocean_month.nc\n",
      "/g/data/e14/erd561/mom/gfdl_nyf_1080_hist_5069/archive/output573/ocean_month.nc\n",
      "/g/data/e14/erd561/mom/gfdl_nyf_1080_hist_5069/archive/output573/ocean_month.nc\n",
      "/g/data/e14/erd561/mom/gfdl_nyf_1080_hist_5069/archive/output574/ocean_month.nc\n",
      "/g/data/e14/erd561/mom/gfdl_nyf_1080_hist_5069/archive/output574/ocean_month.nc\n",
      "/g/data/e14/erd561/mom/gfdl_nyf_1080_hist_5069/archive/output575/ocean_month.nc\n",
      "/g/data/e14/erd561/mom/gfdl_nyf_1080_hist_5069/archive/output575/ocean_month.nc\n",
      "/g/data/e14/erd561/mom/gfdl_nyf_1080_rcp85/archive/output611/ocean_month.nc\n",
      "/g/data/e14/erd561/mom/gfdl_nyf_1080_rcp85/archive/output611/ocean_month.nc\n",
      "/g/data/e14/erd561/mom/gfdl_nyf_1080_rcp85/archive/output612/ocean_month.nc\n",
      "/g/data/e14/erd561/mom/gfdl_nyf_1080_rcp85/archive/output612/ocean_month.nc\n",
      "/g/data/e14/erd561/mom/gfdl_nyf_1080_rcp85/archive/output613/ocean_month.nc\n",
      "/g/data/e14/erd561/mom/gfdl_nyf_1080_rcp85/archive/output613/ocean_month.nc\n",
      "/g/data/e14/erd561/mom/gfdl_nyf_1080_rcp85/archive/output614/ocean_month.nc\n",
      "/g/data/e14/erd561/mom/gfdl_nyf_1080_rcp85/archive/output614/ocean_month.nc\n",
      "/g/data/e14/erd561/mom/gfdl_nyf_1080_rcp85/archive/output615/ocean_month.nc\n",
      "/g/data/e14/erd561/mom/gfdl_nyf_1080_rcp85/archive/output615/ocean_month.nc\n",
      "/g/data/e14/erd561/mom/gfdl_nyf_1080_rcp85/archive/output616/ocean_month.nc\n",
      "/g/data/e14/erd561/mom/gfdl_nyf_1080_rcp85/archive/output616/ocean_month.nc\n",
      "/g/data/e14/erd561/mom/gfdl_nyf_1080_rcp85/archive/output617/ocean_month.nc\n",
      "/g/data/e14/erd561/mom/gfdl_nyf_1080_rcp85/archive/output617/ocean_month.nc\n",
      "/g/data/e14/erd561/mom/gfdl_nyf_1080_rcp85/archive/output618/ocean_month.nc\n",
      "/g/data/e14/erd561/mom/gfdl_nyf_1080_rcp85/archive/output618/ocean_month.nc\n",
      "/g/data/e14/erd561/mom/gfdl_nyf_1080_rcp85/archive/output619/ocean_month.nc\n",
      "/g/data/e14/erd561/mom/gfdl_nyf_1080_rcp85/archive/output619/ocean_month.nc\n",
      "/g/data/e14/erd561/mom/gfdl_nyf_1080_rcp85/archive/output620/ocean_month.nc\n",
      "/g/data/e14/erd561/mom/gfdl_nyf_1080_rcp85/archive/output620/ocean_month.nc\n"
     ]
    }
   ],
   "source": [
    "# ice_daily, ice_month, ocean_bgc_2d, ocean_bgc_carbon, ocean_bgc_daily,\n",
    "# ocean_bgc_npzd, ocean_cfc, ocean_force, ocean_global, ocean_month, ocean_surface\n",
    "\n",
    "nyf_years = np.arange(477, 487)\n",
    "ctrl_years = np.arange(566, 576)\n",
    "# hist5069_years = np.arange(501, 576)\n",
    "rcp85_years = np.arange(611, 621)\n",
    "\n",
    "nyf_years_len = len(nyf_years)\n",
    "ctrl_years_len = len(ctrl_years)\n",
    "# hist5069_years_len = len(hist5069_years)\n",
    "rcp85_years_len = len(rcp85_years)\n",
    "\n",
    "years = np.concatenate([\n",
    "    np.arange(1-nyf_years_len, 0), \n",
    "    np.arange(0, ctrl_years_len+1), \n",
    "    np.arange(ctrl_years_len+1, ctrl_years_len+1 + rcp85_years_len)])\n",
    "print(years)\n",
    "print(len(years))\n",
    "\n",
    "# 1. SST\n",
    "var1 = 'ice_month'\n",
    "path1 = []\n",
    "\n",
    "# 2. tx and ty trans\n",
    "var21 = 'ocean'\n",
    "var22 = 'ocean_month'\n",
    "path2 = []\n",
    "\n",
    "# var31 = 'ocean'\n",
    "# var32 = 'ocean_month'\n",
    "# path3 = []\n",
    "\n",
    "for y in nyf_years:\n",
    "    path1.append(nyf_path + 'output' + str(y) + '/' + var21 + '.nc')\n",
    "    path2.append(nyf_path + 'output' + str(y) + '/' + var21 + '.nc')\n",
    "#     path3.append(remote_path_ctrl + 'output' + str(y) + '/' + var31 + '.nc')\n",
    "\n",
    "for y in ctrl_years:\n",
    "    path1.append(ctrl_path + 'output' + str(y) + '/' + var22 + '.nc')\n",
    "    path2.append(ctrl_path + 'output' + str(y) + '/' + var22 + '.nc')\n",
    "#     path3.append(remote_path + 'output' + str(y) + '/' + var32 + '.nc')\n",
    "\n",
    "for y in rcp85_years:\n",
    "    path1.append(rcp85_path + 'output' + str(y) + '/' + var22 + '.nc')\n",
    "    path2.append(rcp85_path + 'output' + str(y) + '/' + var22 + '.nc')\n",
    "#     path3.append(remote_path + 'output' + str(y) + '/' + var32 + '.nc')\n",
    "\n",
    "\n",
    "for p1,p2 in zip(path1,path2):\n",
    "    print(p1)\n",
    "    print(p2)\n",
    "#     print(p3)\n"
   ]
  },
  {
   "cell_type": "code",
   "execution_count": 7,
   "metadata": {},
   "outputs": [
    {
     "name": "stderr",
     "output_type": "stream",
     "text": [
      "/g/data3/hh5/public/apps/miniconda3/envs/analysis3-18.07/lib/python3.6/site-packages/xarray/core/nanops.py:162: RuntimeWarning: Mean of empty slice\n",
      "  return np.nanmean(a, axis=axis, dtype=dtype)\n"
     ]
    },
    {
     "name": "stdout",
     "output_type": "stream",
     "text": [
      "/g/data/v45/pas561/mom/archive/gfdl_nyf_1080/output477/ocean.nc OK\n"
     ]
    },
    {
     "name": "stderr",
     "output_type": "stream",
     "text": [
      "/g/data3/hh5/public/apps/miniconda3/envs/analysis3-18.07/lib/python3.6/site-packages/xarray/core/nanops.py:162: RuntimeWarning: Mean of empty slice\n",
      "  return np.nanmean(a, axis=axis, dtype=dtype)\n"
     ]
    },
    {
     "name": "stdout",
     "output_type": "stream",
     "text": [
      "/g/data/v45/pas561/mom/archive/gfdl_nyf_1080/output478/ocean.nc OK\n"
     ]
    },
    {
     "name": "stderr",
     "output_type": "stream",
     "text": [
      "/g/data3/hh5/public/apps/miniconda3/envs/analysis3-18.07/lib/python3.6/site-packages/xarray/core/nanops.py:162: RuntimeWarning: Mean of empty slice\n",
      "  return np.nanmean(a, axis=axis, dtype=dtype)\n"
     ]
    },
    {
     "name": "stdout",
     "output_type": "stream",
     "text": [
      "/g/data/v45/pas561/mom/archive/gfdl_nyf_1080/output479/ocean.nc OK\n"
     ]
    },
    {
     "name": "stderr",
     "output_type": "stream",
     "text": [
      "/g/data3/hh5/public/apps/miniconda3/envs/analysis3-18.07/lib/python3.6/site-packages/xarray/core/nanops.py:162: RuntimeWarning: Mean of empty slice\n",
      "  return np.nanmean(a, axis=axis, dtype=dtype)\n"
     ]
    },
    {
     "name": "stdout",
     "output_type": "stream",
     "text": [
      "/g/data/v45/pas561/mom/archive/gfdl_nyf_1080/output480/ocean.nc OK\n"
     ]
    },
    {
     "name": "stderr",
     "output_type": "stream",
     "text": [
      "/g/data3/hh5/public/apps/miniconda3/envs/analysis3-18.07/lib/python3.6/site-packages/xarray/core/nanops.py:162: RuntimeWarning: Mean of empty slice\n",
      "  return np.nanmean(a, axis=axis, dtype=dtype)\n"
     ]
    },
    {
     "name": "stdout",
     "output_type": "stream",
     "text": [
      "/g/data/v45/pas561/mom/archive/gfdl_nyf_1080/output481/ocean.nc OK\n"
     ]
    },
    {
     "name": "stderr",
     "output_type": "stream",
     "text": [
      "/g/data3/hh5/public/apps/miniconda3/envs/analysis3-18.07/lib/python3.6/site-packages/xarray/core/nanops.py:162: RuntimeWarning: Mean of empty slice\n",
      "  return np.nanmean(a, axis=axis, dtype=dtype)\n"
     ]
    },
    {
     "name": "stdout",
     "output_type": "stream",
     "text": [
      "/g/data/v45/pas561/mom/archive/gfdl_nyf_1080/output482/ocean.nc OK\n"
     ]
    },
    {
     "name": "stderr",
     "output_type": "stream",
     "text": [
      "/g/data3/hh5/public/apps/miniconda3/envs/analysis3-18.07/lib/python3.6/site-packages/xarray/core/nanops.py:162: RuntimeWarning: Mean of empty slice\n",
      "  return np.nanmean(a, axis=axis, dtype=dtype)\n"
     ]
    },
    {
     "name": "stdout",
     "output_type": "stream",
     "text": [
      "/g/data/v45/pas561/mom/archive/gfdl_nyf_1080/output483/ocean.nc OK\n"
     ]
    },
    {
     "name": "stderr",
     "output_type": "stream",
     "text": [
      "/g/data3/hh5/public/apps/miniconda3/envs/analysis3-18.07/lib/python3.6/site-packages/xarray/core/nanops.py:162: RuntimeWarning: Mean of empty slice\n",
      "  return np.nanmean(a, axis=axis, dtype=dtype)\n"
     ]
    },
    {
     "name": "stdout",
     "output_type": "stream",
     "text": [
      "/g/data/v45/pas561/mom/archive/gfdl_nyf_1080/output484/ocean.nc OK\n"
     ]
    },
    {
     "name": "stderr",
     "output_type": "stream",
     "text": [
      "/g/data3/hh5/public/apps/miniconda3/envs/analysis3-18.07/lib/python3.6/site-packages/xarray/core/nanops.py:162: RuntimeWarning: Mean of empty slice\n",
      "  return np.nanmean(a, axis=axis, dtype=dtype)\n"
     ]
    },
    {
     "name": "stdout",
     "output_type": "stream",
     "text": [
      "/g/data/v45/pas561/mom/archive/gfdl_nyf_1080/output485/ocean.nc OK\n"
     ]
    },
    {
     "name": "stderr",
     "output_type": "stream",
     "text": [
      "/g/data3/hh5/public/apps/miniconda3/envs/analysis3-18.07/lib/python3.6/site-packages/xarray/core/nanops.py:162: RuntimeWarning: Mean of empty slice\n",
      "  return np.nanmean(a, axis=axis, dtype=dtype)\n"
     ]
    },
    {
     "name": "stdout",
     "output_type": "stream",
     "text": [
      "/g/data/v45/pas561/mom/archive/gfdl_nyf_1080/output486/ocean.nc OK\n"
     ]
    },
    {
     "name": "stderr",
     "output_type": "stream",
     "text": [
      "/g/data3/hh5/public/apps/miniconda3/envs/analysis3-18.07/lib/python3.6/site-packages/xarray/core/nanops.py:162: RuntimeWarning: Mean of empty slice\n",
      "  return np.nanmean(a, axis=axis, dtype=dtype)\n"
     ]
    },
    {
     "name": "stdout",
     "output_type": "stream",
     "text": [
      "/g/data/e14/erd561/mom/gfdl_nyf_1080_hist_5069/archive/output566/ocean_month.nc OK\n"
     ]
    },
    {
     "name": "stderr",
     "output_type": "stream",
     "text": [
      "/g/data3/hh5/public/apps/miniconda3/envs/analysis3-18.07/lib/python3.6/site-packages/xarray/core/nanops.py:162: RuntimeWarning: Mean of empty slice\n",
      "  return np.nanmean(a, axis=axis, dtype=dtype)\n"
     ]
    },
    {
     "name": "stdout",
     "output_type": "stream",
     "text": [
      "/g/data/e14/erd561/mom/gfdl_nyf_1080_hist_5069/archive/output567/ocean_month.nc OK\n"
     ]
    },
    {
     "name": "stderr",
     "output_type": "stream",
     "text": [
      "/g/data3/hh5/public/apps/miniconda3/envs/analysis3-18.07/lib/python3.6/site-packages/xarray/core/nanops.py:162: RuntimeWarning: Mean of empty slice\n",
      "  return np.nanmean(a, axis=axis, dtype=dtype)\n"
     ]
    },
    {
     "name": "stdout",
     "output_type": "stream",
     "text": [
      "/g/data/e14/erd561/mom/gfdl_nyf_1080_hist_5069/archive/output568/ocean_month.nc OK\n"
     ]
    },
    {
     "name": "stderr",
     "output_type": "stream",
     "text": [
      "/g/data3/hh5/public/apps/miniconda3/envs/analysis3-18.07/lib/python3.6/site-packages/xarray/core/nanops.py:162: RuntimeWarning: Mean of empty slice\n",
      "  return np.nanmean(a, axis=axis, dtype=dtype)\n"
     ]
    },
    {
     "name": "stdout",
     "output_type": "stream",
     "text": [
      "/g/data/e14/erd561/mom/gfdl_nyf_1080_hist_5069/archive/output569/ocean_month.nc OK\n"
     ]
    },
    {
     "name": "stderr",
     "output_type": "stream",
     "text": [
      "/g/data3/hh5/public/apps/miniconda3/envs/analysis3-18.07/lib/python3.6/site-packages/xarray/core/nanops.py:162: RuntimeWarning: Mean of empty slice\n",
      "  return np.nanmean(a, axis=axis, dtype=dtype)\n"
     ]
    },
    {
     "name": "stdout",
     "output_type": "stream",
     "text": [
      "/g/data/e14/erd561/mom/gfdl_nyf_1080_hist_5069/archive/output570/ocean_month.nc OK\n"
     ]
    },
    {
     "name": "stderr",
     "output_type": "stream",
     "text": [
      "/g/data3/hh5/public/apps/miniconda3/envs/analysis3-18.07/lib/python3.6/site-packages/xarray/core/nanops.py:162: RuntimeWarning: Mean of empty slice\n",
      "  return np.nanmean(a, axis=axis, dtype=dtype)\n"
     ]
    },
    {
     "name": "stdout",
     "output_type": "stream",
     "text": [
      "/g/data/e14/erd561/mom/gfdl_nyf_1080_hist_5069/archive/output571/ocean_month.nc OK\n"
     ]
    },
    {
     "name": "stderr",
     "output_type": "stream",
     "text": [
      "/g/data3/hh5/public/apps/miniconda3/envs/analysis3-18.07/lib/python3.6/site-packages/xarray/core/nanops.py:162: RuntimeWarning: Mean of empty slice\n",
      "  return np.nanmean(a, axis=axis, dtype=dtype)\n"
     ]
    },
    {
     "name": "stdout",
     "output_type": "stream",
     "text": [
      "/g/data/e14/erd561/mom/gfdl_nyf_1080_hist_5069/archive/output572/ocean_month.nc OK\n"
     ]
    },
    {
     "name": "stderr",
     "output_type": "stream",
     "text": [
      "/g/data3/hh5/public/apps/miniconda3/envs/analysis3-18.07/lib/python3.6/site-packages/xarray/core/nanops.py:162: RuntimeWarning: Mean of empty slice\n",
      "  return np.nanmean(a, axis=axis, dtype=dtype)\n"
     ]
    },
    {
     "name": "stdout",
     "output_type": "stream",
     "text": [
      "/g/data/e14/erd561/mom/gfdl_nyf_1080_hist_5069/archive/output573/ocean_month.nc OK\n"
     ]
    },
    {
     "name": "stderr",
     "output_type": "stream",
     "text": [
      "/g/data3/hh5/public/apps/miniconda3/envs/analysis3-18.07/lib/python3.6/site-packages/xarray/core/nanops.py:162: RuntimeWarning: Mean of empty slice\n",
      "  return np.nanmean(a, axis=axis, dtype=dtype)\n"
     ]
    },
    {
     "name": "stdout",
     "output_type": "stream",
     "text": [
      "/g/data/e14/erd561/mom/gfdl_nyf_1080_hist_5069/archive/output574/ocean_month.nc OK\n"
     ]
    },
    {
     "name": "stderr",
     "output_type": "stream",
     "text": [
      "/g/data3/hh5/public/apps/miniconda3/envs/analysis3-18.07/lib/python3.6/site-packages/xarray/core/nanops.py:162: RuntimeWarning: Mean of empty slice\n",
      "  return np.nanmean(a, axis=axis, dtype=dtype)\n"
     ]
    },
    {
     "name": "stdout",
     "output_type": "stream",
     "text": [
      "/g/data/e14/erd561/mom/gfdl_nyf_1080_hist_5069/archive/output575/ocean_month.nc OK\n"
     ]
    },
    {
     "name": "stderr",
     "output_type": "stream",
     "text": [
      "/g/data3/hh5/public/apps/miniconda3/envs/analysis3-18.07/lib/python3.6/site-packages/xarray/core/nanops.py:162: RuntimeWarning: Mean of empty slice\n",
      "  return np.nanmean(a, axis=axis, dtype=dtype)\n"
     ]
    },
    {
     "name": "stdout",
     "output_type": "stream",
     "text": [
      "/g/data/e14/erd561/mom/gfdl_nyf_1080_rcp85/archive/output611/ocean_month.nc OK\n"
     ]
    },
    {
     "name": "stderr",
     "output_type": "stream",
     "text": [
      "/g/data3/hh5/public/apps/miniconda3/envs/analysis3-18.07/lib/python3.6/site-packages/xarray/core/nanops.py:162: RuntimeWarning: Mean of empty slice\n",
      "  return np.nanmean(a, axis=axis, dtype=dtype)\n"
     ]
    },
    {
     "name": "stdout",
     "output_type": "stream",
     "text": [
      "/g/data/e14/erd561/mom/gfdl_nyf_1080_rcp85/archive/output612/ocean_month.nc OK\n"
     ]
    },
    {
     "name": "stderr",
     "output_type": "stream",
     "text": [
      "/g/data3/hh5/public/apps/miniconda3/envs/analysis3-18.07/lib/python3.6/site-packages/xarray/core/nanops.py:162: RuntimeWarning: Mean of empty slice\n",
      "  return np.nanmean(a, axis=axis, dtype=dtype)\n"
     ]
    },
    {
     "name": "stdout",
     "output_type": "stream",
     "text": [
      "/g/data/e14/erd561/mom/gfdl_nyf_1080_rcp85/archive/output613/ocean_month.nc OK\n"
     ]
    },
    {
     "name": "stderr",
     "output_type": "stream",
     "text": [
      "/g/data3/hh5/public/apps/miniconda3/envs/analysis3-18.07/lib/python3.6/site-packages/xarray/core/nanops.py:162: RuntimeWarning: Mean of empty slice\n",
      "  return np.nanmean(a, axis=axis, dtype=dtype)\n"
     ]
    },
    {
     "name": "stdout",
     "output_type": "stream",
     "text": [
      "/g/data/e14/erd561/mom/gfdl_nyf_1080_rcp85/archive/output614/ocean_month.nc OK\n"
     ]
    },
    {
     "name": "stderr",
     "output_type": "stream",
     "text": [
      "/g/data3/hh5/public/apps/miniconda3/envs/analysis3-18.07/lib/python3.6/site-packages/xarray/core/nanops.py:162: RuntimeWarning: Mean of empty slice\n",
      "  return np.nanmean(a, axis=axis, dtype=dtype)\n"
     ]
    },
    {
     "name": "stdout",
     "output_type": "stream",
     "text": [
      "/g/data/e14/erd561/mom/gfdl_nyf_1080_rcp85/archive/output615/ocean_month.nc OK\n"
     ]
    },
    {
     "name": "stderr",
     "output_type": "stream",
     "text": [
      "/g/data3/hh5/public/apps/miniconda3/envs/analysis3-18.07/lib/python3.6/site-packages/xarray/core/nanops.py:162: RuntimeWarning: Mean of empty slice\n",
      "  return np.nanmean(a, axis=axis, dtype=dtype)\n"
     ]
    },
    {
     "name": "stdout",
     "output_type": "stream",
     "text": [
      "/g/data/e14/erd561/mom/gfdl_nyf_1080_rcp85/archive/output616/ocean_month.nc OK\n"
     ]
    },
    {
     "name": "stderr",
     "output_type": "stream",
     "text": [
      "/g/data3/hh5/public/apps/miniconda3/envs/analysis3-18.07/lib/python3.6/site-packages/xarray/core/nanops.py:162: RuntimeWarning: Mean of empty slice\n",
      "  return np.nanmean(a, axis=axis, dtype=dtype)\n"
     ]
    },
    {
     "name": "stdout",
     "output_type": "stream",
     "text": [
      "/g/data/e14/erd561/mom/gfdl_nyf_1080_rcp85/archive/output617/ocean_month.nc OK\n"
     ]
    },
    {
     "name": "stderr",
     "output_type": "stream",
     "text": [
      "/g/data3/hh5/public/apps/miniconda3/envs/analysis3-18.07/lib/python3.6/site-packages/xarray/core/nanops.py:162: RuntimeWarning: Mean of empty slice\n",
      "  return np.nanmean(a, axis=axis, dtype=dtype)\n"
     ]
    },
    {
     "name": "stdout",
     "output_type": "stream",
     "text": [
      "/g/data/e14/erd561/mom/gfdl_nyf_1080_rcp85/archive/output618/ocean_month.nc OK\n"
     ]
    },
    {
     "name": "stderr",
     "output_type": "stream",
     "text": [
      "/g/data3/hh5/public/apps/miniconda3/envs/analysis3-18.07/lib/python3.6/site-packages/xarray/core/nanops.py:162: RuntimeWarning: Mean of empty slice\n",
      "  return np.nanmean(a, axis=axis, dtype=dtype)\n"
     ]
    },
    {
     "name": "stdout",
     "output_type": "stream",
     "text": [
      "/g/data/e14/erd561/mom/gfdl_nyf_1080_rcp85/archive/output619/ocean_month.nc OK\n"
     ]
    },
    {
     "name": "stderr",
     "output_type": "stream",
     "text": [
      "/g/data3/hh5/public/apps/miniconda3/envs/analysis3-18.07/lib/python3.6/site-packages/xarray/core/nanops.py:162: RuntimeWarning: Mean of empty slice\n",
      "  return np.nanmean(a, axis=axis, dtype=dtype)\n"
     ]
    },
    {
     "name": "stdout",
     "output_type": "stream",
     "text": [
      "/g/data/e14/erd561/mom/gfdl_nyf_1080_rcp85/archive/output620/ocean_month.nc OK\n",
      "<xarray.DataArray 'temp' (year: 30, yt_ocean: 220, xt_ocean: 280)>\n",
      "array([[[-0.401731, -0.380208, ...,  2.608085,  2.577984],\n",
      "        [-0.406891, -0.376817, ...,  2.718419,  2.699332],\n",
      "        ...,\n",
      "        [23.918919, 23.935635, ..., 25.873558, 25.851952],\n",
      "        [24.118069, 24.150646, ..., 26.02486 , 25.955761]],\n",
      "\n",
      "       [[-0.469344, -0.446292, ...,  2.588118,  2.527822],\n",
      "        [-0.461044, -0.434482, ...,  2.785284,  2.702575],\n",
      "        ...,\n",
      "        [23.966635, 23.966448, ..., 25.850706, 25.82425 ],\n",
      "        [24.18553 , 24.199455, ..., 25.92586 , 25.899218]],\n",
      "\n",
      "       ...,\n",
      "\n",
      "       [[-0.440748, -0.452596, ...,  3.481239,  3.464719],\n",
      "        [-0.406318, -0.394741, ...,  3.53492 ,  3.514677],\n",
      "        ...,\n",
      "        [24.305384, 24.327362, ..., 26.453362, 26.462786],\n",
      "        [24.34794 , 24.386576, ..., 26.552256, 26.523329]],\n",
      "\n",
      "       [[-0.584847, -0.561112, ...,  3.521433,  3.537624],\n",
      "        [-0.536606, -0.498623, ...,  3.541009,  3.570827],\n",
      "        ...,\n",
      "        [24.331873, 24.307741, ..., 26.44725 , 26.437235],\n",
      "        [24.532738, 24.54914 , ..., 26.531912, 26.476336]]], dtype=float32)\n",
      "Coordinates:\n",
      "  * xt_ocean  (xt_ocean) float64 -259.9 -259.6 -259.4 ... -190.6 -190.4 -190.1\n",
      "  * yt_ocean  (yt_ocean) float64 -59.96 -59.83 -59.71 ... -20.66 -20.43 -20.19\n",
      "    st_ocean  float64 5.034\n",
      "Dimensions without coordinates: year\n",
      "CPU times: user 1min 7s, sys: 4.79 s, total: 1min 12s\n",
      "Wall time: 2min 22s\n"
     ]
    }
   ],
   "source": [
    "%%time\n",
    "\n",
    "lon = [100-360, 170-360]\n",
    "lat = [-60, -20]\n",
    "\n",
    "for p1,p2 in zip(path1, path2):\n",
    "    if p1 == path1[0]:\n",
    "        SST = \\\n",
    "            xr.open_dataset(p1, decode_times=False).\\\n",
    "            temp.\\\n",
    "            sel(xt_ocean=slice(lon[0], lon[1])).\\\n",
    "            sel(yt_ocean=slice(lat[0], lat[1])).\\\n",
    "            sel(st_ocean=0, method='nearest').\\\n",
    "            drop(('geolon_t', 'geolat_t')).\\\n",
    "            mean(dim='time')\n",
    "        \n",
    "        tau_x = \\\n",
    "            xr.open_dataset(p2, decode_times=False).\\\n",
    "            tau_x.\\\n",
    "            sel(xu_ocean=slice(lon[0], lon[1])).\\\n",
    "            sel(yu_ocean=slice(lat[0], lat[1])).\\\n",
    "            mean(dim='time').\\\n",
    "            drop(('geolon_c', 'geolat_c'))\n",
    "        \n",
    "        sea_level = \\\n",
    "            xr.open_dataset(p2, decode_times=False).\\\n",
    "            sea_level.\\\n",
    "            sel(xt_ocean=slice(lon[0], lon[1])).\\\n",
    "            sel(yt_ocean=slice(lat[0], lat[1])).\\\n",
    "            mean(dim='time').\\\n",
    "            drop(('geolon_t', 'geolat_t'))*100\n",
    "        \n",
    "        print(str(p1) + ' OK')\n",
    "            \n",
    "    elif 'v45' in p1:\n",
    "        SST = \\\n",
    "            xr.concat([\n",
    "                SST,\n",
    "                xr.open_dataset(p1, decode_times=False).\\\n",
    "                temp.\\\n",
    "                sel(xt_ocean=slice(lon[0], lon[1])).\\\n",
    "                sel(yt_ocean=slice(lat[0], lat[1])).\\\n",
    "                sel(st_ocean=0, method='nearest').\\\n",
    "                drop(('geolon_t', 'geolat_t')).\\\n",
    "                mean(dim='time')\n",
    "            ], 'year'\n",
    "            )\n",
    "        \n",
    "        tau_x = \\\n",
    "            xr.concat([\n",
    "                tau_x,\n",
    "                xr.open_dataset(p2, decode_times=False).\\\n",
    "                tau_x.\\\n",
    "                sel(xu_ocean=slice(lon[0], lon[1])).\\\n",
    "                sel(yu_ocean=slice(lat[0], lat[1])).\\\n",
    "                mean(dim='time').\\\n",
    "                drop(('geolon_c', 'geolat_c'))\n",
    "            ], 'year'\n",
    "            )\n",
    "        \n",
    "        sea_level = \\\n",
    "            xr.concat([\n",
    "                sea_level,\n",
    "                xr.open_dataset(p2, decode_times=False).\\\n",
    "                sea_level.\\\n",
    "                sel(xt_ocean=slice(lon[0], lon[1])).\\\n",
    "                sel(yt_ocean=slice(lat[0], lat[1])).\\\n",
    "                mean(dim='time').\\\n",
    "                drop(('geolon_t', 'geolat_t'))*100\n",
    "            ], 'year'\n",
    "            )\n",
    "        \n",
    "        print(str(p1) + ' OK')\n",
    "        \n",
    "    else:\n",
    "        SST = \\\n",
    "            xr.concat([\n",
    "                SST,\n",
    "                xr.open_dataset(p1, decode_times=False).\\\n",
    "                temp.\\\n",
    "                sel(xt_ocean=slice(lon[0], lon[1])).\\\n",
    "                sel(yt_ocean=slice(lat[0], lat[1])).\\\n",
    "                sel(st_ocean=0, method='nearest').\\\n",
    "                mean(dim='time')\n",
    "            ], 'year'\n",
    "            )\n",
    "        tau_x = \\\n",
    "            xr.concat([\n",
    "                tau_x,\n",
    "                xr.open_dataset(p2, decode_times=False).\\\n",
    "                tau_x.\\\n",
    "                sel(xu_ocean=slice(lon[0], lon[1])).\\\n",
    "                sel(yu_ocean=slice(lat[0], lat[1])).\\\n",
    "                mean(dim='time')\n",
    "            ], 'year'\n",
    "            )\n",
    "        sea_level = \\\n",
    "            xr.concat([\n",
    "                sea_level,\n",
    "                xr.open_dataset(p2, decode_times=False).\\\n",
    "                sea_level.\\\n",
    "                sel(xt_ocean=slice(lon[0], lon[1])).\\\n",
    "                sel(yt_ocean=slice(lat[0], lat[1])).\\\n",
    "                mean(dim='time')*100\n",
    "            ], 'year'\n",
    "            )\n",
    "        print(str(p1) + ' OK')\n",
    "print(SST)\n",
    "\n",
    "xt_ocean = SST.xt_ocean\n",
    "xt_ocean_corrected = xt_ocean + 360\n",
    "SST = SST.assign_coords(xt_ocean=xt_ocean_corrected)\n",
    "xu_ocean = tau_x.xu_ocean\n",
    "xu_ocean_corrected = xu_ocean + 360\n",
    "tau_x = tau_x.assign_coords(xu_ocean=xu_ocean_corrected)\n",
    "sea_level = sea_level.assign_coords(xt_ocean=xt_ocean_corrected)\n",
    "\n",
    "SST = SST.assign_coords(year=years)\n",
    "tau_x = tau_x.assign_coords(year=years)\n",
    "sea_level = sea_level.assign_coords(year=years)"
   ]
  },
  {
   "cell_type": "code",
   "execution_count": 8,
   "metadata": {},
   "outputs": [
    {
     "name": "stderr",
     "output_type": "stream",
     "text": [
      "/g/data3/hh5/public/apps/miniconda3/envs/analysis3-18.07/lib/python3.6/site-packages/xarray/core/nanops.py:162: RuntimeWarning: Mean of empty slice\n",
      "  return np.nanmean(a, axis=axis, dtype=dtype)\n"
     ]
    },
    {
     "name": "stdout",
     "output_type": "stream",
     "text": [
      "/g/data/v45/pas561/mom/archive/gfdl_nyf_1080/output477/ocean.nc OK\n"
     ]
    },
    {
     "name": "stderr",
     "output_type": "stream",
     "text": [
      "/g/data3/hh5/public/apps/miniconda3/envs/analysis3-18.07/lib/python3.6/site-packages/xarray/core/nanops.py:162: RuntimeWarning: Mean of empty slice\n",
      "  return np.nanmean(a, axis=axis, dtype=dtype)\n"
     ]
    },
    {
     "name": "stdout",
     "output_type": "stream",
     "text": [
      "/g/data/v45/pas561/mom/archive/gfdl_nyf_1080/output478/ocean.nc OK\n"
     ]
    },
    {
     "name": "stderr",
     "output_type": "stream",
     "text": [
      "/g/data3/hh5/public/apps/miniconda3/envs/analysis3-18.07/lib/python3.6/site-packages/xarray/core/nanops.py:162: RuntimeWarning: Mean of empty slice\n",
      "  return np.nanmean(a, axis=axis, dtype=dtype)\n",
      "/g/data3/hh5/public/apps/miniconda3/envs/analysis3-18.07/lib/python3.6/site-packages/xarray/core/nanops.py:162: RuntimeWarning: Mean of empty slice\n",
      "  return np.nanmean(a, axis=axis, dtype=dtype)\n"
     ]
    },
    {
     "name": "stdout",
     "output_type": "stream",
     "text": [
      "/g/data/v45/pas561/mom/archive/gfdl_nyf_1080/output479/ocean.nc OK\n"
     ]
    },
    {
     "name": "stderr",
     "output_type": "stream",
     "text": [
      "/g/data3/hh5/public/apps/miniconda3/envs/analysis3-18.07/lib/python3.6/site-packages/xarray/core/nanops.py:162: RuntimeWarning: Mean of empty slice\n",
      "  return np.nanmean(a, axis=axis, dtype=dtype)\n",
      "/g/data3/hh5/public/apps/miniconda3/envs/analysis3-18.07/lib/python3.6/site-packages/xarray/core/nanops.py:162: RuntimeWarning: Mean of empty slice\n",
      "  return np.nanmean(a, axis=axis, dtype=dtype)\n"
     ]
    },
    {
     "name": "stdout",
     "output_type": "stream",
     "text": [
      "/g/data/v45/pas561/mom/archive/gfdl_nyf_1080/output480/ocean.nc OK\n"
     ]
    },
    {
     "name": "stderr",
     "output_type": "stream",
     "text": [
      "/g/data3/hh5/public/apps/miniconda3/envs/analysis3-18.07/lib/python3.6/site-packages/xarray/core/nanops.py:162: RuntimeWarning: Mean of empty slice\n",
      "  return np.nanmean(a, axis=axis, dtype=dtype)\n",
      "/g/data3/hh5/public/apps/miniconda3/envs/analysis3-18.07/lib/python3.6/site-packages/xarray/core/nanops.py:162: RuntimeWarning: Mean of empty slice\n",
      "  return np.nanmean(a, axis=axis, dtype=dtype)\n"
     ]
    },
    {
     "name": "stdout",
     "output_type": "stream",
     "text": [
      "/g/data/v45/pas561/mom/archive/gfdl_nyf_1080/output481/ocean.nc OK\n"
     ]
    },
    {
     "name": "stderr",
     "output_type": "stream",
     "text": [
      "/g/data3/hh5/public/apps/miniconda3/envs/analysis3-18.07/lib/python3.6/site-packages/xarray/core/nanops.py:162: RuntimeWarning: Mean of empty slice\n",
      "  return np.nanmean(a, axis=axis, dtype=dtype)\n",
      "/g/data3/hh5/public/apps/miniconda3/envs/analysis3-18.07/lib/python3.6/site-packages/xarray/core/nanops.py:162: RuntimeWarning: Mean of empty slice\n",
      "  return np.nanmean(a, axis=axis, dtype=dtype)\n"
     ]
    },
    {
     "name": "stdout",
     "output_type": "stream",
     "text": [
      "/g/data/v45/pas561/mom/archive/gfdl_nyf_1080/output482/ocean.nc OK\n"
     ]
    },
    {
     "name": "stderr",
     "output_type": "stream",
     "text": [
      "/g/data3/hh5/public/apps/miniconda3/envs/analysis3-18.07/lib/python3.6/site-packages/xarray/core/nanops.py:162: RuntimeWarning: Mean of empty slice\n",
      "  return np.nanmean(a, axis=axis, dtype=dtype)\n",
      "/g/data3/hh5/public/apps/miniconda3/envs/analysis3-18.07/lib/python3.6/site-packages/xarray/core/nanops.py:162: RuntimeWarning: Mean of empty slice\n",
      "  return np.nanmean(a, axis=axis, dtype=dtype)\n"
     ]
    },
    {
     "name": "stdout",
     "output_type": "stream",
     "text": [
      "/g/data/v45/pas561/mom/archive/gfdl_nyf_1080/output483/ocean.nc OK\n"
     ]
    },
    {
     "name": "stderr",
     "output_type": "stream",
     "text": [
      "/g/data3/hh5/public/apps/miniconda3/envs/analysis3-18.07/lib/python3.6/site-packages/xarray/core/nanops.py:162: RuntimeWarning: Mean of empty slice\n",
      "  return np.nanmean(a, axis=axis, dtype=dtype)\n",
      "/g/data3/hh5/public/apps/miniconda3/envs/analysis3-18.07/lib/python3.6/site-packages/xarray/core/nanops.py:162: RuntimeWarning: Mean of empty slice\n",
      "  return np.nanmean(a, axis=axis, dtype=dtype)\n"
     ]
    },
    {
     "name": "stdout",
     "output_type": "stream",
     "text": [
      "/g/data/v45/pas561/mom/archive/gfdl_nyf_1080/output484/ocean.nc OK\n"
     ]
    },
    {
     "name": "stderr",
     "output_type": "stream",
     "text": [
      "/g/data3/hh5/public/apps/miniconda3/envs/analysis3-18.07/lib/python3.6/site-packages/xarray/core/nanops.py:162: RuntimeWarning: Mean of empty slice\n",
      "  return np.nanmean(a, axis=axis, dtype=dtype)\n",
      "/g/data3/hh5/public/apps/miniconda3/envs/analysis3-18.07/lib/python3.6/site-packages/xarray/core/nanops.py:162: RuntimeWarning: Mean of empty slice\n",
      "  return np.nanmean(a, axis=axis, dtype=dtype)\n"
     ]
    },
    {
     "name": "stdout",
     "output_type": "stream",
     "text": [
      "/g/data/v45/pas561/mom/archive/gfdl_nyf_1080/output485/ocean.nc OK\n"
     ]
    },
    {
     "name": "stderr",
     "output_type": "stream",
     "text": [
      "/g/data3/hh5/public/apps/miniconda3/envs/analysis3-18.07/lib/python3.6/site-packages/xarray/core/nanops.py:162: RuntimeWarning: Mean of empty slice\n",
      "  return np.nanmean(a, axis=axis, dtype=dtype)\n",
      "/g/data3/hh5/public/apps/miniconda3/envs/analysis3-18.07/lib/python3.6/site-packages/xarray/core/nanops.py:162: RuntimeWarning: Mean of empty slice\n",
      "  return np.nanmean(a, axis=axis, dtype=dtype)\n"
     ]
    },
    {
     "name": "stdout",
     "output_type": "stream",
     "text": [
      "/g/data/v45/pas561/mom/archive/gfdl_nyf_1080/output486/ocean.nc OK\n"
     ]
    },
    {
     "name": "stderr",
     "output_type": "stream",
     "text": [
      "/g/data3/hh5/public/apps/miniconda3/envs/analysis3-18.07/lib/python3.6/site-packages/xarray/core/nanops.py:162: RuntimeWarning: Mean of empty slice\n",
      "  return np.nanmean(a, axis=axis, dtype=dtype)\n",
      "/g/data3/hh5/public/apps/miniconda3/envs/analysis3-18.07/lib/python3.6/site-packages/xarray/core/nanops.py:162: RuntimeWarning: Mean of empty slice\n",
      "  return np.nanmean(a, axis=axis, dtype=dtype)\n"
     ]
    },
    {
     "name": "stdout",
     "output_type": "stream",
     "text": [
      "/g/data/e14/erd561/mom/gfdl_nyf_1080_hist_5069/archive/output566/ocean_month.nc OK\n"
     ]
    },
    {
     "name": "stderr",
     "output_type": "stream",
     "text": [
      "/g/data3/hh5/public/apps/miniconda3/envs/analysis3-18.07/lib/python3.6/site-packages/xarray/core/nanops.py:162: RuntimeWarning: Mean of empty slice\n",
      "  return np.nanmean(a, axis=axis, dtype=dtype)\n",
      "/g/data3/hh5/public/apps/miniconda3/envs/analysis3-18.07/lib/python3.6/site-packages/xarray/core/nanops.py:162: RuntimeWarning: Mean of empty slice\n",
      "  return np.nanmean(a, axis=axis, dtype=dtype)\n"
     ]
    },
    {
     "name": "stdout",
     "output_type": "stream",
     "text": [
      "/g/data/e14/erd561/mom/gfdl_nyf_1080_hist_5069/archive/output567/ocean_month.nc OK\n"
     ]
    },
    {
     "name": "stderr",
     "output_type": "stream",
     "text": [
      "/g/data3/hh5/public/apps/miniconda3/envs/analysis3-18.07/lib/python3.6/site-packages/xarray/core/nanops.py:162: RuntimeWarning: Mean of empty slice\n",
      "  return np.nanmean(a, axis=axis, dtype=dtype)\n",
      "/g/data3/hh5/public/apps/miniconda3/envs/analysis3-18.07/lib/python3.6/site-packages/xarray/core/nanops.py:162: RuntimeWarning: Mean of empty slice\n",
      "  return np.nanmean(a, axis=axis, dtype=dtype)\n"
     ]
    },
    {
     "name": "stdout",
     "output_type": "stream",
     "text": [
      "/g/data/e14/erd561/mom/gfdl_nyf_1080_hist_5069/archive/output568/ocean_month.nc OK\n"
     ]
    },
    {
     "name": "stderr",
     "output_type": "stream",
     "text": [
      "/g/data3/hh5/public/apps/miniconda3/envs/analysis3-18.07/lib/python3.6/site-packages/xarray/core/nanops.py:162: RuntimeWarning: Mean of empty slice\n",
      "  return np.nanmean(a, axis=axis, dtype=dtype)\n",
      "/g/data3/hh5/public/apps/miniconda3/envs/analysis3-18.07/lib/python3.6/site-packages/xarray/core/nanops.py:162: RuntimeWarning: Mean of empty slice\n",
      "  return np.nanmean(a, axis=axis, dtype=dtype)\n"
     ]
    },
    {
     "name": "stdout",
     "output_type": "stream",
     "text": [
      "/g/data/e14/erd561/mom/gfdl_nyf_1080_hist_5069/archive/output569/ocean_month.nc OK\n"
     ]
    },
    {
     "name": "stderr",
     "output_type": "stream",
     "text": [
      "/g/data3/hh5/public/apps/miniconda3/envs/analysis3-18.07/lib/python3.6/site-packages/xarray/core/nanops.py:162: RuntimeWarning: Mean of empty slice\n",
      "  return np.nanmean(a, axis=axis, dtype=dtype)\n",
      "/g/data3/hh5/public/apps/miniconda3/envs/analysis3-18.07/lib/python3.6/site-packages/xarray/core/nanops.py:162: RuntimeWarning: Mean of empty slice\n",
      "  return np.nanmean(a, axis=axis, dtype=dtype)\n"
     ]
    },
    {
     "name": "stdout",
     "output_type": "stream",
     "text": [
      "/g/data/e14/erd561/mom/gfdl_nyf_1080_hist_5069/archive/output570/ocean_month.nc OK\n"
     ]
    },
    {
     "name": "stderr",
     "output_type": "stream",
     "text": [
      "/g/data3/hh5/public/apps/miniconda3/envs/analysis3-18.07/lib/python3.6/site-packages/xarray/core/nanops.py:162: RuntimeWarning: Mean of empty slice\n",
      "  return np.nanmean(a, axis=axis, dtype=dtype)\n",
      "/g/data3/hh5/public/apps/miniconda3/envs/analysis3-18.07/lib/python3.6/site-packages/xarray/core/nanops.py:162: RuntimeWarning: Mean of empty slice\n",
      "  return np.nanmean(a, axis=axis, dtype=dtype)\n"
     ]
    },
    {
     "name": "stdout",
     "output_type": "stream",
     "text": [
      "/g/data/e14/erd561/mom/gfdl_nyf_1080_hist_5069/archive/output571/ocean_month.nc OK\n"
     ]
    },
    {
     "name": "stderr",
     "output_type": "stream",
     "text": [
      "/g/data3/hh5/public/apps/miniconda3/envs/analysis3-18.07/lib/python3.6/site-packages/xarray/core/nanops.py:162: RuntimeWarning: Mean of empty slice\n",
      "  return np.nanmean(a, axis=axis, dtype=dtype)\n",
      "/g/data3/hh5/public/apps/miniconda3/envs/analysis3-18.07/lib/python3.6/site-packages/xarray/core/nanops.py:162: RuntimeWarning: Mean of empty slice\n",
      "  return np.nanmean(a, axis=axis, dtype=dtype)\n"
     ]
    },
    {
     "name": "stdout",
     "output_type": "stream",
     "text": [
      "/g/data/e14/erd561/mom/gfdl_nyf_1080_hist_5069/archive/output572/ocean_month.nc OK\n"
     ]
    },
    {
     "name": "stderr",
     "output_type": "stream",
     "text": [
      "/g/data3/hh5/public/apps/miniconda3/envs/analysis3-18.07/lib/python3.6/site-packages/xarray/core/nanops.py:162: RuntimeWarning: Mean of empty slice\n",
      "  return np.nanmean(a, axis=axis, dtype=dtype)\n",
      "/g/data3/hh5/public/apps/miniconda3/envs/analysis3-18.07/lib/python3.6/site-packages/xarray/core/nanops.py:162: RuntimeWarning: Mean of empty slice\n",
      "  return np.nanmean(a, axis=axis, dtype=dtype)\n"
     ]
    },
    {
     "name": "stdout",
     "output_type": "stream",
     "text": [
      "/g/data/e14/erd561/mom/gfdl_nyf_1080_hist_5069/archive/output573/ocean_month.nc OK\n"
     ]
    },
    {
     "name": "stderr",
     "output_type": "stream",
     "text": [
      "/g/data3/hh5/public/apps/miniconda3/envs/analysis3-18.07/lib/python3.6/site-packages/xarray/core/nanops.py:162: RuntimeWarning: Mean of empty slice\n",
      "  return np.nanmean(a, axis=axis, dtype=dtype)\n",
      "/g/data3/hh5/public/apps/miniconda3/envs/analysis3-18.07/lib/python3.6/site-packages/xarray/core/nanops.py:162: RuntimeWarning: Mean of empty slice\n",
      "  return np.nanmean(a, axis=axis, dtype=dtype)\n"
     ]
    },
    {
     "name": "stdout",
     "output_type": "stream",
     "text": [
      "/g/data/e14/erd561/mom/gfdl_nyf_1080_hist_5069/archive/output574/ocean_month.nc OK\n"
     ]
    },
    {
     "name": "stderr",
     "output_type": "stream",
     "text": [
      "/g/data3/hh5/public/apps/miniconda3/envs/analysis3-18.07/lib/python3.6/site-packages/xarray/core/nanops.py:162: RuntimeWarning: Mean of empty slice\n",
      "  return np.nanmean(a, axis=axis, dtype=dtype)\n",
      "/g/data3/hh5/public/apps/miniconda3/envs/analysis3-18.07/lib/python3.6/site-packages/xarray/core/nanops.py:162: RuntimeWarning: Mean of empty slice\n",
      "  return np.nanmean(a, axis=axis, dtype=dtype)\n"
     ]
    },
    {
     "name": "stdout",
     "output_type": "stream",
     "text": [
      "/g/data/e14/erd561/mom/gfdl_nyf_1080_hist_5069/archive/output575/ocean_month.nc OK\n"
     ]
    },
    {
     "name": "stderr",
     "output_type": "stream",
     "text": [
      "/g/data3/hh5/public/apps/miniconda3/envs/analysis3-18.07/lib/python3.6/site-packages/xarray/core/nanops.py:162: RuntimeWarning: Mean of empty slice\n",
      "  return np.nanmean(a, axis=axis, dtype=dtype)\n",
      "/g/data3/hh5/public/apps/miniconda3/envs/analysis3-18.07/lib/python3.6/site-packages/xarray/core/nanops.py:162: RuntimeWarning: Mean of empty slice\n",
      "  return np.nanmean(a, axis=axis, dtype=dtype)\n"
     ]
    },
    {
     "name": "stdout",
     "output_type": "stream",
     "text": [
      "/g/data/e14/erd561/mom/gfdl_nyf_1080_rcp85/archive/output611/ocean_month.nc OK\n"
     ]
    },
    {
     "name": "stderr",
     "output_type": "stream",
     "text": [
      "/g/data3/hh5/public/apps/miniconda3/envs/analysis3-18.07/lib/python3.6/site-packages/xarray/core/nanops.py:162: RuntimeWarning: Mean of empty slice\n",
      "  return np.nanmean(a, axis=axis, dtype=dtype)\n",
      "/g/data3/hh5/public/apps/miniconda3/envs/analysis3-18.07/lib/python3.6/site-packages/xarray/core/nanops.py:162: RuntimeWarning: Mean of empty slice\n",
      "  return np.nanmean(a, axis=axis, dtype=dtype)\n"
     ]
    },
    {
     "name": "stdout",
     "output_type": "stream",
     "text": [
      "/g/data/e14/erd561/mom/gfdl_nyf_1080_rcp85/archive/output612/ocean_month.nc OK\n"
     ]
    },
    {
     "name": "stderr",
     "output_type": "stream",
     "text": [
      "/g/data3/hh5/public/apps/miniconda3/envs/analysis3-18.07/lib/python3.6/site-packages/xarray/core/nanops.py:162: RuntimeWarning: Mean of empty slice\n",
      "  return np.nanmean(a, axis=axis, dtype=dtype)\n",
      "/g/data3/hh5/public/apps/miniconda3/envs/analysis3-18.07/lib/python3.6/site-packages/xarray/core/nanops.py:162: RuntimeWarning: Mean of empty slice\n",
      "  return np.nanmean(a, axis=axis, dtype=dtype)\n"
     ]
    },
    {
     "name": "stdout",
     "output_type": "stream",
     "text": [
      "/g/data/e14/erd561/mom/gfdl_nyf_1080_rcp85/archive/output613/ocean_month.nc OK\n"
     ]
    },
    {
     "name": "stderr",
     "output_type": "stream",
     "text": [
      "/g/data3/hh5/public/apps/miniconda3/envs/analysis3-18.07/lib/python3.6/site-packages/xarray/core/nanops.py:162: RuntimeWarning: Mean of empty slice\n",
      "  return np.nanmean(a, axis=axis, dtype=dtype)\n",
      "/g/data3/hh5/public/apps/miniconda3/envs/analysis3-18.07/lib/python3.6/site-packages/xarray/core/nanops.py:162: RuntimeWarning: Mean of empty slice\n",
      "  return np.nanmean(a, axis=axis, dtype=dtype)\n"
     ]
    },
    {
     "name": "stdout",
     "output_type": "stream",
     "text": [
      "/g/data/e14/erd561/mom/gfdl_nyf_1080_rcp85/archive/output614/ocean_month.nc OK\n"
     ]
    },
    {
     "name": "stderr",
     "output_type": "stream",
     "text": [
      "/g/data3/hh5/public/apps/miniconda3/envs/analysis3-18.07/lib/python3.6/site-packages/xarray/core/nanops.py:162: RuntimeWarning: Mean of empty slice\n",
      "  return np.nanmean(a, axis=axis, dtype=dtype)\n",
      "/g/data3/hh5/public/apps/miniconda3/envs/analysis3-18.07/lib/python3.6/site-packages/xarray/core/nanops.py:162: RuntimeWarning: Mean of empty slice\n",
      "  return np.nanmean(a, axis=axis, dtype=dtype)\n"
     ]
    },
    {
     "name": "stdout",
     "output_type": "stream",
     "text": [
      "/g/data/e14/erd561/mom/gfdl_nyf_1080_rcp85/archive/output615/ocean_month.nc OK\n"
     ]
    },
    {
     "name": "stderr",
     "output_type": "stream",
     "text": [
      "/g/data3/hh5/public/apps/miniconda3/envs/analysis3-18.07/lib/python3.6/site-packages/xarray/core/nanops.py:162: RuntimeWarning: Mean of empty slice\n",
      "  return np.nanmean(a, axis=axis, dtype=dtype)\n",
      "/g/data3/hh5/public/apps/miniconda3/envs/analysis3-18.07/lib/python3.6/site-packages/xarray/core/nanops.py:162: RuntimeWarning: Mean of empty slice\n",
      "  return np.nanmean(a, axis=axis, dtype=dtype)\n"
     ]
    },
    {
     "name": "stdout",
     "output_type": "stream",
     "text": [
      "/g/data/e14/erd561/mom/gfdl_nyf_1080_rcp85/archive/output616/ocean_month.nc OK\n"
     ]
    },
    {
     "name": "stderr",
     "output_type": "stream",
     "text": [
      "/g/data3/hh5/public/apps/miniconda3/envs/analysis3-18.07/lib/python3.6/site-packages/xarray/core/nanops.py:162: RuntimeWarning: Mean of empty slice\n",
      "  return np.nanmean(a, axis=axis, dtype=dtype)\n",
      "/g/data3/hh5/public/apps/miniconda3/envs/analysis3-18.07/lib/python3.6/site-packages/xarray/core/nanops.py:162: RuntimeWarning: Mean of empty slice\n",
      "  return np.nanmean(a, axis=axis, dtype=dtype)\n"
     ]
    },
    {
     "name": "stdout",
     "output_type": "stream",
     "text": [
      "/g/data/e14/erd561/mom/gfdl_nyf_1080_rcp85/archive/output617/ocean_month.nc OK\n"
     ]
    },
    {
     "name": "stderr",
     "output_type": "stream",
     "text": [
      "/g/data3/hh5/public/apps/miniconda3/envs/analysis3-18.07/lib/python3.6/site-packages/xarray/core/nanops.py:162: RuntimeWarning: Mean of empty slice\n",
      "  return np.nanmean(a, axis=axis, dtype=dtype)\n",
      "/g/data3/hh5/public/apps/miniconda3/envs/analysis3-18.07/lib/python3.6/site-packages/xarray/core/nanops.py:162: RuntimeWarning: Mean of empty slice\n",
      "  return np.nanmean(a, axis=axis, dtype=dtype)\n"
     ]
    },
    {
     "name": "stdout",
     "output_type": "stream",
     "text": [
      "/g/data/e14/erd561/mom/gfdl_nyf_1080_rcp85/archive/output618/ocean_month.nc OK\n"
     ]
    },
    {
     "name": "stderr",
     "output_type": "stream",
     "text": [
      "/g/data3/hh5/public/apps/miniconda3/envs/analysis3-18.07/lib/python3.6/site-packages/xarray/core/nanops.py:162: RuntimeWarning: Mean of empty slice\n",
      "  return np.nanmean(a, axis=axis, dtype=dtype)\n",
      "/g/data3/hh5/public/apps/miniconda3/envs/analysis3-18.07/lib/python3.6/site-packages/xarray/core/nanops.py:162: RuntimeWarning: Mean of empty slice\n",
      "  return np.nanmean(a, axis=axis, dtype=dtype)\n"
     ]
    },
    {
     "name": "stdout",
     "output_type": "stream",
     "text": [
      "/g/data/e14/erd561/mom/gfdl_nyf_1080_rcp85/archive/output619/ocean_month.nc OK\n"
     ]
    },
    {
     "name": "stderr",
     "output_type": "stream",
     "text": [
      "/g/data3/hh5/public/apps/miniconda3/envs/analysis3-18.07/lib/python3.6/site-packages/xarray/core/nanops.py:162: RuntimeWarning: Mean of empty slice\n",
      "  return np.nanmean(a, axis=axis, dtype=dtype)\n"
     ]
    },
    {
     "name": "stdout",
     "output_type": "stream",
     "text": [
      "/g/data/e14/erd561/mom/gfdl_nyf_1080_rcp85/archive/output620/ocean_month.nc OK\n",
      "<xarray.DataArray 'u' (year: 30, yu_ocean: 220, xu_ocean: 281)>\n",
      "array([[[ 3.226749,  4.579499, ..., 18.250782, 18.151443],\n",
      "        [ 5.424019,  6.164174, ..., 19.0497  , 18.447664],\n",
      "        ...,\n",
      "        [-0.875426,  0.742908, ...,  0.589452,  0.455355],\n",
      "        [-0.446703,  1.042892, ..., -1.665959, -1.539691]],\n",
      "\n",
      "       [[ 3.464878,  4.758625, ..., 22.660906, 21.203909],\n",
      "        [ 6.008337,  6.769628, ..., 25.706745, 25.299252],\n",
      "        ...,\n",
      "        [ 3.099197,  4.51613 , ..., -0.40462 ,  0.101112],\n",
      "        [ 1.777051,  3.967316, ..., -3.365498, -2.952523]],\n",
      "\n",
      "       ...,\n",
      "\n",
      "       [[ 1.236042,  2.801782, ...,  1.987195,  1.858018],\n",
      "        [ 4.828698,  6.666809, ...,  4.16678 ,  3.738938],\n",
      "        ...,\n",
      "        [-3.853745, -3.035244, ..., -3.405099, -3.256104],\n",
      "        [-4.637712, -4.178194, ..., -5.1062  , -5.772229]],\n",
      "\n",
      "       [[ 1.955348,  3.127618, ...,  5.933039,  7.634661],\n",
      "        [ 3.964375,  5.737937, ..., 10.744117, 12.363657],\n",
      "        ...,\n",
      "        [-1.317865,  0.887807, ..., -1.496221, -1.669545],\n",
      "        [-1.586174, -0.167293, ..., -4.453626, -4.787724]]], dtype=float32)\n",
      "Coordinates:\n",
      "  * xu_ocean  (xu_ocean) float64 -260.0 -259.8 -259.5 ... -190.5 -190.2 -190.0\n",
      "  * yu_ocean  (yu_ocean) float64 -59.9 -59.77 -59.65 ... -20.55 -20.31 -20.08\n",
      "    st_ocean  float64 5.034\n",
      "Dimensions without coordinates: year\n",
      "<xarray.DataArray 'v' (year: 30, yu_ocean: 220, xu_ocean: 281)>\n",
      "array([[[ 1.72809 , -0.073969, ...,  5.782119,  2.124874],\n",
      "        [ 0.843842, -1.372219, ...,  5.633212,  3.004984],\n",
      "        ...,\n",
      "        [-1.147116, -1.070632, ..., -3.795982, -0.865735],\n",
      "        [-2.468302, -2.84942 , ..., -3.734509, -0.808185]],\n",
      "\n",
      "       [[ 1.804343,  0.06874 , ..., 15.300599, 13.563538],\n",
      "        [ 0.872503, -1.182365, ..., 15.875393, 14.39627 ],\n",
      "        ...,\n",
      "        [-0.120535, -0.36316 , ..., -3.931049, -3.494824],\n",
      "        [-2.070166, -1.672724, ..., -4.617996, -4.276791]],\n",
      "\n",
      "       ...,\n",
      "\n",
      "       [[ 0.091713, -0.79185 , ..., -3.251323, -3.298329],\n",
      "        [-1.51528 , -2.907631, ..., -2.650781, -3.091887],\n",
      "        ...,\n",
      "        [-1.847004, -2.419352, ..., -3.54534 , -3.751141],\n",
      "        [-2.654965, -3.616531, ..., -3.754851, -3.95103 ]],\n",
      "\n",
      "       [[ 1.911612,  1.262008, ...,  1.749376,  0.807819],\n",
      "        [ 0.732948, -0.626896, ..., -0.057328, -0.700879],\n",
      "        ...,\n",
      "        [-2.793432, -2.116002, ..., -3.108095, -3.237953],\n",
      "        [-4.813311, -3.805289, ..., -3.516456, -3.387457]]], dtype=float32)\n",
      "Coordinates:\n",
      "  * xu_ocean  (xu_ocean) float64 -260.0 -259.8 -259.5 ... -190.5 -190.2 -190.0\n",
      "  * yu_ocean  (yu_ocean) float64 -59.9 -59.77 -59.65 ... -20.55 -20.31 -20.08\n",
      "    st_ocean  float64 5.034\n",
      "Dimensions without coordinates: year\n",
      "CPU times: user 1min 26s, sys: 6.27 s, total: 1min 32s\n",
      "Wall time: 2min 31s\n"
     ]
    },
    {
     "name": "stderr",
     "output_type": "stream",
     "text": [
      "/g/data3/hh5/public/apps/miniconda3/envs/analysis3-18.07/lib/python3.6/site-packages/xarray/core/nanops.py:162: RuntimeWarning: Mean of empty slice\n",
      "  return np.nanmean(a, axis=axis, dtype=dtype)\n"
     ]
    }
   ],
   "source": [
    "%%time\n",
    "\n",
    "lon = [100-360, 170-360]\n",
    "lat = [-60, -20]\n",
    "\n",
    "for p1,p2 in zip(path1, path2):\n",
    "    if p1 == path1[0]:\n",
    "        u = \\\n",
    "            xr.open_dataset(p2, decode_times=False).\\\n",
    "            u.\\\n",
    "            sel(xu_ocean=slice(lon[0], lon[1])).\\\n",
    "            sel(yu_ocean=slice(lat[0], lat[1])).\\\n",
    "            sel(st_ocean=0, method='nearest').\\\n",
    "            mean(dim='time').\\\n",
    "            drop(('geolon_c', 'geolat_c'))*100\n",
    "        \n",
    "        v = \\\n",
    "            xr.open_dataset(p2, decode_times=False).\\\n",
    "            v.\\\n",
    "            sel(xu_ocean=slice(lon[0], lon[1])).\\\n",
    "            sel(yu_ocean=slice(lat[0], lat[1])).\\\n",
    "            sel(st_ocean=0, method='nearest').\\\n",
    "            mean(dim='time').\\\n",
    "            drop(('geolon_c', 'geolat_c'))*100\n",
    "        \n",
    "        print(str(p1) + ' OK')\n",
    "            \n",
    "    elif 'v45' in p1:\n",
    "        u = \\\n",
    "            xr.concat([\n",
    "                u,\n",
    "                xr.open_dataset(p2, decode_times=False).\\\n",
    "                u.\\\n",
    "                sel(xu_ocean=slice(lon[0], lon[1])).\\\n",
    "                sel(yu_ocean=slice(lat[0], lat[1])).\\\n",
    "                sel(st_ocean=0, method='nearest').\\\n",
    "                mean(dim='time').\\\n",
    "                drop(('geolon_c', 'geolat_c'))*100\n",
    "            ], 'year'\n",
    "            )\n",
    "        \n",
    "        v = \\\n",
    "            xr.concat([\n",
    "                v,\n",
    "                xr.open_dataset(p2, decode_times=False).\\\n",
    "                v.\\\n",
    "                sel(xu_ocean=slice(lon[0], lon[1])).\\\n",
    "                sel(yu_ocean=slice(lat[0], lat[1])).\\\n",
    "                sel(st_ocean=0, method='nearest').\\\n",
    "                mean(dim='time').\\\n",
    "                drop(('geolon_c', 'geolat_c'))*100\n",
    "            ], 'year'\n",
    "            )\n",
    "        \n",
    "        print(str(p1) + ' OK')\n",
    "        \n",
    "    else:\n",
    "        u = \\\n",
    "            xr.concat([\n",
    "                u,\n",
    "                xr.open_dataset(p2, decode_times=False).\\\n",
    "                u.\\\n",
    "                sel(xu_ocean=slice(lon[0], lon[1])).\\\n",
    "                sel(yu_ocean=slice(lat[0], lat[1])).\\\n",
    "                sel(st_ocean=0, method='nearest').\\\n",
    "                mean(dim='time')*100\n",
    "            ], 'year'\n",
    "            )\n",
    "        \n",
    "        v = \\\n",
    "            xr.concat([\n",
    "                v,\n",
    "                xr.open_dataset(p2, decode_times=False).\\\n",
    "                v.\\\n",
    "                sel(xu_ocean=slice(lon[0], lon[1])).\\\n",
    "                sel(yu_ocean=slice(lat[0], lat[1])).\\\n",
    "                sel(st_ocean=0, method='nearest').\\\n",
    "                mean(dim='time')*100\n",
    "            ], 'year'\n",
    "            )\n",
    "        \n",
    "        print(str(p1) + ' OK')\n",
    "print(u)\n",
    "print(v)\n",
    "\n",
    "u = u.assign_coords(xu_ocean=xu_ocean_corrected)\n",
    "v = v.assign_coords(xu_ocean=xu_ocean_corrected)\n",
    "\n",
    "u = u.assign_coords(year=years)\n",
    "v = v.assign_coords(year=years)"
   ]
  },
  {
   "cell_type": "code",
   "execution_count": 9,
   "metadata": {},
   "outputs": [
    {
     "name": "stderr",
     "output_type": "stream",
     "text": [
      "/g/data3/hh5/public/apps/miniconda3/envs/analysis3-18.07/lib/python3.6/site-packages/xarray/core/nanops.py:162: RuntimeWarning: Mean of empty slice\n",
      "  return np.nanmean(a, axis=axis, dtype=dtype)\n"
     ]
    },
    {
     "name": "stdout",
     "output_type": "stream",
     "text": [
      "/g/data/e14/erd561/mom/gfdl_nyf_1080_hist_5069/archive/output566/ocean_month.nc OK\n",
      "/g/data/e14/erd561/mom/gfdl_nyf_1080_hist_5069/archive/output567/ocean_month.nc OK\n",
      "/g/data/e14/erd561/mom/gfdl_nyf_1080_hist_5069/archive/output568/ocean_month.nc OK\n",
      "/g/data/e14/erd561/mom/gfdl_nyf_1080_hist_5069/archive/output569/ocean_month.nc OK\n",
      "/g/data/e14/erd561/mom/gfdl_nyf_1080_hist_5069/archive/output570/ocean_month.nc OK\n",
      "/g/data/e14/erd561/mom/gfdl_nyf_1080_hist_5069/archive/output571/ocean_month.nc OK\n",
      "/g/data/e14/erd561/mom/gfdl_nyf_1080_hist_5069/archive/output572/ocean_month.nc OK\n",
      "/g/data/e14/erd561/mom/gfdl_nyf_1080_hist_5069/archive/output573/ocean_month.nc OK\n",
      "/g/data/e14/erd561/mom/gfdl_nyf_1080_hist_5069/archive/output574/ocean_month.nc OK\n",
      "/g/data/e14/erd561/mom/gfdl_nyf_1080_hist_5069/archive/output575/ocean_month.nc OK\n",
      "/g/data/e14/erd561/mom/gfdl_nyf_1080_rcp85/archive/output611/ocean_month.nc OK\n",
      "/g/data/e14/erd561/mom/gfdl_nyf_1080_rcp85/archive/output612/ocean_month.nc OK\n",
      "/g/data/e14/erd561/mom/gfdl_nyf_1080_rcp85/archive/output613/ocean_month.nc OK\n",
      "/g/data/e14/erd561/mom/gfdl_nyf_1080_rcp85/archive/output614/ocean_month.nc OK\n",
      "/g/data/e14/erd561/mom/gfdl_nyf_1080_rcp85/archive/output615/ocean_month.nc OK\n",
      "/g/data/e14/erd561/mom/gfdl_nyf_1080_rcp85/archive/output616/ocean_month.nc OK\n",
      "/g/data/e14/erd561/mom/gfdl_nyf_1080_rcp85/archive/output617/ocean_month.nc OK\n",
      "/g/data/e14/erd561/mom/gfdl_nyf_1080_rcp85/archive/output618/ocean_month.nc OK\n",
      "/g/data/e14/erd561/mom/gfdl_nyf_1080_rcp85/archive/output619/ocean_month.nc OK\n",
      "/g/data/e14/erd561/mom/gfdl_nyf_1080_rcp85/archive/output620/ocean_month.nc OK\n",
      "<xarray.DataArray 'net_sfc_heating' (year: 20, yt_ocean: 220, xt_ocean: 280)>\n",
      "array([[[ -9.169551, -10.663915, ...,   1.013627,   1.2516  ],\n",
      "        [-10.686524,  -9.997433, ...,   1.403357,   1.873923],\n",
      "        ...,\n",
      "        [-35.512424, -33.76855 , ..., -15.735059, -15.724479],\n",
      "        [-36.455887, -34.222122, ..., -14.533748, -12.85665 ]],\n",
      "\n",
      "       [[ -2.889406,  -2.065007, ...,  -0.410221,  -0.772743],\n",
      "        [ -3.090961,  -2.765015, ...,   1.140863,   1.12382 ],\n",
      "        ...,\n",
      "        [-32.038486, -35.18037 , ..., -16.358902, -15.982699],\n",
      "        [-34.62305 , -36.97732 , ..., -18.027876, -15.597404]],\n",
      "\n",
      "       ...,\n",
      "\n",
      "       [[ -4.113293,  -4.963004, ...,  -4.947567,  -4.686918],\n",
      "        [ -2.896281,  -3.018631, ...,  -3.901876,  -3.423726],\n",
      "        ...,\n",
      "        [-26.155663, -28.150019, ..., -23.707771, -23.849352],\n",
      "        [-21.55081 , -24.325914, ..., -23.88149 , -22.148832]],\n",
      "\n",
      "       [[ -2.339102,  -3.367244, ...,  -6.424879,  -6.592702],\n",
      "        [ -2.47305 ,  -3.386986, ...,  -4.28418 ,  -4.669482],\n",
      "        ...,\n",
      "        [-27.95829 , -27.44332 , ..., -23.749588, -22.802078],\n",
      "        [-32.658543, -34.18147 , ..., -23.052141, -19.89669 ]]], dtype=float32)\n",
      "Coordinates:\n",
      "  * xt_ocean  (xt_ocean) float64 -259.9 -259.6 -259.4 ... -190.6 -190.4 -190.1\n",
      "  * yt_ocean  (yt_ocean) float64 -59.96 -59.83 -59.71 ... -20.66 -20.43 -20.19\n",
      "Dimensions without coordinates: year\n",
      "<xarray.DataArray 'ekman_we' (year: 20, yu_ocean: 220, xt_ocean: 280)>\n",
      "array([[[ 7.373856e-07,  1.331598e-06, ..., -5.017789e-08, -6.853345e-08],\n",
      "        [ 1.405912e-06,  2.339661e-06, ...,  9.095282e-08,  5.408176e-08],\n",
      "        ...,\n",
      "        [-2.093025e-07, -1.437735e-07, ..., -3.371415e-07, -3.318416e-07],\n",
      "        [ 1.507874e-07,  1.062674e-07, ..., -2.774122e-07, -2.541442e-07]],\n",
      "\n",
      "       [[-1.433476e-07, -6.265952e-07, ...,  2.525906e-07,  2.393632e-07],\n",
      "        [-1.965693e-07, -1.840475e-07, ...,  1.320097e-07,  1.463963e-07],\n",
      "        ...,\n",
      "        [-7.807581e-07, -6.752069e-07, ..., -4.009826e-07, -4.094914e-07],\n",
      "        [-5.978662e-07, -5.126130e-07, ..., -2.562754e-07, -2.379263e-07]],\n",
      "\n",
      "       ...,\n",
      "\n",
      "       [[-9.620429e-07, -4.320211e-07, ...,  3.656227e-07,  4.094853e-07],\n",
      "        [-1.082895e-06,  6.199547e-07, ...,  3.100981e-07,  3.364712e-07],\n",
      "        ...,\n",
      "        [-3.053250e-07, -3.082677e-07, ..., -2.794800e-07, -2.501014e-07],\n",
      "        [-4.131598e-07, -3.650853e-07, ..., -1.320586e-07, -9.525715e-08]],\n",
      "\n",
      "       [[-2.517245e-07, -1.188598e-06, ...,  1.307958e-07,  1.078299e-07],\n",
      "        [-3.043061e-06, -3.001953e-06, ...,  4.453326e-08,  6.140614e-08],\n",
      "        ...,\n",
      "        [-5.838141e-07, -5.833472e-07, ..., -2.417602e-07, -2.434980e-07],\n",
      "        [-3.551582e-07, -3.328398e-07, ..., -4.515567e-08, -4.389844e-08]]],\n",
      "      dtype=float32)\n",
      "Coordinates:\n",
      "  * xt_ocean  (xt_ocean) float64 -259.9 -259.6 -259.4 ... -190.6 -190.4 -190.1\n",
      "  * yu_ocean  (yu_ocean) float64 -59.9 -59.77 -59.65 ... -20.55 -20.31 -20.08\n",
      "Dimensions without coordinates: year\n",
      "CPU times: user 27.6 s, sys: 2.34 s, total: 30 s\n",
      "Wall time: 57.8 s\n"
     ]
    }
   ],
   "source": [
    "%%time\n",
    "\n",
    "lon = [100-360, 170-360]\n",
    "lat = [-60, -20]\n",
    "\n",
    "for p1,p2 in zip(path1[10:], path2[10:]):\n",
    "    if p1 == path1[10]:\n",
    "        net_sfc_heating = \\\n",
    "            xr.open_dataset(p2, decode_times=False).\\\n",
    "            net_sfc_heating.\\\n",
    "            sel(xt_ocean=slice(lon[0], lon[1])).\\\n",
    "            sel(yt_ocean=slice(lat[0], lat[1])).\\\n",
    "            mean(dim='time')\n",
    "        \n",
    "        tau_curl = \\\n",
    "            xr.open_dataset(p2, decode_times=False).\\\n",
    "            tau_curl.\\\n",
    "            sel(xt_ocean=slice(lon[0], lon[1])).\\\n",
    "            sel(yu_ocean=slice(lat[0], lat[1])).\\\n",
    "            mean(dim='time')\n",
    "        \n",
    "        ekman_we = \\\n",
    "            xr.open_dataset(p2, decode_times=False).\\\n",
    "            ekman_we.\\\n",
    "            sel(xt_ocean=slice(lon[0], lon[1])).\\\n",
    "            sel(yu_ocean=slice(lat[0], lat[1])).\\\n",
    "            mean(dim='time')\n",
    "        \n",
    "        print(str(p1) + ' OK')\n",
    "        \n",
    "    else:\n",
    "        net_sfc_heating = \\\n",
    "            xr.concat([\n",
    "                net_sfc_heating,\n",
    "                xr.open_dataset(p2, decode_times=False).\\\n",
    "                net_sfc_heating.\\\n",
    "                sel(xt_ocean=slice(lon[0], lon[1])).\\\n",
    "                sel(yt_ocean=slice(lat[0], lat[1])).\\\n",
    "                mean(dim='time')\n",
    "            ], 'year'\n",
    "            )\n",
    "        \n",
    "        tau_curl = \\\n",
    "            xr.concat([\n",
    "                tau_curl,\n",
    "                xr.open_dataset(p2, decode_times=False).\\\n",
    "                tau_curl.\\\n",
    "                sel(xt_ocean=slice(lon[0], lon[1])).\\\n",
    "                sel(yu_ocean=slice(lat[0], lat[1])).\\\n",
    "                mean(dim='time')\n",
    "            ], 'year'\n",
    "            )\n",
    "        \n",
    "        ekman_we = \\\n",
    "            xr.concat([\n",
    "                ekman_we,\n",
    "                xr.open_dataset(p2, decode_times=False).\\\n",
    "                ekman_we.\\\n",
    "                sel(xt_ocean=slice(lon[0], lon[1])).\\\n",
    "                sel(yu_ocean=slice(lat[0], lat[1])).\\\n",
    "                mean(dim='time')\n",
    "            ], 'year'\n",
    "            )\n",
    "        \n",
    "        print(str(p1) + ' OK')\n",
    "print(net_sfc_heating)\n",
    "print(ekman_we)\n",
    "\n",
    "net_sfc_heating = net_sfc_heating.assign_coords(xt_ocean=xt_ocean_corrected)\n",
    "tau_curl = tau_curl.assign_coords(xt_ocean=xt_ocean_corrected)\n",
    "ekman_we = ekman_we.assign_coords(xt_ocean=xt_ocean_corrected)\n",
    "\n",
    "net_sfc_heating = net_sfc_heating.assign_coords(year=years[10:])\n",
    "tau_curl = tau_curl.assign_coords(year=years[10:])\n",
    "ekman_we = ekman_we.assign_coords(year=years[10:])"
   ]
  },
  {
   "cell_type": "code",
   "execution_count": 10,
   "metadata": {},
   "outputs": [
    {
     "name": "stderr",
     "output_type": "stream",
     "text": [
      "/g/data3/hh5/public/apps/miniconda3/envs/analysis3-18.07/lib/python3.6/site-packages/xarray/core/nanops.py:162: RuntimeWarning: Mean of empty slice\n",
      "  return np.nanmean(a, axis=axis, dtype=dtype)\n"
     ]
    }
   ],
   "source": [
    "SST_nyf = SST.sel(year=slice(-9,0)).mean(dim='year')\n",
    "SST_hist5069 = SST.sel(year=slice(1,10)).mean(dim='year')\n",
    "SST_rcp85 = SST.sel(year=slice(11,20)).mean(dim='year')\n",
    "\n",
    "tau_x_nyf = tau_x.sel(year=slice(-9,0)).mean(dim='year')\n",
    "tau_x_hist5069 = tau_x.sel(year=slice(1,10)).mean(dim='year')\n",
    "tau_x_rcp85 = tau_x.sel(year=slice(11,20)).mean(dim='year')\n",
    "\n",
    "sea_level_nyf = sea_level.sel(year=slice(-9,0)).mean(dim='year')\n",
    "sea_level_hist5069 = sea_level.sel(year=slice(1,10)).mean(dim='year')\n",
    "sea_level_rcp85 = sea_level.sel(year=slice(11,20)).mean(dim='year')\n",
    "\n",
    "u_nyf = u.sel(year=slice(-9,0)).mean(dim='year')\n",
    "u_hist5069 = u.sel(year=slice(1,10)).mean(dim='year')\n",
    "u_rcp85 = u.sel(year=slice(11,20)).mean(dim='year')\n",
    "\n",
    "v_nyf = v.sel(year=slice(-9,0)).mean(dim='year')\n",
    "v_hist5069 = v.sel(year=slice(1,10)).mean(dim='year')\n",
    "v_rcp85 = v.sel(year=slice(11,20)).mean(dim='year')\n",
    "\n",
    "net_sfc_heating_hist5069 = net_sfc_heating.sel(year=slice(1,10)).mean(dim='year')\n",
    "net_sfc_heating_rcp85 = net_sfc_heating.sel(year=slice(11,20)).mean(dim='year')\n",
    "\n",
    "tau_curl_hist5069 = tau_curl.sel(year=slice(1,10)).mean(dim='year')\n",
    "tau_curl_rcp85 = tau_curl.sel(year=slice(11,20)).mean(dim='year')\n",
    "\n",
    "ekman_we_hist5069 = ekman_we.sel(year=slice(1,10)).mean(dim='year')\n",
    "ekman_we_rcp85 = ekman_we.sel(year=slice(11,20)).mean(dim='year')"
   ]
  },
  {
   "cell_type": "code",
   "execution_count": 44,
   "metadata": {},
   "outputs": [
    {
     "name": "stderr",
     "output_type": "stream",
     "text": [
      "/g/data3/hh5/public/apps/miniconda3/envs/analysis3-18.07/lib/python3.6/site-packages/matplotlib/contour.py:960: UserWarning: The following kwargs were not used by contour: 'add_colorbar'\n",
      "  s)\n",
      "/g/data3/hh5/public/apps/miniconda3/envs/analysis3-18.07/lib/python3.6/site-packages/matplotlib/contour.py:960: UserWarning: The following kwargs were not used by contour: 'add_colorbar'\n",
      "  s)\n",
      "/g/data3/hh5/public/apps/miniconda3/envs/analysis3-18.07/lib/python3.6/site-packages/matplotlib/contour.py:1173: UserWarning: No contour levels were found within the data range.\n",
      "  warnings.warn(\"No contour levels were found\"\n"
     ]
    },
    {
     "data": {
      "image/png": "[encoded data removed]",
      "text/plain": [
       "<Figure size 540x864 with 20 Axes>"
      ]
     },
     "metadata": {
      "needs_background": "light"
     },
     "output_type": "display_data"
    }
   ],
   "source": [
    "from mpl_toolkits.axes_grid1.axes_divider import make_axes_locatable\n",
    "def arange(start,end,stride=1):\n",
    "    return np.arange(start,end+0.00000001,stride)\n",
    "\n",
    "fig = plt.figure() \n",
    "fig.set_size_inches(7.5,12)\n",
    "matplotlib.rcParams.update({'font.size': 6}) \n",
    "col = 3\n",
    "row = 6\n",
    "\n",
    "ax = plt.subplot2grid((row, col), (1, 0), rowspan=1, colspan=1)\n",
    "cont_lev = arange(-0.03,0.03,0.005)\n",
    "anom = tau_x_rcp85 - tau_x_hist5069\n",
    "contf = anom.plot.contourf(add_colorbar=False, levels=cont_lev, cmap=plt.cm.PRGn, extend='both')\n",
    "plt.grid()\n",
    "plt.title(r'a) $\\tau^{x}_{a}$', loc='left')\n",
    "plt.xlabel('')\n",
    "plt.ylabel('')\n",
    "plt.gca().set_xticklabels('')\n",
    "ax.set_facecolor('gray')\n",
    "ax = plt.subplot2grid((row, col), (0, 0), rowspan=1, colspan=1)\n",
    "ax_divider = make_axes_locatable(ax)\n",
    "cax = ax_divider.append_axes(\"bottom\", size=\"7%\", pad=\"2%\")\n",
    "cbar = plt.colorbar(contf, cax=cax, orientation='horizontal', drawedges=True)\n",
    "cbar.set_ticks([-0.03, -0.015, 0, 0.015, 0.03])\n",
    "cbar.set_ticklabels(['-0.03', '-0.015', '0', '0.015', '0.03'])\n",
    "cbar.set_label(r'$N\\ m^{-2}$') \n",
    "ax.axis('off')\n",
    "\n",
    "\n",
    "\n",
    "ax = plt.subplot2grid((row, col), (1, 1), rowspan=1, colspan=1)\n",
    "cont_lev = arange(-2,2,0.25)\n",
    "anom = SST_rcp85 - SST_hist5069\n",
    "contf = anom.plot.contourf(add_colorbar=False, levels=cont_lev, cmap=plt.cm.seismic, extend='both')\n",
    "plt.title('')\n",
    "plt.grid()\n",
    "plt.title('b) $SST_{a}$', loc='left')\n",
    "plt.xlabel('')\n",
    "plt.ylabel('')\n",
    "ax.set_facecolor('gray')\n",
    "plt.gca().set_yticklabels('')\n",
    "ax = plt.subplot2grid((row, col), (0, 1), rowspan=1, colspan=1)\n",
    "ax_divider = make_axes_locatable(ax)\n",
    "cax = ax_divider.append_axes(\"bottom\", size=\"7%\", pad=\"2%\")\n",
    "cbar = plt.colorbar(contf, cax=cax, orientation='horizontal', drawedges=True)\n",
    "# cbar.set_ticks([-0.02, -0.01, 0, 0.01, 0.02])\n",
    "cbar.set_label(r'$^{\\circ}C$') \n",
    "ax.axis('off')\n",
    "\n",
    "\n",
    "ax = plt.subplot2grid((row, col), (1, 2), rowspan=1, colspan=1)\n",
    "cont_lev = arange(-15,15,2.5)\n",
    "anom = sea_level_rcp85 - sea_level_hist5069\n",
    "contf = anom.plot.contourf(add_colorbar=False, levels=cont_lev, cmap=plt.cm.BrBG, extend='both')\n",
    "plt.title('')\n",
    "plt.grid()\n",
    "plt.title(r'c) $\\eta_{a}$', loc='left')\n",
    "plt.xlabel('')\n",
    "plt.ylabel('')\n",
    "plt.gca().set_xticklabels('')\n",
    "ax.set_facecolor('gray')\n",
    "plt.gca().set_yticklabels('')\n",
    "ax = plt.subplot2grid((row, col), (0, 2), rowspan=1, colspan=1)\n",
    "ax_divider = make_axes_locatable(ax)\n",
    "cax = ax_divider.append_axes(\"bottom\", size=\"7%\", pad=\"2%\")\n",
    "cbar = plt.colorbar(contf, cax=cax, orientation='horizontal', drawedges=True)\n",
    "# cbar.set_ticks([-0.02, -0.01, 0, 0.01, 0.02])\n",
    "cbar.set_label(r'$cm$') \n",
    "ax.axis('off')\n",
    "\n",
    "\n",
    "ax = plt.subplot2grid((row, col), (2, 2), rowspan=1, colspan=1)\n",
    "cont_lev = arange(-30,30,5)\n",
    "anom = net_sfc_heating_rcp85 - net_sfc_heating_hist5069\n",
    "contf1 = anom.plot.contourf(add_colorbar=False, levels=cont_lev, cmap=plt.cm.seismic, extend='both')\n",
    "plt.title('')\n",
    "plt.grid()\n",
    "plt.title(r'e) $Q_{a}$', loc='left')\n",
    "plt.xlabel('')\n",
    "plt.ylabel('')\n",
    "ax.set_facecolor('gray')\n",
    "plt.gca().set_yticklabels('')\n",
    "# ax = plt.subplot2grid((row, col), (2, 1), rowspan=1, colspan=1)\n",
    "# ax_divider = make_axes_locatable(ax)\n",
    "# cax = ax_divider.append_axes(\"left\", size=\"7%\", pad=\"2%\")\n",
    "# cbar = plt.colorbar(contf1, cax=cax, orientation='vertical', drawedges=True)\n",
    "# # cbar.set_ticks([-0.02, -0.01, 0, 0.01, 0.02])\n",
    "# cbar.set_label(r'$W/m2$') \n",
    "# ax.axis('off')\n",
    "\n",
    "\n",
    "# ax = plt.subplot2grid((row, col), (2, 1), rowspan=1, colspan=1)\n",
    "# cont_lev = arange(-0.00000001, 0.00000001, 0.000000001)\n",
    "# anom = tau_curl_rcp85 - tau_curl_hist5069\n",
    "# contf = anom.plot.contourf(add_colorbar=False, levels=cont_lev, cmap=plt.cm.seismic, extend='both')\n",
    "# plt.title('')\n",
    "# plt.grid()\n",
    "# plt.title(r'e) Meridional velocity (cm/s)', loc='left')\n",
    "# plt.xlabel('')\n",
    "# plt.ylabel('')\n",
    "# ax.set_facecolor('gray')\n",
    "# plt.gca().set_yticklabels('')\n",
    "# ax = plt.subplot2grid((row, col), (3, 1), rowspan=1, colspan=1)\n",
    "# ax_divider = make_axes_locatable(ax)\n",
    "# cax = ax_divider.append_axes(\"top\", size=\"7%\", pad=\"2%\")\n",
    "# cbar = plt.colorbar(contf, cax=cax, orientation='horizontal', drawedges=True)\n",
    "# # cbar.set_ticks([-0.02, -0.01, 0, 0.01, 0.02])\n",
    "# cbar.set_label(r'$cm/s$') \n",
    "# ax.axis('off')\n",
    "\n",
    "\n",
    "ax = plt.subplot2grid((row, col), (2, 0), rowspan=1, colspan=1)\n",
    "cont_lev = arange(-0.0000001,0.0000001,0.00000002)\n",
    "anom = tau_curl_rcp85 - tau_curl_hist5069\n",
    "contf2 = anom.plot.contourf(add_colorbar=False, levels=cont_lev, cmap=plt.cm.seismic, extend='both')\n",
    "plt.title('')\n",
    "plt.grid()\n",
    "plt.title(r'd) $\\nabla\\ \\times\\ \\tau_{a}$', loc='left')\n",
    "plt.xlabel('')\n",
    "plt.ylabel('')\n",
    "ax.set_facecolor('gray')\n",
    "# plt.gca().set_yticklabels('')\n",
    "ax = plt.subplot2grid((row, col), (2, 1), rowspan=1, colspan=1)\n",
    "ax_divider = make_axes_locatable(ax)\n",
    "cax = ax_divider.append_axes(\"right\", size=\"7%\", pad=\"2%\")\n",
    "cbar = plt.colorbar(contf1, cax=cax, orientation='vertical', drawedges=True)\n",
    "cbar.ax.yaxis.tick_left()\n",
    "cbar.ax.yaxis.set_label_position('left')\n",
    "# cbar.set_ticks([-0.02, -0.01, 0, 0.01, 0.02])\n",
    "cbar.set_label(r'$W\\ m^{-2}$')\n",
    "cax = ax_divider.append_axes(\"left\", size=\"7%\", pad=\"2%\")\n",
    "cbar = plt.colorbar(contf2, cax=cax, orientation='vertical', drawedges=True)\n",
    "# cbar.set_ticks([-0.02, -0.01, 0, 0.01, 0.02])\n",
    "cbar.set_label(r'$N\\ m^{-3}$') \n",
    "ax.axis('off')\n",
    "\n",
    "\n",
    "\n",
    "ax = plt.subplot2grid((row, col), (3, 0), rowspan=2, colspan=2)\n",
    "cont_lev = arange(-6, 6, 1)\n",
    "u_anom = u_rcp85 - u_hist5069\n",
    "v_anom = v_rcp85 - v_hist5069\n",
    "X_LIM = [100, 147]\n",
    "Y_LIM = [-47, -20]\n",
    "X = v_anom.xu_ocean[\n",
    "    find_nearest_index(v_anom.xu_ocean.data, X_LIM[0]):find_nearest_index(v_anom.xu_ocean.data, X_LIM[1])]\n",
    "Y = v_anom.yu_ocean[\n",
    "    find_nearest_index(v_anom.yu_ocean.data, Y_LIM[0]):find_nearest_index(v_anom.yu_ocean.data, Y_LIM[1])]\n",
    "Xm, Ym = np.meshgrid(X,Y)\n",
    "U = np.array(u_anom[\n",
    "    find_nearest_index(v_anom.yu_ocean.data, Y_LIM[0]):find_nearest_index(v_anom.yu_ocean.data, Y_LIM[1]),\n",
    "    find_nearest_index(v_anom.xu_ocean.data, X_LIM[0]):find_nearest_index(v_anom.xu_ocean.data, X_LIM[1])\n",
    "])\n",
    "V = np.array(v_anom[\n",
    "    find_nearest_index(v_anom.yu_ocean.data, Y_LIM[0]):find_nearest_index(v_anom.yu_ocean.data, Y_LIM[1]),\n",
    "    find_nearest_index(v_anom.xu_ocean.data, X_LIM[0]):find_nearest_index(v_anom.xu_ocean.data, X_LIM[1])\n",
    "])\n",
    "speed = np.sqrt(U**2 + V**2)\n",
    "contf = plt.contourf(X, Y, V, add_colorbar=False, \n",
    "                     levels=cont_lev, cmap=plt.cm.coolwarm, extend='both')\n",
    "\n",
    "anom = sea_level_rcp85 - sea_level_hist5069\n",
    "X = anom.xt_ocean[\n",
    "    find_nearest_index(anom.xt_ocean.data, X_LIM[0]):find_nearest_index(anom.xt_ocean.data, X_LIM[1])]\n",
    "Y = anom.yt_ocean[\n",
    "    find_nearest_index(anom.yt_ocean.data, Y_LIM[0]):find_nearest_index(anom.yt_ocean.data, Y_LIM[1])]\n",
    "Xm, Ym = np.meshgrid(X,Y)\n",
    "ANOM = np.array(anom[\n",
    "    find_nearest_index(anom.yt_ocean.data, Y_LIM[0]):find_nearest_index(anom.yt_ocean.data, Y_LIM[1]),\n",
    "    find_nearest_index(anom.xt_ocean.data, X_LIM[0]):find_nearest_index(anom.xt_ocean.data, X_LIM[1])\n",
    "])\n",
    "\n",
    "for l in arange(1, 7, 1):\n",
    "    CS = plt.contour(X, Y, ANOM, colors='k', levels=[l], linewidths=l/5)\n",
    "    plt.clabel(CS, inline=3, fontsize=7, fmt='%1.0f')\n",
    "\n",
    "for l in arange(-4, -1, 1):\n",
    "    CS = plt.contour(X, Y, ANOM, colors='k', levels=[l], linewidths=abs(l)/2.5, linestyles='--')\n",
    "    plt.clabel(CS, inline=3, fontsize=7, fmt='%1.0f')\n",
    "\n",
    "\n",
    "plt.title('')\n",
    "plt.grid()\n",
    "plt.title('f) $v_{a}$ and $\\eta_{a}$', loc='left')\n",
    "plt.xlabel('')\n",
    "plt.ylabel('')\n",
    "ax.set_facecolor('gray')\n",
    "ax = plt.subplot2grid((row, col), (5, 0), rowspan=1, colspan=2)\n",
    "ax_divider = make_axes_locatable(ax)\n",
    "cax1 = ax_divider.append_axes(\"top\", size=\"8%\", pad=\"2%\")\n",
    "cbar = plt.colorbar(contf, cax=cax1, orientation='horizontal', drawedges=True)\n",
    "cbar.set_label(r'$cm\\ s^{-1}$') \n",
    "cbar.ax.set_title('$v_{a}$')\n",
    "# cax2 = ax_divider.append_axes(\"top\", size=\"12%\", pad=\"80%\")\n",
    "# cbar = plt.colorbar(Q2, cax=cax2, orientation='horizontal', drawedges=True, extend='max')\n",
    "# cbar.set_ticks(Q_lev)\n",
    "# cbar.set_label(r'$cm\\ s^{-1}$')\n",
    "# cbar.ax.set_title('$Speed_{a}$ (only for $|u_{a}| > ' + str(tol) + '\\ cm\\ s^{-1}$)')\n",
    "ax.axis('off')\n",
    "\n",
    "\n",
    "ax = plt.subplot2grid((row, col), (3, 2), rowspan=2, colspan=1)\n",
    "cont_lev = arange(-24, 24, 4)\n",
    "u_anom = u_rcp85 - u_hist5069\n",
    "v_anom = v_rcp85 - v_hist5069\n",
    "X_LIM = [147, 170]\n",
    "X = v_anom.xu_ocean[\n",
    "    find_nearest_index(v_anom.xu_ocean.data, X_LIM[0]):find_nearest_index(v_anom.xu_ocean.data, X_LIM[1])]\n",
    "Y = v_anom.yu_ocean[\n",
    "    find_nearest_index(v_anom.yu_ocean.data, Y_LIM[0]):find_nearest_index(v_anom.yu_ocean.data, Y_LIM[1])]\n",
    "Xm, Ym = np.meshgrid(X,Y)\n",
    "U = np.array(u_anom[\n",
    "    find_nearest_index(v_anom.yu_ocean.data, Y_LIM[0]):find_nearest_index(v_anom.yu_ocean.data, Y_LIM[1]),\n",
    "    find_nearest_index(v_anom.xu_ocean.data, X_LIM[0]):find_nearest_index(v_anom.xu_ocean.data, X_LIM[1])\n",
    "])\n",
    "V = np.array(v_anom[\n",
    "    find_nearest_index(v_anom.yu_ocean.data, Y_LIM[0]):find_nearest_index(v_anom.yu_ocean.data, Y_LIM[1]),\n",
    "    find_nearest_index(v_anom.xu_ocean.data, X_LIM[0]):find_nearest_index(v_anom.xu_ocean.data, X_LIM[1])\n",
    "])\n",
    "speed = np.sqrt(U**2 + V**2)\n",
    "contf = plt.contourf(X, Y, V, add_colorbar=False, levels=cont_lev, cmap=plt.cm.coolwarm, extend='both')\n",
    "\n",
    "anom = sea_level_rcp85 - sea_level_hist5069\n",
    "X = anom.xt_ocean[\n",
    "    find_nearest_index(anom.xt_ocean.data, X_LIM[0]):find_nearest_index(anom.xt_ocean.data, X_LIM[1])]\n",
    "Y = anom.yt_ocean[\n",
    "    find_nearest_index(anom.yt_ocean.data, Y_LIM[0]):find_nearest_index(anom.yt_ocean.data, Y_LIM[1])]\n",
    "Xm, Ym = np.meshgrid(X,Y)\n",
    "ANOM = np.array(anom[\n",
    "    find_nearest_index(anom.yt_ocean.data, Y_LIM[0]):find_nearest_index(anom.yt_ocean.data, Y_LIM[1]),\n",
    "    find_nearest_index(anom.xt_ocean.data, X_LIM[0]):find_nearest_index(anom.xt_ocean.data, X_LIM[1])\n",
    "])\n",
    "\n",
    "for l in arange(2, 10, 2):\n",
    "    CS = plt.contour(X, Y, ANOM, colors='k', levels=[l], linewidths=l/20)\n",
    "    plt.clabel(CS, inline=3, fontsize=7, fmt='%1.0f')\n",
    "\n",
    "CS = plt.contour(X, Y, ANOM, colors='k', levels=[15], linewidths=1)\n",
    "plt.clabel(CS, inline=3, fontsize=7, fmt='%1.0f')\n",
    "CS = plt.contour(X, Y, ANOM, colors='k', levels=[25], linewidths=1.5)\n",
    "plt.clabel(CS, inline=3, fontsize=7, fmt='%1.0f')\n",
    "    \n",
    "for l in arange(-4, -2, 2):\n",
    "    CS = plt.contour(X, Y, ANOM, colors='k', levels=[l], linewidths=abs(l)/4, linestyles='--')\n",
    "    plt.clabel(CS, inline=3, fontsize=7, fmt='%1.0f')\n",
    "    \n",
    "\n",
    "plt.title('')\n",
    "plt.grid()\n",
    "plt.title('g) $v_{a}$ and $\\eta_{a}$', loc='left')\n",
    "plt.xlabel('')\n",
    "plt.ylabel('')\n",
    "plt.xticks(arange(150,170,5))\n",
    "plt.gca().set_yticklabels('')\n",
    "ax.set_facecolor('gray')\n",
    "ax = plt.subplot2grid((row, col), (5, 2), rowspan=1, colspan=1)\n",
    "ax_divider = make_axes_locatable(ax)\n",
    "cax1 = ax_divider.append_axes(\"top\", size=\"8%\", pad=\"2%\")\n",
    "cbar = plt.colorbar(contf, cax=cax1, orientation='horizontal', drawedges=True)\n",
    "cbar.set_label(r'$cm\\ s^{-1}$') \n",
    "cbar.ax.set_title('$v_{a}$')\n",
    "# cax2 = ax_divider.append_axes(\"top\", size=\"12%\", pad=\"80%\")\n",
    "# cbar = plt.colorbar(Q2, cax=cax2, orientation='horizontal', drawedges=True, extend='max')\n",
    "# cbar.set_ticks(Q_lev)\n",
    "# cbar.set_label(r'$cm\\ s^{-1}$')\n",
    "# cbar.ax.set_title('$Speed_{a}$ (only for $|u_{a}| > ' + str(tol) + '\\ cm\\ s^{-1}$)')\n",
    "ax.axis('off')\n",
    "\n",
    "\n",
    "\n",
    "\n",
    "fig.tight_layout(pad=0, w_pad=-1.5, h_pad=0)\n",
    "\n",
    "output_ls = os.listdir(figures_path)\n",
    "if not script_name:\n",
    "    script_name = 'test'\n",
    "elif script_name not in output_ls:\n",
    "    os.mkdir(figures_path + '/' + script_name)\n",
    "plt.savefig(figures_path + '/' + script_name + '/' + script_name[0:3] \\\n",
    "            + '_fig1_.png', bbox_inches='tight', dpi=300)"
   ]
  },
  {
   "cell_type": "code",
   "execution_count": 83,
   "metadata": {},
   "outputs": [
    {
     "data": {
      "image/png": "[encoded data removed]",
      "text/plain": [
       "<Figure size 540x288 with 1 Axes>"
      ]
     },
     "metadata": {
      "needs_background": "light"
     },
     "output_type": "display_data"
    }
   ],
   "source": [
    "from mpl_toolkits.axes_grid1.axes_divider import make_axes_locatable\n",
    "def arange(start,end,stride=1):\n",
    "    return np.arange(start,end+0.00000001,stride)\n",
    "\n",
    "fig = plt.figure() \n",
    "fig.set_size_inches(7.5,4)\n",
    "matplotlib.rcParams.update({'font.size': 6}) \n",
    "col = 3\n",
    "row = 6\n",
    "\n",
    "\n",
    "cont_lev = arange(-2.5,2.5,0.25)\n",
    "anom = SST_rcp85 - SST_hist5069\n",
    "contf = anom.plot.contourf(add_colorbar=False, levels=cont_lev, cmap=plt.cm.seismic, extend='both')\n",
    "# CS = anom.plot.contour(colors='k', levels=cont_lev, linewidths=0.1, linestyles='-')\n",
    "# cbar = plt.colorbar()\n",
    "# cbar.set_label(r'$^{\\circ}C$') \n",
    "plt.title('')\n",
    "plt.grid()\n",
    "# plt.title('$SST_{a}$', loc='left')\n",
    "plt.xlabel('')\n",
    "plt.ylabel('')\n",
    "# plt.gca().axis('off')\n",
    "plt.gca().set_facecolor('gray')\n",
    "plt.gca().set_xticklabels('')\n",
    "plt.gca().set_yticklabels('')\n",
    "\n",
    "# plt.box(False)\n",
    "\n",
    "# plt.gca().get_xaxis().set_ticks([])\n",
    "# plt.gca().get_yaxis().set_ticks([])\n",
    "\n",
    "plt.gca().spines['top'].set_visible(False)\n",
    "plt.gca().spines['right'].set_visible(False)\n",
    "plt.gca().spines['bottom'].set_visible(False)\n",
    "plt.gca().spines['left'].set_visible(False)\n",
    "\n",
    "fig.tight_layout(pad=0, w_pad=-1.5, h_pad=0)\n",
    "\n",
    "output_ls = os.listdir(figures_path)\n",
    "if not script_name:\n",
    "    script_name = 'test'\n",
    "elif script_name not in output_ls:\n",
    "    os.mkdir(figures_path + '/' + script_name)\n",
    "plt.savefig(figures_path + '/' + script_name + '/' + script_name[0:3] \\\n",
    "            + '_fig2_.png', bbox_inches='tight', dpi=300)"
   ]
  },
  {
   "cell_type": "code",
   "execution_count": 57,
   "metadata": {},
   "outputs": [
    {
     "name": "stderr",
     "output_type": "stream",
     "text": [
      "/g/data3/hh5/public/apps/miniconda3/envs/analysis3-18.07/lib/python3.6/site-packages/matplotlib/contour.py:960: UserWarning: The following kwargs were not used by contour: 'add_colorbar'\n",
      "  s)\n",
      "/g/data3/hh5/public/apps/miniconda3/envs/analysis3-18.07/lib/python3.6/site-packages/ipykernel/__main__.py:232: RuntimeWarning: invalid value encountered in greater\n",
      "/g/data3/hh5/public/apps/miniconda3/envs/analysis3-18.07/lib/python3.6/site-packages/ipykernel/__main__.py:233: RuntimeWarning: invalid value encountered in greater\n",
      "/g/data3/hh5/public/apps/miniconda3/envs/analysis3-18.07/lib/python3.6/site-packages/ipykernel/__main__.py:234: RuntimeWarning: invalid value encountered in less\n",
      "/g/data3/hh5/public/apps/miniconda3/envs/analysis3-18.07/lib/python3.6/site-packages/ipykernel/__main__.py:235: RuntimeWarning: invalid value encountered in less\n",
      "/g/data3/hh5/public/apps/miniconda3/envs/analysis3-18.07/lib/python3.6/site-packages/ipykernel/__main__.py:236: RuntimeWarning: invalid value encountered in less\n",
      "/g/data3/hh5/public/apps/miniconda3/envs/analysis3-18.07/lib/python3.6/site-packages/ipykernel/__main__.py:237: RuntimeWarning: invalid value encountered in less\n",
      "/g/data3/hh5/public/apps/miniconda3/envs/analysis3-18.07/lib/python3.6/site-packages/ipykernel/__main__.py:239: RuntimeWarning: invalid value encountered in less\n"
     ]
    },
    {
     "name": "stdout",
     "output_type": "stream",
     "text": [
      "(188,)\n",
      "(132,)\n",
      "(132, 188)\n",
      "(132, 188)\n",
      "(132, 188)\n",
      "(132, 188)\n",
      "(132, 188)\n"
     ]
    },
    {
     "data": {
      "image/png": "[encoded data removed]",
      "text/plain": [
       "<Figure size 540x864 with 18 Axes>"
      ]
     },
     "metadata": {
      "needs_background": "light"
     },
     "output_type": "display_data"
    }
   ],
   "source": [
    "from mpl_toolkits.axes_grid1.axes_divider import make_axes_locatable\n",
    "def arange(start,end,stride=1):\n",
    "    return np.arange(start,end+0.00000001,stride)\n",
    "\n",
    "fig = plt.figure() \n",
    "fig.set_size_inches(7.5,12)\n",
    "matplotlib.rcParams.update({'font.size': 6}) \n",
    "col = 3\n",
    "row = 6\n",
    "\n",
    "ax = plt.subplot2grid((row, col), (1, 0), rowspan=1, colspan=1)\n",
    "cont_lev = arange(-0.03,0.03,0.005)\n",
    "anom = tau_x_rcp85 - tau_x_hist5069\n",
    "contf = anom.plot.contourf(add_colorbar=False, levels=cont_lev, cmap=plt.cm.PRGn, extend='both')\n",
    "plt.grid()\n",
    "plt.title(r'a) $\\tau^{x}_{a}$', loc='left')\n",
    "plt.xlabel('')\n",
    "plt.ylabel('')\n",
    "plt.gca().set_xticklabels('')\n",
    "ax.set_facecolor('gray')\n",
    "ax = plt.subplot2grid((row, col), (0, 0), rowspan=1, colspan=1)\n",
    "ax_divider = make_axes_locatable(ax)\n",
    "cax = ax_divider.append_axes(\"bottom\", size=\"7%\", pad=\"2%\")\n",
    "cbar = plt.colorbar(contf, cax=cax, orientation='horizontal', drawedges=True)\n",
    "cbar.set_ticks([-0.03, -0.015, 0, 0.015, 0.03])\n",
    "cbar.set_ticklabels(['-0.03', '-0.015', '0', '0.015', '0.03'])\n",
    "cbar.set_label(r'$N\\ m^{-2}$') \n",
    "ax.axis('off')\n",
    "\n",
    "\n",
    "\n",
    "ax = plt.subplot2grid((row, col), (1, 1), rowspan=1, colspan=1)\n",
    "cont_lev = arange(-2,2,0.25)\n",
    "anom = SST_rcp85 - SST_hist5069\n",
    "contf = anom.plot.contourf(add_colorbar=False, levels=cont_lev, cmap=plt.cm.seismic, extend='both')\n",
    "plt.title('')\n",
    "plt.grid()\n",
    "plt.title('b) $SST_{a}$', loc='left')\n",
    "plt.xlabel('')\n",
    "plt.ylabel('')\n",
    "ax.set_facecolor('gray')\n",
    "plt.gca().set_yticklabels('')\n",
    "ax = plt.subplot2grid((row, col), (0, 1), rowspan=1, colspan=1)\n",
    "ax_divider = make_axes_locatable(ax)\n",
    "cax = ax_divider.append_axes(\"bottom\", size=\"7%\", pad=\"2%\")\n",
    "cbar = plt.colorbar(contf, cax=cax, orientation='horizontal', drawedges=True)\n",
    "# cbar.set_ticks([-0.02, -0.01, 0, 0.01, 0.02])\n",
    "cbar.set_label(r'$^{\\circ}C$') \n",
    "ax.axis('off')\n",
    "\n",
    "\n",
    "ax = plt.subplot2grid((row, col), (1, 2), rowspan=1, colspan=1)\n",
    "cont_lev = arange(-15,15,2.5)\n",
    "anom = sea_level_rcp85 - sea_level_hist5069\n",
    "contf = anom.plot.contourf(add_colorbar=False, levels=cont_lev, cmap=plt.cm.BrBG, extend='both')\n",
    "plt.title('')\n",
    "plt.grid()\n",
    "plt.title(r'c) $\\eta_{a}$', loc='left')\n",
    "plt.xlabel('')\n",
    "plt.ylabel('')\n",
    "plt.gca().set_xticklabels('')\n",
    "ax.set_facecolor('gray')\n",
    "plt.gca().set_yticklabels('')\n",
    "ax = plt.subplot2grid((row, col), (0, 2), rowspan=1, colspan=1)\n",
    "ax_divider = make_axes_locatable(ax)\n",
    "cax = ax_divider.append_axes(\"bottom\", size=\"7%\", pad=\"2%\")\n",
    "cbar = plt.colorbar(contf, cax=cax, orientation='horizontal', drawedges=True)\n",
    "# cbar.set_ticks([-0.02, -0.01, 0, 0.01, 0.02])\n",
    "cbar.set_label(r'$cm$') \n",
    "ax.axis('off')\n",
    "\n",
    "\n",
    "ax = plt.subplot2grid((row, col), (2, 2), rowspan=1, colspan=1)\n",
    "cont_lev = arange(-30,30,5)\n",
    "anom = net_sfc_heating_rcp85 - net_sfc_heating_hist5069\n",
    "contf1 = anom.plot.contourf(add_colorbar=False, levels=cont_lev, cmap=plt.cm.seismic, extend='both')\n",
    "plt.title('')\n",
    "plt.grid()\n",
    "plt.title(r'e) $Q_{a}$', loc='left')\n",
    "plt.xlabel('')\n",
    "plt.ylabel('')\n",
    "ax.set_facecolor('gray')\n",
    "plt.gca().set_yticklabels('')\n",
    "# ax = plt.subplot2grid((row, col), (2, 1), rowspan=1, colspan=1)\n",
    "# ax_divider = make_axes_locatable(ax)\n",
    "# cax = ax_divider.append_axes(\"left\", size=\"7%\", pad=\"2%\")\n",
    "# cbar = plt.colorbar(contf1, cax=cax, orientation='vertical', drawedges=True)\n",
    "# # cbar.set_ticks([-0.02, -0.01, 0, 0.01, 0.02])\n",
    "# cbar.set_label(r'$W/m2$') \n",
    "# ax.axis('off')\n",
    "\n",
    "\n",
    "# ax = plt.subplot2grid((row, col), (2, 1), rowspan=1, colspan=1)\n",
    "# cont_lev = arange(-0.00000001, 0.00000001, 0.000000001)\n",
    "# anom = tau_curl_rcp85 - tau_curl_hist5069\n",
    "# contf = anom.plot.contourf(add_colorbar=False, levels=cont_lev, cmap=plt.cm.seismic, extend='both')\n",
    "# plt.title('')\n",
    "# plt.grid()\n",
    "# plt.title(r'e) Meridional velocity (cm/s)', loc='left')\n",
    "# plt.xlabel('')\n",
    "# plt.ylabel('')\n",
    "# ax.set_facecolor('gray')\n",
    "# plt.gca().set_yticklabels('')\n",
    "# ax = plt.subplot2grid((row, col), (3, 1), rowspan=1, colspan=1)\n",
    "# ax_divider = make_axes_locatable(ax)\n",
    "# cax = ax_divider.append_axes(\"top\", size=\"7%\", pad=\"2%\")\n",
    "# cbar = plt.colorbar(contf, cax=cax, orientation='horizontal', drawedges=True)\n",
    "# # cbar.set_ticks([-0.02, -0.01, 0, 0.01, 0.02])\n",
    "# cbar.set_label(r'$cm/s$') \n",
    "# ax.axis('off')\n",
    "\n",
    "\n",
    "ax = plt.subplot2grid((row, col), (2, 0), rowspan=1, colspan=1)\n",
    "cont_lev = arange(-0.0000001,0.0000001,0.00000002)\n",
    "anom = tau_curl_rcp85 - tau_curl_hist5069\n",
    "contf2 = anom.plot.contourf(add_colorbar=False, levels=cont_lev, cmap=plt.cm.seismic, extend='both')\n",
    "plt.title('')\n",
    "plt.grid()\n",
    "plt.title(r'd) $\\nabla\\ \\times\\ \\tau_{a}$', loc='left')\n",
    "plt.xlabel('')\n",
    "plt.ylabel('')\n",
    "ax.set_facecolor('gray')\n",
    "# plt.gca().set_yticklabels('')\n",
    "ax = plt.subplot2grid((row, col), (2, 1), rowspan=1, colspan=1)\n",
    "ax_divider = make_axes_locatable(ax)\n",
    "cax = ax_divider.append_axes(\"right\", size=\"7%\", pad=\"2%\")\n",
    "cbar = plt.colorbar(contf1, cax=cax, orientation='vertical', drawedges=True)\n",
    "cbar.ax.yaxis.tick_left()\n",
    "cbar.ax.yaxis.set_label_position('left')\n",
    "# cbar.set_ticks([-0.02, -0.01, 0, 0.01, 0.02])\n",
    "cbar.set_label(r'$W\\ m^{-2}$')\n",
    "cax = ax_divider.append_axes(\"left\", size=\"7%\", pad=\"2%\")\n",
    "cbar = plt.colorbar(contf2, cax=cax, orientation='vertical', drawedges=True)\n",
    "# cbar.set_ticks([-0.02, -0.01, 0, 0.01, 0.02])\n",
    "cbar.set_label(r'$N\\ m^{-3}$') \n",
    "ax.axis('off')\n",
    "\n",
    "\n",
    "\n",
    "# ax = plt.subplot2grid((row, col), (3, 0), rowspan=2, colspan=2)\n",
    "# cont_lev = arange(-6, 6, 1)\n",
    "# u_anom = u_rcp85 - u_hist5069\n",
    "# v_anom = v_rcp85 - v_hist5069\n",
    "# X_LIM = [100, 170]\n",
    "# Y_LIM = [-47, -20]\n",
    "# X = v_anom.xu_ocean[\n",
    "#     find_nearest_index(v_anom.xu_ocean.data, X_LIM[0]):find_nearest_index(v_anom.xu_ocean.data, X_LIM[1])]\n",
    "# Y = v_anom.yu_ocean[\n",
    "#     find_nearest_index(v_anom.yu_ocean.data, Y_LIM[0]):find_nearest_index(v_anom.yu_ocean.data, Y_LIM[1])]\n",
    "# Xm, Ym = np.meshgrid(X,Y)\n",
    "# U = np.array(u_anom[\n",
    "#     find_nearest_index(v_anom.yu_ocean.data, Y_LIM[0]):find_nearest_index(v_anom.yu_ocean.data, Y_LIM[1]),\n",
    "#     find_nearest_index(v_anom.xu_ocean.data, X_LIM[0]):find_nearest_index(v_anom.xu_ocean.data, X_LIM[1])\n",
    "# ])\n",
    "# V = np.array(v_anom[\n",
    "#     find_nearest_index(v_anom.yu_ocean.data, Y_LIM[0]):find_nearest_index(v_anom.yu_ocean.data, Y_LIM[1]),\n",
    "#     find_nearest_index(v_anom.xu_ocean.data, X_LIM[0]):find_nearest_index(v_anom.xu_ocean.data, X_LIM[1])\n",
    "# ])\n",
    "# speed = np.sqrt(U**2 + V**2)\n",
    "# contf = plt.contourf(X, Y, V, add_colorbar=False, \n",
    "#                      levels=cont_lev, cmap=plt.cm.coolwarm, extend='both')\n",
    "\n",
    "# anom = sea_level_rcp85 - sea_level_hist5069\n",
    "# X = anom.xt_ocean[\n",
    "#     find_nearest_index(anom.xt_ocean.data, X_LIM[0]):find_nearest_index(anom.xt_ocean.data, X_LIM[1])]\n",
    "# Y = anom.yt_ocean[\n",
    "#     find_nearest_index(anom.yt_ocean.data, Y_LIM[0]):find_nearest_index(anom.yt_ocean.data, Y_LIM[1])]\n",
    "# Xm, Ym = np.meshgrid(X,Y)\n",
    "# ANOM = np.array(anom[\n",
    "#     find_nearest_index(anom.yt_ocean.data, Y_LIM[0]):find_nearest_index(anom.yt_ocean.data, Y_LIM[1]),\n",
    "#     find_nearest_index(anom.xt_ocean.data, X_LIM[0]):find_nearest_index(anom.xt_ocean.data, X_LIM[1])\n",
    "# ])\n",
    "\n",
    "# for l in arange(1, 7, 1):\n",
    "#     CS = plt.contour(X, Y, ANOM, colors='k', levels=[l], linewidths=l/5)\n",
    "#     plt.clabel(CS, inline=3, fontsize=7, fmt='%1.0f')\n",
    "\n",
    "# for l in arange(-4, -1, 1):\n",
    "#     CS = plt.contour(X, Y, ANOM, colors='k', levels=[l], linewidths=abs(l)/2.5, linestyles='--')\n",
    "#     plt.clabel(CS, inline=3, fontsize=7, fmt='%1.0f')\n",
    "\n",
    "\n",
    "# plt.title('')\n",
    "# plt.grid()\n",
    "# plt.title('f) $v_{a}$ and $\\eta_{a}$', loc='left')\n",
    "# plt.xlabel('')\n",
    "# plt.ylabel('')\n",
    "# ax.set_facecolor('gray')\n",
    "# ax = plt.subplot2grid((row, col), (5, 0), rowspan=1, colspan=2)\n",
    "# ax_divider = make_axes_locatable(ax)\n",
    "# cax1 = ax_divider.append_axes(\"top\", size=\"8%\", pad=\"2%\")\n",
    "# cbar = plt.colorbar(contf, cax=cax1, orientation='horizontal', drawedges=True)\n",
    "# cbar.set_label(r'$cm\\ s^{-1}$') \n",
    "# cbar.ax.set_title('$v_{a}$')\n",
    "# # cax2 = ax_divider.append_axes(\"top\", size=\"12%\", pad=\"80%\")\n",
    "# # cbar = plt.colorbar(Q2, cax=cax2, orientation='horizontal', drawedges=True, extend='max')\n",
    "# # cbar.set_ticks(Q_lev)\n",
    "# # cbar.set_label(r'$cm\\ s^{-1}$')\n",
    "# # cbar.ax.set_title('$Speed_{a}$ (only for $|u_{a}| > ' + str(tol) + '\\ cm\\ s^{-1}$)')\n",
    "# ax.axis('off')\n",
    "\n",
    "\n",
    "ax = plt.subplot2grid((row, col), (3, 0), rowspan=2, colspan=2)\n",
    "cont_lev = arange(-6, 6, 1)\n",
    "u_anom = u_rcp85 - u_hist5069\n",
    "v_anom = v_rcp85 - v_hist5069\n",
    "X_LIM = [100, 147]\n",
    "Y_LIM = [-47, -20]\n",
    "X = v_anom.xu_ocean[\n",
    "    find_nearest_index(v_anom.xu_ocean.data, X_LIM[0]):find_nearest_index(v_anom.xu_ocean.data, X_LIM[1])]\n",
    "Y = v_anom.yu_ocean[\n",
    "    find_nearest_index(v_anom.yu_ocean.data, Y_LIM[0]):find_nearest_index(v_anom.yu_ocean.data, Y_LIM[1])]\n",
    "Xm, Ym = np.meshgrid(X,Y)\n",
    "U = np.array(u_anom[\n",
    "    find_nearest_index(v_anom.yu_ocean.data, Y_LIM[0]):find_nearest_index(v_anom.yu_ocean.data, Y_LIM[1]),\n",
    "    find_nearest_index(v_anom.xu_ocean.data, X_LIM[0]):find_nearest_index(v_anom.xu_ocean.data, X_LIM[1])\n",
    "])\n",
    "V = np.array(v_anom[\n",
    "    find_nearest_index(v_anom.yu_ocean.data, Y_LIM[0]):find_nearest_index(v_anom.yu_ocean.data, Y_LIM[1]),\n",
    "    find_nearest_index(v_anom.xu_ocean.data, X_LIM[0]):find_nearest_index(v_anom.xu_ocean.data, X_LIM[1])\n",
    "])\n",
    "contf = plt.contourf(X, Y, V, add_colorbar=False, levels=cont_lev, cmap=plt.cm.coolwarm, extend='both')\n",
    "plt.title('')\n",
    "n = 3\n",
    "\n",
    "speed = np.sqrt(U**2 + V**2)\n",
    "U1 = cp(U)\n",
    "V1 = cp(V)\n",
    "U2 = U / speed\n",
    "V2 = V / speed\n",
    "tol = 2\n",
    "U1[speed > tol] = np.NaN\n",
    "V1[speed > tol] = np.NaN\n",
    "U1[speed < 1.5] = np.NaN\n",
    "V1[speed < 1.5] = np.NaN\n",
    "U2[speed < tol] = np.NaN\n",
    "V2[speed < tol] = np.NaN\n",
    "speed2 = cp(speed)\n",
    "speed2[speed < tol] = np.NaN\n",
    "\n",
    "vmin=tol\n",
    "vmax=5\n",
    "step=6\n",
    "Q_lev = np.linspace(vmin, vmax, step+1)\n",
    "norm = matplotlib.colors.Normalize(vmin=vmin,vmax=vmax,clip=False)\n",
    "cmap = matplotlib.colors.ListedColormap(plt.cm.Greys(np.linspace(0,1,step)), \"name\")\n",
    "\n",
    "print(X.shape)\n",
    "print(Y.shape)\n",
    "print(U1.shape)\n",
    "print(V1.shape)\n",
    "print(U2.shape)\n",
    "print(V2.shape)\n",
    "print(speed.shape)\n",
    "\n",
    "Q1 = plt.quiver(X[0:188:n], \n",
    "                Y[0:132:n], \n",
    "                U1[0:132:n, 0:188:n], \n",
    "                V1[0:132:n, 0:188:n],\n",
    "                norm=norm,\n",
    "                width=0.0015, scale=100,\n",
    "                headwidth=4.5, headaxislength=3.75, \n",
    "                facecolor='w', edgecolor='k', linewidth=0.2)\n",
    "\n",
    "Q2 = plt.quiver(X[0:188:n], \n",
    "                Y[0:132:n], \n",
    "                U2[0:132:n, 0:188:n], \n",
    "                V2[0:132:n, 0:188:n],\n",
    "                speed2[0:132:n, 0:188:n],\n",
    "                cmap=cmap, norm=norm,\n",
    "                width=0.0017, scale=60,\n",
    "                headwidth=4.5, headaxislength=3.75, \n",
    "                edgecolor='k', linewidth=0.2)\n",
    "\n",
    "plt.grid()\n",
    "plt.title('f) $u_{a},v_{a}$', loc='left')\n",
    "plt.xlabel('')\n",
    "plt.ylabel('')\n",
    "ax.set_facecolor('gray')\n",
    "ax = plt.subplot2grid((row, col), (5, 0), rowspan=1, colspan=2)\n",
    "ax_divider = make_axes_locatable(ax)\n",
    "cax1 = ax_divider.append_axes(\"top\", size=\"12%\", pad=\"2%\")\n",
    "cbar = plt.colorbar(contf, cax=cax1, orientation='horizontal', drawedges=True)\n",
    "cbar.set_label(r'$cm\\ s^{-1}$') \n",
    "cbar.ax.set_title('$v_{a}$')\n",
    "cax2 = ax_divider.append_axes(\"top\", size=\"12%\", pad=\"80%\")\n",
    "cbar = plt.colorbar(Q2, cax=cax2, orientation='horizontal', drawedges=True, extend='both')\n",
    "cbar.set_ticks(Q_lev)\n",
    "cbar.set_label(r'$cm\\ s^{-1}$')\n",
    "cbar.ax.set_title('$Speed_{a}$')\n",
    "ax.axis('off')\n",
    "\n",
    "\n",
    "# ax = plt.subplot2grid((row, col), (2, 2), rowspan=2, colspan=1)\n",
    "# cont_lev = arange(-25, 25, 5)\n",
    "# u_anom = u_rcp85 - u_hist5069\n",
    "# v_anom = v_rcp85 - v_hist5069\n",
    "# X_LIM = [147, 165]\n",
    "# X = v_anom.xu_ocean[\n",
    "#     find_nearest_index(v_anom.xu_ocean.data, X_LIM[0]):find_nearest_index(v_anom.xu_ocean.data, X_LIM[1])]\n",
    "# Xm, Ym = np.meshgrid(X,Y)\n",
    "# U = np.array(u_anom[\n",
    "#     find_nearest_index(v_anom.yu_ocean.data, Y_LIM[0]):find_nearest_index(v_anom.yu_ocean.data, Y_LIM[1]),\n",
    "#     find_nearest_index(v_anom.xu_ocean.data, X_LIM[0]):find_nearest_index(v_anom.xu_ocean.data, X_LIM[1])\n",
    "# ])\n",
    "# V = np.array(v_anom[\n",
    "#     find_nearest_index(v_anom.yu_ocean.data, Y_LIM[0]):find_nearest_index(v_anom.yu_ocean.data, Y_LIM[1]),\n",
    "#     find_nearest_index(v_anom.xu_ocean.data, X_LIM[0]):find_nearest_index(v_anom.xu_ocean.data, X_LIM[1])\n",
    "# ])\n",
    "# contf = plt.contourf(X, Y, V, add_colorbar=False, levels=cont_lev, cmap=plt.cm.RdGy_r, extend='both')\n",
    "# plt.title('')\n",
    "\n",
    "# speed = np.sqrt(U**2 + V**2)\n",
    "# U1 = cp(U)\n",
    "# V1 = cp(V)\n",
    "# U2 = U / speed\n",
    "# V2 = V / speed\n",
    "# tol = 3\n",
    "# U1[abs(U) < tol] = np.NaN\n",
    "# V1[abs(U) < tol] = np.NaN\n",
    "# U2[abs(U) < tol] = np.NaN\n",
    "# V2[abs(U) < tol] = np.NaN\n",
    "# speed2 = speed\n",
    "# speed2[abs(U) < tol] = np.NaN\n",
    "\n",
    "# vmin=tol\n",
    "# vmax=15.\n",
    "# step=6\n",
    "# Q_lev = np.linspace(vmin, vmax, step+1)\n",
    "# norm = matplotlib.colors.Normalize(vmin=vmin,vmax=vmax,clip=False)\n",
    "# cmap = matplotlib.colors.ListedColormap(plt.cm.viridis(np.linspace(0,1,step)), \"name\")\n",
    "\n",
    "# Q2 = plt.quiver(X[0:72:n], \n",
    "#                 Y[0:132:n], \n",
    "#                 U2[0:132:n, 0:72:n], \n",
    "#                 V2[0:132:n, 0:72:n],\n",
    "#                 speed2[0:132:n, 0:168:n],\n",
    "#                 cmap=cmap, norm=norm,\n",
    "#                 width=0.008, scale=17.5,\n",
    "#                 headwidth=5, headaxislength=3.5, \n",
    "#                 edgecolor='k', linewidth=0.2)\n",
    "\n",
    "# plt.grid()\n",
    "# plt.title('e) $u_{a},v_{a}$', loc='left')\n",
    "# plt.xlabel('')\n",
    "# plt.ylabel('')\n",
    "# plt.xticks(arange(150,160,5))\n",
    "# plt.gca().set_yticklabels('')\n",
    "# ax.set_facecolor('gray')\n",
    "# ax = plt.subplot2grid((row, col), (4, 2), rowspan=1, colspan=1)\n",
    "# ax_divider = make_axes_locatable(ax)\n",
    "# cax1 = ax_divider.append_axes(\"top\", size=\"12%\", pad=\"2%\")\n",
    "# cbar = plt.colorbar(contf, cax=cax1, orientation='horizontal', drawedges=True)\n",
    "# cbar.set_label(r'$cm\\ s^{-1}$') \n",
    "# cbar.ax.set_title('$v_{a}$')\n",
    "# cax2 = ax_divider.append_axes(\"top\", size=\"12%\", pad=\"80%\")\n",
    "# cbar = plt.colorbar(Q2, cax=cax2, orientation='horizontal', drawedges=True, extend='max')\n",
    "# cbar.set_ticks(Q_lev)\n",
    "# cbar.set_label(r'$cm\\ s^{-1}$')\n",
    "# cbar.ax.set_title('$Speed_{a}$ (only for $|u_{a}| > ' + str(tol) + '\\ cm\\ s^{-1}$)')\n",
    "# ax.axis('off')\n",
    "\n",
    "\n",
    "\n",
    "fig.tight_layout(pad=0, w_pad=-1.5, h_pad=0)\n",
    "\n",
    "# output_ls = os.listdir(figures_path)\n",
    "# if not script_name:\n",
    "#     script_name = 'test'\n",
    "# elif script_name not in output_ls:\n",
    "#     os.mkdir(figures_path + '/' + script_name)\n",
    "# plt.savefig(figures_path + '/' + script_name + '/' + script_name[0:3] \\\n",
    "#             + '_fig3_.png', bbox_inches='tight', dpi=300)"
   ]
  },
  {
   "cell_type": "code",
   "execution_count": null,
   "metadata": {},
   "outputs": [],
   "source": []
  },
  {
   "cell_type": "code",
   "execution_count": null,
   "metadata": {},
   "outputs": [],
   "source": []
  },
  {
   "cell_type": "code",
   "execution_count": null,
   "metadata": {},
   "outputs": [],
   "source": []
  },
  {
   "cell_type": "code",
   "execution_count": null,
   "metadata": {},
   "outputs": [],
   "source": []
  },
  {
   "cell_type": "code",
   "execution_count": null,
   "metadata": {},
   "outputs": [],
   "source": []
  },
  {
   "cell_type": "code",
   "execution_count": null,
   "metadata": {},
   "outputs": [],
   "source": []
  },
  {
   "cell_type": "code",
   "execution_count": null,
   "metadata": {},
   "outputs": [],
   "source": []
  }
 ],
 "metadata": {
  "kernelspec": {
   "display_name": "Python [conda env:analysis3-18.07]",
   "language": "python",
   "name": "conda-env-analysis3-18.07-py"
  },
  "language_info": {
   "codemirror_mode": {
    "name": "ipython",
    "version": 3
   },
   "file_extension": ".py",
   "mimetype": "text/x-python",
   "name": "python",
   "nbconvert_exporter": "python",
   "pygments_lexer": "ipython3",
   "version": "3.6.6"
  }
 },
 "nbformat": 4,
 "nbformat_minor": 2
}
